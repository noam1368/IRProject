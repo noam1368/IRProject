{
  "nbformat": 4,
  "nbformat_minor": 0,
  "metadata": {
    "colab": {
      "provenance": []
    },
    "kernelspec": {
      "name": "python3",
      "display_name": "Python 3"
    },
    "language_info": {
      "name": "python"
    }
  },
  "cells": [
    {
      "cell_type": "code",
      "source": [
        "# download nltk stopwords\n",
        "import nltk\n",
        "nltk.download('stopwords')"
      ],
      "metadata": {
        "id": "bCPDHP7zTQJZ",
        "colab": {
          "base_uri": "https://localhost:8080/"
        },
        "outputId": "fe19d5d8-9aa2-4caf-8f68-367d0868246a"
      },
      "execution_count": null,
      "outputs": [
        {
          "output_type": "stream",
          "name": "stderr",
          "text": [
            "[nltk_data] Downloading package stopwords to /root/nltk_data...\n",
            "[nltk_data]   Package stopwords is already up-to-date!\n"
          ]
        },
        {
          "output_type": "execute_result",
          "data": {
            "text/plain": [
              "True"
            ]
          },
          "metadata": {},
          "execution_count": 1
        }
      ]
    },
    {
      "cell_type": "code",
      "source": [
        "# Install a particular version of `google-cloud-storage` because (oddly enough) \n",
        "# the  version on Colab and GCP is old. A dependency error below is okay.\n",
        "!pip install -q google-cloud-storage==1.43.0"
      ],
      "metadata": {
        "id": "lAt6KT8xOgHH"
      },
      "execution_count": null,
      "outputs": []
    },
    {
      "cell_type": "code",
      "source": [
        "# authenticate below for Google Storage access as needed\n",
        "from google.colab import auth\n",
        "auth.authenticate_user()"
      ],
      "metadata": {
        "id": "-oKFly5jFLFn"
      },
      "execution_count": null,
      "outputs": []
    },
    {
      "cell_type": "code",
      "source": [
        "# install ngrok to emulate public IP / address\n",
        "!wget -N https://bin.equinox.io/c/4VmDzA7iaHb/ngrok-stable-linux-amd64.zip -O ngrok-stable-linux-amd64.zip\n",
        "!unzip -u ngrok-stable-linux-amd64.zip"
      ],
      "metadata": {
        "id": "FrBdFNYgiyab",
        "colab": {
          "base_uri": "https://localhost:8080/"
        },
        "outputId": "fbd54ea7-375e-4eca-8162-13acfe9176f1"
      },
      "execution_count": null,
      "outputs": [
        {
          "output_type": "stream",
          "name": "stdout",
          "text": [
            "WARNING: timestamping does nothing in combination with -O. See the manual\n",
            "for details.\n",
            "\n",
            "--2023-01-13 14:20:08--  https://bin.equinox.io/c/4VmDzA7iaHb/ngrok-stable-linux-amd64.zip\n",
            "Resolving bin.equinox.io (bin.equinox.io)... 18.205.222.128, 54.161.241.46, 54.237.133.81, ...\n",
            "Connecting to bin.equinox.io (bin.equinox.io)|18.205.222.128|:443... connected.\n",
            "HTTP request sent, awaiting response... 200 OK\n",
            "Length: 13832437 (13M) [application/octet-stream]\n",
            "Saving to: ‘ngrok-stable-linux-amd64.zip’\n",
            "\n",
            "ngrok-stable-linux- 100%[===================>]  13.19M  12.6MB/s    in 1.0s    \n",
            "\n",
            "2023-01-13 14:20:10 (12.6 MB/s) - ‘ngrok-stable-linux-amd64.zip’ saved [13832437/13832437]\n",
            "\n",
            "Archive:  ngrok-stable-linux-amd64.zip\n",
            "  inflating: ngrok                   \n"
          ]
        }
      ]
    },
    {
      "cell_type": "code",
      "source": [
        "# TODO: sign up for an ngrok account\n",
        "# then put your ngrok token below, uncomment, and execute\n",
        "!./ngrok authtoken 22KeqcMQYpd2iRnsaZZOzlyaNw0_5NAk69pXRUMvfrf1oCNpU"
      ],
      "metadata": {
        "id": "xA-_dKEZbsXW",
        "colab": {
          "base_uri": "https://localhost:8080/"
        },
        "outputId": "9fca3bd9-9a0e-463a-f523-096316cdf992"
      },
      "execution_count": null,
      "outputs": [
        {
          "output_type": "stream",
          "name": "stdout",
          "text": [
            "Authtoken saved to configuration file: /root/.ngrok2/ngrok.yml\n"
          ]
        }
      ]
    },
    {
      "cell_type": "code",
      "execution_count": null,
      "metadata": {
        "id": "nXn5PlyGORQr",
        "colab": {
          "base_uri": "https://localhost:8080/"
        },
        "outputId": "c823bfa1-f532-408f-be82-66cc63c64383"
      },
      "outputs": [
        {
          "output_type": "stream",
          "name": "stdout",
          "text": [
            "\u001b[?25l\r\u001b[K     |████                            | 10 kB 22.2 MB/s eta 0:00:01\r\u001b[K     |████████                        | 20 kB 26.8 MB/s eta 0:00:01\r\u001b[K     |███████████▉                    | 30 kB 31.0 MB/s eta 0:00:01\r\u001b[K     |███████████████▉                | 40 kB 16.2 MB/s eta 0:00:01\r\u001b[K     |███████████████████▊            | 51 kB 9.8 MB/s eta 0:00:01\r\u001b[K     |███████████████████████▊        | 61 kB 7.6 MB/s eta 0:00:01\r\u001b[K     |███████████████████████████▋    | 71 kB 8.1 MB/s eta 0:00:01\r\u001b[K     |███████████████████████████████▋| 81 kB 9.0 MB/s eta 0:00:01\r\u001b[K     |████████████████████████████████| 83 kB 916 kB/s \n",
            "\u001b[?25h"
          ]
        }
      ],
      "source": [
        "# install a ngrok python package and a version of flask that works with it in \n",
        "# colab\n",
        "!pip -q install flask-ngrok\n",
        "!pip -q install flask==0.12.2\n",
        "# !pip -q install flask_restful"
      ]
    },
    {
      "cell_type": "markdown",
      "source": [
        "# Run the app"
      ],
      "metadata": {
        "id": "6dW0y91OVu5J"
      }
    },
    {
      "cell_type": "code",
      "source": [
        "# you need to upload your implementation of search_app.py\n",
        "import search_frontend as se"
      ],
      "metadata": {
        "id": "7opNkV6uRHIv"
      },
      "execution_count": null,
      "outputs": []
    },
    {
      "cell_type": "code",
      "source": [
        "# uncomment the code below and execute to reload the module when you make \n",
        "# changes to search_frontend.py (after you upload again).\n",
        "# import importlib\n",
        "# importlib.reload(se)"
      ],
      "metadata": {
        "id": "oTGXXYEXV5l8"
      },
      "execution_count": null,
      "outputs": []
    },
    {
      "cell_type": "code",
      "source": [
        "from flask_ngrok import run_with_ngrok\n",
        "run_with_ngrok(se.app) \n",
        "se.app.run()"
      ],
      "metadata": {
        "id": "J5n9u9rFP_wD",
        "colab": {
          "base_uri": "https://localhost:8080/"
        },
        "outputId": "1fa290ab-72a6-4262-cb71-9316490b3c69"
      },
      "execution_count": null,
      "outputs": [
        {
          "output_type": "stream",
          "name": "stderr",
          "text": [
            " * Running on http://127.0.0.1:5000/ (Press CTRL+C to quit)\n"
          ]
        },
        {
          "output_type": "stream",
          "name": "stdout",
          "text": [
            " * Running on http://c271-34-125-136-123.ngrok.io\n",
            " * Traffic stats available on http://127.0.0.1:4040\n"
          ]
        },
        {
          "output_type": "stream",
          "name": "stderr",
          "text": [
            "127.0.0.1 - - [04/Jan/2022 08:48:13] \"\u001b[37mGET /search?query=hello HTTP/1.1\u001b[0m\" 200 -\n",
            "127.0.0.1 - - [04/Jan/2022 08:48:13] \"\u001b[33mGET /favicon.ico HTTP/1.1\u001b[0m\" 404 -\n",
            "127.0.0.1 - - [04/Jan/2022 08:49:10] \"\u001b[37mGET /search_body?query=hello HTTP/1.1\u001b[0m\" 200 -\n",
            "127.0.0.1 - - [04/Jan/2022 08:49:10] \"\u001b[33mGET /favicon.ico HTTP/1.1\u001b[0m\" 404 -\n"
          ]
        }
      ]
    },
    {
      "cell_type": "markdown",
      "source": [
        "# Testing your app\n",
        "\n",
        "Once your app is running you can query it. You can simply do that by navigating to the URL that ngrok gave you above or through code in a different python session. For example, once the frontend app is running, you can navigate to:\n",
        "http://YOUR_SERVER_DOMAIN/search?query=hello+world where YOUR_SERVER_DOMAIN is something like XXXX-XX-XX-XX-XX.ngrok.io, which is printed above in Colab or that is your external IP on GCP.\n",
        "\n",
        "The code below shows how to issue a query from python. This is also how our testing code will issue queries to your search engine, so make sure to test your search engine this way after you deploy it to GCP and before submission. Command line instructions for deploying your search engine to GCP are available at `run_frontend_in_gcp.sh`. Note that we will not only issue training queries to your search engine, but also test queries, i.e. queries that you've never seen before."
      ],
      "metadata": {
        "id": "Na0MC_1nzDbi"
      }
    },
    {
      "cell_type": "code",
      "source": [
        "import sys\n",
        "from collections import Counter, OrderedDict\n",
        "import itertools\n",
        "from itertools import islice, count, groupby\n",
        "import pandas as pd\n",
        "import os\n",
        "import re\n",
        "from operator import itemgetter\n",
        "import nltk\n",
        "from nltk.stem.porter import *\n",
        "from nltk.corpus import stopwords\n",
        "from time import time\n",
        "from timeit import timeit\n",
        "from pathlib import Path\n",
        "import pickle\n",
        "import pandas as pd\n",
        "import numpy as np\n",
        "from google.cloud import storage\n",
        "\n",
        "import hashlib\n",
        "def _hash(s):\n",
        "    return hashlib.blake2b(bytes(s, encoding='utf8'), digest_size=5).hexdigest()\n",
        "\n",
        "nltk.download('stopwords')"
      ],
      "metadata": {
        "colab": {
          "base_uri": "https://localhost:8080/"
        },
        "id": "ABIFvXUTIreP",
        "outputId": "375f5a05-2cf8-462c-e0bc-951d556d3a98"
      },
      "execution_count": 1,
      "outputs": [
        {
          "output_type": "stream",
          "name": "stderr",
          "text": [
            "[nltk_data] Downloading package stopwords to /root/nltk_data...\n",
            "[nltk_data]   Unzipping corpora/stopwords.zip.\n"
          ]
        },
        {
          "output_type": "execute_result",
          "data": {
            "text/plain": [
              "True"
            ]
          },
          "metadata": {},
          "execution_count": 1
        }
      ]
    },
    {
      "cell_type": "code",
      "source": [
        "TUPLE_SIZE = 6       # We're going to pack the doc_id and tf values in this many bytes.\n",
        "TF_MASK = 2 ** 16 - 1 # Masking the 16 low bits of an integer\n",
        "\n",
        "nltk.download('stopwords')\n",
        "english_stopwords = frozenset(stopwords.words('english'))\n",
        "corpus_stopwords = [\"category\", \"references\", \"also\", \"external\", \"links\",\n",
        "                    \"may\", \"first\", \"see\", \"history\", \"people\", \"one\", \"two\",\n",
        "                    \"part\", \"thumb\", \"including\", \"second\", \"following\",\n",
        "                    \"many\", \"however\", \"would\", \"became\"]\n",
        "\n",
        "all_stopwords = english_stopwords.union(corpus_stopwords) #this is containing all the stop words\n",
        "RE_WORD = re.compile(r\"\"\"[\\#\\@\\w](['\\-]?\\w){2,24}\"\"\", re.UNICODE)\n",
        "\n",
        "def tokenize(text):\n",
        "    \"\"\"\n",
        "    This function aims in tokenize a text into a list of tokens. Moreover, it filter stopwords.\n",
        "\n",
        "    Parameters:\n",
        "    -----------\n",
        "    text: string , represting the text to tokenize.\n",
        "\n",
        "    Returns:\n",
        "    -----------\n",
        "    list of tokens (e.g., list of tokens).\n",
        "    \"\"\"\n",
        "    list_of_tokens = [token.group() for token in RE_WORD.finditer(text.lower()) if\n",
        "                      token.group() not in all_stopwords]\n",
        "    return list_of_tokens"
      ],
      "metadata": {
        "colab": {
          "base_uri": "https://localhost:8080/"
        },
        "id": "pUaCGYZFIil4",
        "outputId": "a22c9f17-b164-4134-a64d-d06f6fd1e33a"
      },
      "execution_count": 2,
      "outputs": [
        {
          "output_type": "stream",
          "name": "stderr",
          "text": [
            "[nltk_data] Downloading package stopwords to /root/nltk_data...\n",
            "[nltk_data]   Package stopwords is already up-to-date!\n"
          ]
        }
      ]
    },
    {
      "cell_type": "code",
      "source": [
        "map40 = {}  #all the\n",
        "#dict:  k = query: v= [[recalls],[precision],avg_precision, time, query tokens quntity]"
      ],
      "metadata": {
        "id": "73icOlz1UbmK"
      },
      "execution_count": 42,
      "outputs": []
    },
    {
      "cell_type": "code",
      "source": [
        "#recall = good/len(expected)\n",
        "#precision = good/place\n",
        "def map40_calculate(query, expected, predicted, duration,q_q):#map 40 for query\n",
        "  map40[query] = [[],[],0,0,0]\n",
        "  predicted40 = predicted[:40]\n",
        "  length_expected = len(expected)\n",
        "  good = 0\n",
        "  place = 0\n",
        "  sum_precision = 0\n",
        "  for p in predicted40:\n",
        "    place += 1\n",
        "    # print(place)\n",
        "    if p in list(expected):\n",
        "      good+=1\n",
        "      recall = good/length_expected\n",
        "      precision = good/place\n",
        "      map40[query][0].append(recall)\n",
        "      map40[query][1].append(precision)\n",
        "      sum_precision += precision\n",
        "  #add the avg for the precision of the query\n",
        "  avg_precision = sum_precision / (len(map40[query][1])+0.0000001)\n",
        "  map40[query][2] = avg_precision\n",
        "  map40[query][3] = duration\n",
        "  map40[query][4] = q_q\n",
        "\n",
        "\n",
        "\n",
        "# length = list(map40.items())\n",
        "# def avg_map40():\n",
        "#   sum_a = 0\n",
        "#   for k,v in map40.items():\n",
        "#     sum_a += v[2]\n",
        "#     print(sum_a)\n",
        "#   avg = sum_a / len(length)\n",
        "#   return avg\n",
        "\n",
        "\n",
        "\n"
      ],
      "metadata": {
        "id": "3G3QE88CRYZ4"
      },
      "execution_count": 43,
      "outputs": []
    },
    {
      "cell_type": "code",
      "source": [
        "import json\n",
        "\n",
        "with open('queries_train.json', 'rt') as f:\n",
        "  queries = json.load(f)"
      ],
      "metadata": {
        "id": "EM5ePrRHojbG"
      },
      "execution_count": 5,
      "outputs": []
    },
    {
      "cell_type": "code",
      "source": [
        "def average_precision(true_list, predicted_list, k=40):\n",
        "    true_set = frozenset(true_list)\n",
        "    predicted_list = predicted_list[:k]\n",
        "    precisions = []\n",
        "    for i,doc_id in enumerate(predicted_list):        \n",
        "        if doc_id in true_set:\n",
        "            prec = (len(precisions)+1) / (i+1)            \n",
        "            precisions.append(prec)\n",
        "    if len(precisions) == 0:\n",
        "        return 0.0\n",
        "    return round(sum(precisions)/len(precisions),3)"
      ],
      "metadata": {
        "id": "gWimZWCOy3Ei"
      },
      "execution_count": 6,
      "outputs": []
    },
    {
      "cell_type": "code",
      "source": [
        "import requests\n",
        "from time import time\n",
        "url = 'http://34.134.211.3:8080'\n",
        "# place the domain you got from ngrok or GCP IP below. \n",
        "# url = 'http://XXXX-XX-XX-XX-XX.ngrok.io'\n",
        "\n",
        "qs_res = []\n",
        "arr = list(queries.items())\n",
        "for i in range(len(arr)):\n",
        "  q, true_wids = arr[i][0],arr[i][1]\n",
        "# for q, true_wids in queries.items():\n",
        "  duration, ap = None, None\n",
        "  t_start = time()\n",
        "  try:\n",
        "    res = requests.get(url + '/search_anchor', {'query': q}, timeout=35)\n",
        "    duration = time() - t_start\n",
        "    if res.status_code == 200:\n",
        "      pred_wids, _ = zip(*res.json())\n",
        "      ap = average_precision(true_wids, pred_wids)\n",
        "      #our method map 40\n",
        "      q_q = len(tokenize(q))\n",
        "      map40_calculate(q,true_wids, pred_wids, duration,q_q)\n",
        "      #################\n",
        "      print(\"AP: \", ap)\n",
        "  except:\n",
        "    pass\n",
        "  \n",
        "  qs_res.append((q, duration, ap))\n",
        "\n",
        "print(map40)\n",
        "\n"
      ],
      "metadata": {
        "id": "dYmNTq9u0ChK",
        "colab": {
          "base_uri": "https://localhost:8080/"
        },
        "outputId": "3ad7b0b8-c097-4e0e-f74e-8a5cb4cc8419"
      },
      "execution_count": 44,
      "outputs": [
        {
          "output_type": "stream",
          "name": "stdout",
          "text": [
            "AP:  0.146\n",
            "AP:  0.0\n",
            "AP:  0.565\n",
            "AP:  0.0\n",
            "AP:  0.0\n",
            "AP:  1.0\n",
            "AP:  0.0\n",
            "AP:  0.081\n",
            "AP:  0.0\n",
            "AP:  0.0\n",
            "AP:  0.0\n",
            "AP:  0.058\n",
            "AP:  0.0\n",
            "AP:  0.0\n",
            "AP:  1.0\n",
            "AP:  0.0\n",
            "AP:  0.0\n",
            "AP:  0.0\n",
            "AP:  0.0\n",
            "AP:  0.378\n",
            "AP:  0.0\n",
            "AP:  0.0\n",
            "AP:  0.447\n",
            "AP:  0.0\n",
            "AP:  0.0\n",
            "AP:  0.516\n",
            "AP:  0.091\n",
            "AP:  0.792\n",
            "AP:  0.097\n",
            "{'best marvel movie': [[0.022222222222222223, 0.044444444444444446], [0.125, 0.16666666666666666], 0.14583332604166702, 1.2330577373504639, 3], 'How do kids come to world?': [[], [], 0.0, 1.8834435939788818, 3], 'Information retrieval': [[0.025, 0.05, 0.075, 0.1, 0.125, 0.15, 0.175, 0.2, 0.225, 0.25, 0.275, 0.3, 0.325, 0.35, 0.375, 0.4, 0.425, 0.45, 0.475, 0.5, 0.525, 0.55], [0.5, 0.3333333333333333, 0.42857142857142855, 0.5, 0.45454545454545453, 0.46153846153846156, 0.5, 0.5333333333333333, 0.5625, 0.5882352941176471, 0.6111111111111112, 0.631578947368421, 0.65, 0.6666666666666666, 0.6521739130434783, 0.6666666666666666, 0.6296296296296297, 0.6, 0.6129032258064516, 0.6060606060606061, 0.6176470588235294, 0.6285714285714286], 0.5652302955756643, 0.3541898727416992, 2], 'LinkedIn': [[], [], 0.0, 0.18863654136657715, 1], 'How to make coffee?': [[], [], 0.0, 0.3612327575683594, 2], 'Ritalin': [[0.02631578947368421, 0.05263157894736842, 0.07894736842105263], [1.0, 1.0, 1.0], 0.9999999666666678, 0.07089924812316895, 1], 'How to make wine at home?': [[], [], 0.0, 0.6983320713043213, 3], 'Most expensive city in the world': [[0.021739130434782608, 0.043478260869565216, 0.06521739130434782], [0.05, 0.08333333333333333, 0.1111111111111111], 0.08148147876543219, 3.0742459297180176, 3], 'India': [[], [], 0.0, 0.5616381168365479, 1], 'how to make money fast?': [[], [], 0.0, 0.3678321838378906, 3], 'Netflix': [[], [], 0.0, 0.2809724807739258, 1], 'Apple computer': [[0.023809523809523808, 0.047619047619047616], [0.05, 0.06666666666666667], 0.058333330416666815, 0.622734785079956, 2], 'The Simpsons': [[], [], 0.0, 0.1973896026611328, 1], 'World cup': [[], [], 0.0, 2.7426528930664062, 2], 'How to lose weight?': [[0.022727272727272728, 0.045454545454545456], [1.0, 1.0], 0.9999999500000026, 0.1374971866607666, 2], 'Java': [[], [], 0.0, 0.2495882511138916, 1], 'Air Jordan': [[], [], 0.0, 1.0527019500732422, 2], 'how to deal with depression?': [[], [], 0.0, 0.27727699279785156, 2], 'How do you make gold': [[], [], 0.0, 0.49448060989379883, 2], 'Marijuana': [[0.02127659574468085, 0.0425531914893617, 0.06382978723404255, 0.0851063829787234, 0.10638297872340426, 0.1276595744680851, 0.14893617021276595, 0.1702127659574468], [0.5, 0.4, 0.3333333333333333, 0.4, 0.45454545454545453, 0.5, 0.23333333333333334, 0.20512820512820512], 0.37829253606388413, 0.07449984550476074, 1], 'How to make hummus': [[], [], 0.0, 0.28153038024902344, 2], 'Winter': [[], [], 0.0, 0.4447770118713379, 1], 'Rick and Morty': [[0.034482758620689655, 0.06896551724137931, 0.10344827586206896, 0.13793103448275862, 0.1724137931034483, 0.20689655172413793, 0.2413793103448276, 0.27586206896551724, 0.3103448275862069], [0.16666666666666666, 0.2857142857142857, 0.375, 0.4444444444444444, 0.5, 0.5454545454545454, 0.5384615384615384, 0.5714285714285714, 0.6], 0.4474633341581909, 0.3133420944213867, 2], 'Natural Language processing': [[], [], 0.0, 0.6442937850952148, 3], 'World Cup 2022': [[], [], 0.0, 2.7637951374053955, 3], 'Dolly the sheep': [[0.024390243902439025, 0.04878048780487805, 0.07317073170731707, 0.0975609756097561], [1.0, 0.6666666666666666, 0.25, 0.14814814814814814], 0.5162036907986114, 0.1358048915863037, 2], 'What is the best place to live in?': [[0.02127659574468085], [0.09090909090909091], 0.09090908181818272, 1.414506435394287, 3], 'Elon musk': [[0.043478260869565216, 0.08695652173913043, 0.13043478260869565], [1.0, 1.0, 0.375], 0.7916666402777787, 0.07152175903320312, 2], 'How do you breed flowers?': [[0.020833333333333332, 0.041666666666666664], [0.1111111111111111, 0.08333333333333333], 0.09722221736111135, 0.2217402458190918, 2]}\n"
          ]
        }
      ]
    },
    {
      "cell_type": "code",
      "source": [
        "arr = list(map40.items())\n",
        "length = len(list(map40.items()))\n",
        "print(\"lenght: \", length)\n",
        "\n",
        "def avg_map40():\n",
        "  sum_a = 0\n",
        "  sum_d = 0\n",
        "  for k,v in arr:\n",
        "    sum_a += v[2]\n",
        "    sum_d += v[3]\n",
        "  print(\"sum: \", sum_a)\n",
        "  avg = sum_a / length\n",
        "  avg_duration = sum_d / length\n",
        "  return avg, avg_duration\n",
        "\n",
        "print(\"AVG MAP40: \" , avg_map40())"
      ],
      "metadata": {
        "colab": {
          "base_uri": "https://localhost:8080/"
        },
        "id": "-wfIx3baoRAD",
        "outputId": "73e7bf98-01ae-4479-8786-1618f20aa669"
      },
      "execution_count": 45,
      "outputs": [
        {
          "output_type": "stream",
          "name": "stdout",
          "text": [
            "lenght:  29\n",
            "sum:  5.17263584794386\n",
            "AVG MAP40:  (0.17836675337737448, 0.7315384272871346)\n"
          ]
        }
      ]
    },
    {
      "cell_type": "code",
      "source": [
        "print(qs_res[0])"
      ],
      "metadata": {
        "colab": {
          "base_uri": "https://localhost:8080/"
        },
        "id": "OBGdnnm1TlWv",
        "outputId": "f8c3132f-4abf-480a-f7fb-085e1b607b9a"
      },
      "execution_count": 33,
      "outputs": [
        {
          "output_type": "stream",
          "name": "stdout",
          "text": [
            "('best marvel movie', 2.5176920890808105, 0.142)\n"
          ]
        }
      ]
    },
    {
      "cell_type": "code",
      "source": [
        "import pandas as pd\n",
        "\n",
        "new = pd.DataFrame.from_dict(map40)\n",
        "new.to_csv(\"summary_search_bm25_top10_(1,0.5,0.5):_text:0.5_title:0.5_.csv\")\n",
        "new"
      ],
      "metadata": {
        "colab": {
          "base_uri": "https://localhost:8080/",
          "height": 508
        },
        "id": "qM_6rslbp7fT",
        "outputId": "a8263a03-0e17-4b09-8f18-b35aecf8a72b"
      },
      "execution_count": 22,
      "outputs": [
        {
          "output_type": "execute_result",
          "data": {
            "text/plain": [
              "  How do kids come to world?  \\\n",
              "0                     [0.02]   \n",
              "1                     [0.25]   \n",
              "2                       0.25   \n",
              "3                   9.322633   \n",
              "4                          3   \n",
              "\n",
              "                               Information retrieval  \\\n",
              "0  [0.025, 0.05, 0.075, 0.1, 0.125, 0.15, 0.175, ...   \n",
              "1  [1.0, 1.0, 1.0, 1.0, 1.0, 1.0, 1.0, 1.0, 1.0, ...   \n",
              "2                                                1.0   \n",
              "3                                           0.986183   \n",
              "4                                                  2   \n",
              "\n",
              "                                            LinkedIn     How to make coffee?  \\\n",
              "0  [0.06666666666666667, 0.13333333333333333, 0.2...  [0.021739130434782608]   \n",
              "1      [1.0, 1.0, 1.0, 1.0, 1.0, 1.0, 1.0, 1.0, 1.0]                   [0.2]   \n",
              "2                                                1.0                     0.2   \n",
              "3                                           0.077322                1.506623   \n",
              "4                                                  1                       2   \n",
              "\n",
              "                                             Ritalin  \\\n",
              "0  [0.02631578947368421, 0.05263157894736842, 0.0...   \n",
              "1  [1.0, 1.0, 1.0, 1.0, 1.0, 1.0, 0.875, 0.888888...   \n",
              "2                                           0.970486   \n",
              "3                                           0.070289   \n",
              "4                                                  1   \n",
              "\n",
              "    How to make wine at home? Most expensive city in the world     India  \\\n",
              "0                [0.02, 0.04]           [0.021739130434782608]        []   \n",
              "1  [0.3333333333333333, 0.25]                            [1.0]        []   \n",
              "2                    0.291667                              1.0       0.0   \n",
              "3                     3.54677                         6.342253  0.847641   \n",
              "4                           3                                3         1   \n",
              "\n",
              "                             how to make money fast?  \\\n",
              "0  [0.030303030303030304, 0.06060606060606061, 0....   \n",
              "1                              [1.0, 1.0, 0.75, 0.8]   \n",
              "2                                             0.8875   \n",
              "3                                           2.311913   \n",
              "4                                                  3   \n",
              "\n",
              "                                             Netflix  ...  \\\n",
              "0  [0.029411764705882353, 0.058823529411764705, 0...  ...   \n",
              "1           [1.0, 1.0, 1.0, 0.8, 0.8333333333333334]  ...   \n",
              "2                                           0.926667  ...   \n",
              "3                                           0.117402  ...   \n",
              "4                                                  1  ...   \n",
              "\n",
              "                                           Marijuana  \\\n",
              "0  [0.02127659574468085, 0.0425531914893617, 0.06...   \n",
              "1    [0.3333333333333333, 0.2857142857142857, 0.375]   \n",
              "2                                           0.331349   \n",
              "3                                           0.097133   \n",
              "4                                                  1   \n",
              "\n",
              "                                  How to make hummus  \\\n",
              "0  [0.022727272727272728, 0.045454545454545456, 0...   \n",
              "1  [1.0, 1.0, 0.75, 0.8, 0.8333333333333334, 0.85...   \n",
              "2                                           0.873413   \n",
              "3                                           1.394204   \n",
              "4                                                  2   \n",
              "\n",
              "                                              Winter  \\\n",
              "0  [0.02127659574468085, 0.0425531914893617, 0.06...   \n",
              "1               [0.5, 0.6666666666666666, 0.75, 0.5]   \n",
              "2                                           0.604167   \n",
              "3                                           0.585588   \n",
              "4                                                  1   \n",
              "\n",
              "                                      Rick and Morty  \\\n",
              "0  [0.034482758620689655, 0.06896551724137931, 0....   \n",
              "1  [1.0, 1.0, 1.0, 1.0, 1.0, 1.0, 1.0, 1.0, 1.0, ...   \n",
              "2                                                1.0   \n",
              "3                                           0.205292   \n",
              "4                                                  2   \n",
              "\n",
              "                         Natural Language processing  \\\n",
              "0  [0.025, 0.05, 0.075, 0.1, 0.125, 0.15, 0.175, ...   \n",
              "1           [1.0, 1.0, 1.0, 1.0, 1.0, 1.0, 1.0, 0.8]   \n",
              "2                                              0.975   \n",
              "3                                           1.713948   \n",
              "4                                                  3   \n",
              "\n",
              "                                      World Cup 2022  \\\n",
              "0  [0.037037037037037035, 0.07407407407407407, 0....   \n",
              "1      [1.0, 1.0, 1.0, 0.8, 0.5555555555555556, 0.6]   \n",
              "2                                           0.825926   \n",
              "3                                           4.300181   \n",
              "4                                                  3   \n",
              "\n",
              "                                     Dolly the sheep  \\\n",
              "0  [0.024390243902439025, 0.04878048780487805, 0....   \n",
              "1  [1.0, 1.0, 1.0, 1.0, 1.0, 1.0, 1.0, 0.88888888...   \n",
              "2                                           0.986111   \n",
              "3                                           0.173613   \n",
              "4                                                  2   \n",
              "\n",
              "  What is the best place to live in?  \\\n",
              "0                                 []   \n",
              "1                                 []   \n",
              "2                                0.0   \n",
              "3                           5.478425   \n",
              "4                                  3   \n",
              "\n",
              "                                           Elon musk How do you breed flowers?  \n",
              "0  [0.043478260869565216, 0.08695652173913043, 0....    [0.020833333333333332]  \n",
              "1  [0.5, 0.6666666666666666, 0.75, 0.571428571428...                     [0.1]  \n",
              "2                                            0.60873                       0.1  \n",
              "3                                           0.082921                   0.31162  \n",
              "4                                                  2                         2  \n",
              "\n",
              "[5 rows x 28 columns]"
            ],
            "text/html": [
              "\n",
              "  <div id=\"df-b643641a-e9aa-4450-aa1d-ecc50c4f2565\">\n",
              "    <div class=\"colab-df-container\">\n",
              "      <div>\n",
              "<style scoped>\n",
              "    .dataframe tbody tr th:only-of-type {\n",
              "        vertical-align: middle;\n",
              "    }\n",
              "\n",
              "    .dataframe tbody tr th {\n",
              "        vertical-align: top;\n",
              "    }\n",
              "\n",
              "    .dataframe thead th {\n",
              "        text-align: right;\n",
              "    }\n",
              "</style>\n",
              "<table border=\"1\" class=\"dataframe\">\n",
              "  <thead>\n",
              "    <tr style=\"text-align: right;\">\n",
              "      <th></th>\n",
              "      <th>How do kids come to world?</th>\n",
              "      <th>Information retrieval</th>\n",
              "      <th>LinkedIn</th>\n",
              "      <th>How to make coffee?</th>\n",
              "      <th>Ritalin</th>\n",
              "      <th>How to make wine at home?</th>\n",
              "      <th>Most expensive city in the world</th>\n",
              "      <th>India</th>\n",
              "      <th>how to make money fast?</th>\n",
              "      <th>Netflix</th>\n",
              "      <th>...</th>\n",
              "      <th>Marijuana</th>\n",
              "      <th>How to make hummus</th>\n",
              "      <th>Winter</th>\n",
              "      <th>Rick and Morty</th>\n",
              "      <th>Natural Language processing</th>\n",
              "      <th>World Cup 2022</th>\n",
              "      <th>Dolly the sheep</th>\n",
              "      <th>What is the best place to live in?</th>\n",
              "      <th>Elon musk</th>\n",
              "      <th>How do you breed flowers?</th>\n",
              "    </tr>\n",
              "  </thead>\n",
              "  <tbody>\n",
              "    <tr>\n",
              "      <th>0</th>\n",
              "      <td>[0.02]</td>\n",
              "      <td>[0.025, 0.05, 0.075, 0.1, 0.125, 0.15, 0.175, ...</td>\n",
              "      <td>[0.06666666666666667, 0.13333333333333333, 0.2...</td>\n",
              "      <td>[0.021739130434782608]</td>\n",
              "      <td>[0.02631578947368421, 0.05263157894736842, 0.0...</td>\n",
              "      <td>[0.02, 0.04]</td>\n",
              "      <td>[0.021739130434782608]</td>\n",
              "      <td>[]</td>\n",
              "      <td>[0.030303030303030304, 0.06060606060606061, 0....</td>\n",
              "      <td>[0.029411764705882353, 0.058823529411764705, 0...</td>\n",
              "      <td>...</td>\n",
              "      <td>[0.02127659574468085, 0.0425531914893617, 0.06...</td>\n",
              "      <td>[0.022727272727272728, 0.045454545454545456, 0...</td>\n",
              "      <td>[0.02127659574468085, 0.0425531914893617, 0.06...</td>\n",
              "      <td>[0.034482758620689655, 0.06896551724137931, 0....</td>\n",
              "      <td>[0.025, 0.05, 0.075, 0.1, 0.125, 0.15, 0.175, ...</td>\n",
              "      <td>[0.037037037037037035, 0.07407407407407407, 0....</td>\n",
              "      <td>[0.024390243902439025, 0.04878048780487805, 0....</td>\n",
              "      <td>[]</td>\n",
              "      <td>[0.043478260869565216, 0.08695652173913043, 0....</td>\n",
              "      <td>[0.020833333333333332]</td>\n",
              "    </tr>\n",
              "    <tr>\n",
              "      <th>1</th>\n",
              "      <td>[0.25]</td>\n",
              "      <td>[1.0, 1.0, 1.0, 1.0, 1.0, 1.0, 1.0, 1.0, 1.0, ...</td>\n",
              "      <td>[1.0, 1.0, 1.0, 1.0, 1.0, 1.0, 1.0, 1.0, 1.0]</td>\n",
              "      <td>[0.2]</td>\n",
              "      <td>[1.0, 1.0, 1.0, 1.0, 1.0, 1.0, 0.875, 0.888888...</td>\n",
              "      <td>[0.3333333333333333, 0.25]</td>\n",
              "      <td>[1.0]</td>\n",
              "      <td>[]</td>\n",
              "      <td>[1.0, 1.0, 0.75, 0.8]</td>\n",
              "      <td>[1.0, 1.0, 1.0, 0.8, 0.8333333333333334]</td>\n",
              "      <td>...</td>\n",
              "      <td>[0.3333333333333333, 0.2857142857142857, 0.375]</td>\n",
              "      <td>[1.0, 1.0, 0.75, 0.8, 0.8333333333333334, 0.85...</td>\n",
              "      <td>[0.5, 0.6666666666666666, 0.75, 0.5]</td>\n",
              "      <td>[1.0, 1.0, 1.0, 1.0, 1.0, 1.0, 1.0, 1.0, 1.0, ...</td>\n",
              "      <td>[1.0, 1.0, 1.0, 1.0, 1.0, 1.0, 1.0, 0.8]</td>\n",
              "      <td>[1.0, 1.0, 1.0, 0.8, 0.5555555555555556, 0.6]</td>\n",
              "      <td>[1.0, 1.0, 1.0, 1.0, 1.0, 1.0, 1.0, 0.88888888...</td>\n",
              "      <td>[]</td>\n",
              "      <td>[0.5, 0.6666666666666666, 0.75, 0.571428571428...</td>\n",
              "      <td>[0.1]</td>\n",
              "    </tr>\n",
              "    <tr>\n",
              "      <th>2</th>\n",
              "      <td>0.25</td>\n",
              "      <td>1.0</td>\n",
              "      <td>1.0</td>\n",
              "      <td>0.2</td>\n",
              "      <td>0.970486</td>\n",
              "      <td>0.291667</td>\n",
              "      <td>1.0</td>\n",
              "      <td>0.0</td>\n",
              "      <td>0.8875</td>\n",
              "      <td>0.926667</td>\n",
              "      <td>...</td>\n",
              "      <td>0.331349</td>\n",
              "      <td>0.873413</td>\n",
              "      <td>0.604167</td>\n",
              "      <td>1.0</td>\n",
              "      <td>0.975</td>\n",
              "      <td>0.825926</td>\n",
              "      <td>0.986111</td>\n",
              "      <td>0.0</td>\n",
              "      <td>0.60873</td>\n",
              "      <td>0.1</td>\n",
              "    </tr>\n",
              "    <tr>\n",
              "      <th>3</th>\n",
              "      <td>9.322633</td>\n",
              "      <td>0.986183</td>\n",
              "      <td>0.077322</td>\n",
              "      <td>1.506623</td>\n",
              "      <td>0.070289</td>\n",
              "      <td>3.54677</td>\n",
              "      <td>6.342253</td>\n",
              "      <td>0.847641</td>\n",
              "      <td>2.311913</td>\n",
              "      <td>0.117402</td>\n",
              "      <td>...</td>\n",
              "      <td>0.097133</td>\n",
              "      <td>1.394204</td>\n",
              "      <td>0.585588</td>\n",
              "      <td>0.205292</td>\n",
              "      <td>1.713948</td>\n",
              "      <td>4.300181</td>\n",
              "      <td>0.173613</td>\n",
              "      <td>5.478425</td>\n",
              "      <td>0.082921</td>\n",
              "      <td>0.31162</td>\n",
              "    </tr>\n",
              "    <tr>\n",
              "      <th>4</th>\n",
              "      <td>3</td>\n",
              "      <td>2</td>\n",
              "      <td>1</td>\n",
              "      <td>2</td>\n",
              "      <td>1</td>\n",
              "      <td>3</td>\n",
              "      <td>3</td>\n",
              "      <td>1</td>\n",
              "      <td>3</td>\n",
              "      <td>1</td>\n",
              "      <td>...</td>\n",
              "      <td>1</td>\n",
              "      <td>2</td>\n",
              "      <td>1</td>\n",
              "      <td>2</td>\n",
              "      <td>3</td>\n",
              "      <td>3</td>\n",
              "      <td>2</td>\n",
              "      <td>3</td>\n",
              "      <td>2</td>\n",
              "      <td>2</td>\n",
              "    </tr>\n",
              "  </tbody>\n",
              "</table>\n",
              "<p>5 rows × 28 columns</p>\n",
              "</div>\n",
              "      <button class=\"colab-df-convert\" onclick=\"convertToInteractive('df-b643641a-e9aa-4450-aa1d-ecc50c4f2565')\"\n",
              "              title=\"Convert this dataframe to an interactive table.\"\n",
              "              style=\"display:none;\">\n",
              "        \n",
              "  <svg xmlns=\"http://www.w3.org/2000/svg\" height=\"24px\"viewBox=\"0 0 24 24\"\n",
              "       width=\"24px\">\n",
              "    <path d=\"M0 0h24v24H0V0z\" fill=\"none\"/>\n",
              "    <path d=\"M18.56 5.44l.94 2.06.94-2.06 2.06-.94-2.06-.94-.94-2.06-.94 2.06-2.06.94zm-11 1L8.5 8.5l.94-2.06 2.06-.94-2.06-.94L8.5 2.5l-.94 2.06-2.06.94zm10 10l.94 2.06.94-2.06 2.06-.94-2.06-.94-.94-2.06-.94 2.06-2.06.94z\"/><path d=\"M17.41 7.96l-1.37-1.37c-.4-.4-.92-.59-1.43-.59-.52 0-1.04.2-1.43.59L10.3 9.45l-7.72 7.72c-.78.78-.78 2.05 0 2.83L4 21.41c.39.39.9.59 1.41.59.51 0 1.02-.2 1.41-.59l7.78-7.78 2.81-2.81c.8-.78.8-2.07 0-2.86zM5.41 20L4 18.59l7.72-7.72 1.47 1.35L5.41 20z\"/>\n",
              "  </svg>\n",
              "      </button>\n",
              "      \n",
              "  <style>\n",
              "    .colab-df-container {\n",
              "      display:flex;\n",
              "      flex-wrap:wrap;\n",
              "      gap: 12px;\n",
              "    }\n",
              "\n",
              "    .colab-df-convert {\n",
              "      background-color: #E8F0FE;\n",
              "      border: none;\n",
              "      border-radius: 50%;\n",
              "      cursor: pointer;\n",
              "      display: none;\n",
              "      fill: #1967D2;\n",
              "      height: 32px;\n",
              "      padding: 0 0 0 0;\n",
              "      width: 32px;\n",
              "    }\n",
              "\n",
              "    .colab-df-convert:hover {\n",
              "      background-color: #E2EBFA;\n",
              "      box-shadow: 0px 1px 2px rgba(60, 64, 67, 0.3), 0px 1px 3px 1px rgba(60, 64, 67, 0.15);\n",
              "      fill: #174EA6;\n",
              "    }\n",
              "\n",
              "    [theme=dark] .colab-df-convert {\n",
              "      background-color: #3B4455;\n",
              "      fill: #D2E3FC;\n",
              "    }\n",
              "\n",
              "    [theme=dark] .colab-df-convert:hover {\n",
              "      background-color: #434B5C;\n",
              "      box-shadow: 0px 1px 3px 1px rgba(0, 0, 0, 0.15);\n",
              "      filter: drop-shadow(0px 1px 2px rgba(0, 0, 0, 0.3));\n",
              "      fill: #FFFFFF;\n",
              "    }\n",
              "  </style>\n",
              "\n",
              "      <script>\n",
              "        const buttonEl =\n",
              "          document.querySelector('#df-b643641a-e9aa-4450-aa1d-ecc50c4f2565 button.colab-df-convert');\n",
              "        buttonEl.style.display =\n",
              "          google.colab.kernel.accessAllowed ? 'block' : 'none';\n",
              "\n",
              "        async function convertToInteractive(key) {\n",
              "          const element = document.querySelector('#df-b643641a-e9aa-4450-aa1d-ecc50c4f2565');\n",
              "          const dataTable =\n",
              "            await google.colab.kernel.invokeFunction('convertToInteractive',\n",
              "                                                     [key], {});\n",
              "          if (!dataTable) return;\n",
              "\n",
              "          const docLinkHtml = 'Like what you see? Visit the ' +\n",
              "            '<a target=\"_blank\" href=https://colab.research.google.com/notebooks/data_table.ipynb>data table notebook</a>'\n",
              "            + ' to learn more about interactive tables.';\n",
              "          element.innerHTML = '';\n",
              "          dataTable['output_type'] = 'display_data';\n",
              "          await google.colab.output.renderOutput(dataTable, element);\n",
              "          const docLink = document.createElement('div');\n",
              "          docLink.innerHTML = docLinkHtml;\n",
              "          element.appendChild(docLink);\n",
              "        }\n",
              "      </script>\n",
              "    </div>\n",
              "  </div>\n",
              "  "
            ]
          },
          "metadata": {},
          "execution_count": 22
        }
      ]
    },
    {
      "cell_type": "code",
      "source": [
        "# import matplotlib.pyplot as plt\n",
        "\n",
        "# queries = map(lambda x:)\n",
        "# df = pd.DataFrame([[5, 2, 0], [3, 3, 2], [0, 1, 11]], classes, classes)\n",
        "# new.plot(kind = 'scatter', x = 'Duration', y = 'Calories')"
      ],
      "metadata": {
        "id": "aUjjtbHGrXJr"
      },
      "execution_count": 8,
      "outputs": []
    },
    {
      "cell_type": "code",
      "source": [
        "import requests\n",
        "\n",
        "rs = requests.post('http://34.134.211.3:8080/get_pagerank', json=[123546,34568,85476])\n",
        "print(rs.json())\n",
        "rs2 = requests.post('http://34.134.211.3:8080/get_pageview', json=[123546,34568,85476])\n",
        "print(rs2.json())"
      ],
      "metadata": {
        "colab": {
          "base_uri": "https://localhost:8080/"
        },
        "id": "xoZRLOJZZUdG",
        "outputId": "37599ced-b6aa-4425-d2c4-3d66cfae24cf"
      },
      "execution_count": 53,
      "outputs": [
        {
          "output_type": "stream",
          "name": "stdout",
          "text": [
            "[0.7456973292487823, 14.897957134981224, 1.6932517377039191]\n",
            "[530, 14284, 1878]\n"
          ]
        }
      ]
    },
    {
      "cell_type": "code",
      "source": [
        "print(qs_res[13])"
      ],
      "metadata": {
        "colab": {
          "base_uri": "https://localhost:8080/"
        },
        "id": "_OGXyKqYtue8",
        "outputId": "e646d162-db8b-48f0-b2e9-f1a8a20fd185"
      },
      "execution_count": 41,
      "outputs": [
        {
          "output_type": "stream",
          "name": "stdout",
          "text": [
            "('World cup', 4.237330675125122, 1.0)\n"
          ]
        }
      ]
    },
    {
      "cell_type": "code",
      "source": [
        "suma = 0.0\n",
        "for q, duration, ap in qs_res:\n",
        "  print(type(ap))\n",
        "  if ap == None:\n",
        "    continue\n",
        "  suma = suma + ap\n",
        "\n",
        "print(suma/len(qs_res))\n",
        "print(qs_res)"
      ],
      "metadata": {
        "colab": {
          "base_uri": "https://localhost:8080/"
        },
        "id": "4e9f7qCxCetX",
        "outputId": "8f02d4ce-b5b4-4a73-ac60-851b418d3d44"
      },
      "execution_count": 196,
      "outputs": [
        {
          "output_type": "stream",
          "name": "stdout",
          "text": [
            "<class 'float'>\n",
            "<class 'float'>\n",
            "<class 'float'>\n",
            "<class 'float'>\n",
            "<class 'float'>\n",
            "<class 'float'>\n",
            "<class 'float'>\n",
            "<class 'float'>\n",
            "<class 'float'>\n",
            "<class 'float'>\n",
            "<class 'float'>\n",
            "<class 'float'>\n",
            "<class 'float'>\n",
            "<class 'float'>\n",
            "<class 'float'>\n",
            "<class 'float'>\n",
            "<class 'float'>\n",
            "<class 'float'>\n",
            "<class 'float'>\n",
            "<class 'float'>\n",
            "<class 'float'>\n",
            "<class 'float'>\n",
            "<class 'float'>\n",
            "<class 'float'>\n",
            "<class 'float'>\n",
            "<class 'float'>\n",
            "<class 'NoneType'>\n",
            "<class 'float'>\n",
            "<class 'float'>\n",
            "<class 'float'>\n",
            "0.4485666666666665\n",
            "[('best marvel movie', 30.273027658462524, 0.12), ('How do kids come to world?', 4.396238327026367, 0.194), ('Information retrieval', 1.0254058837890625, 0.923), ('LinkedIn', 0.09195780754089355, 0.839), ('How to make coffee?', 1.5571134090423584, 0.417), ('Ritalin', 0.08665728569030762, 0.757), ('How to make wine at home?', 3.640566110610962, 0.28), ('Most expensive city in the world', 6.6025166511535645, 0.094), ('India', 0.8628292083740234, 0.07), ('how to make money fast?', 2.3640599250793457, 0.716), ('Netflix', 0.1336231231689453, 0.765), ('Apple computer', 0.5751323699951172, 0.62), ('The Simpsons', 0.10617303848266602, 0.173), ('World cup', 4.377073526382446, 1.0), ('How to lose weight?', 0.512305736541748, 0.475), ('Java', 0.1479184627532959, 0.531), ('Air Jordan', 1.2215113639831543, 0.37), ('how to deal with depression?', 0.729311466217041, 0.292), ('How do you make gold', 2.3812546730041504, 0.11), ('Marijuana', 0.11168909072875977, 0.283), ('How to make hummus', 1.4369385242462158, 0.642), ('Winter', 0.6053779125213623, 0.604), ('Rick and Morty', 0.22140026092529297, 0.751), ('Natural Language processing', 1.7513608932495117, 0.673), ('World Cup 2022', 4.429891586303711, 0.593), ('Dolly the sheep', 0.19307565689086914, 0.71), ('Ciggarets', 0.08355259895324707, None), ('What is the best place to live in?', 5.590324878692627, 0.0), ('Elon musk', 0.09927606582641602, 0.455), ('How do you breed flowers?', 0.33594465255737305, 0.0)]\n"
          ]
        }
      ]
    },
    {
      "cell_type": "code",
      "source": [
        "!pip install PyDictionary"
      ],
      "metadata": {
        "colab": {
          "base_uri": "https://localhost:8080/"
        },
        "id": "xHI_KOdB5VOS",
        "outputId": "b88ede20-e734-4405-c4e5-e5ce0f74a5ae"
      },
      "execution_count": null,
      "outputs": [
        {
          "output_type": "stream",
          "name": "stdout",
          "text": [
            "Looking in indexes: https://pypi.org/simple, https://us-python.pkg.dev/colab-wheels/public/simple/\n",
            "Collecting PyDictionary\n",
            "  Using cached PyDictionary-2.0.1-py3-none-any.whl (6.1 kB)\n",
            "Requirement already satisfied: requests in /usr/local/lib/python3.8/dist-packages (from PyDictionary) (2.25.1)\n",
            "Requirement already satisfied: click in /usr/local/lib/python3.8/dist-packages (from PyDictionary) (7.1.2)\n",
            "Requirement already satisfied: bs4 in /usr/local/lib/python3.8/dist-packages (from PyDictionary) (0.0.1)\n",
            "Collecting goslate\n",
            "  Using cached goslate-1.5.4.tar.gz (14 kB)\n",
            "  Preparing metadata (setup.py) ... \u001b[?25l\u001b[?25hdone\n",
            "Requirement already satisfied: beautifulsoup4 in /usr/local/lib/python3.8/dist-packages (from bs4->PyDictionary) (4.6.3)\n",
            "Collecting futures\n",
            "  Using cached futures-3.0.5.tar.gz (25 kB)\n",
            "  \u001b[1;31merror\u001b[0m: \u001b[1msubprocess-exited-with-error\u001b[0m\n",
            "  \n",
            "  \u001b[31m×\u001b[0m \u001b[32mpython setup.py egg_info\u001b[0m did not run successfully.\n",
            "  \u001b[31m│\u001b[0m exit code: \u001b[1;36m1\u001b[0m\n",
            "  \u001b[31m╰─>\u001b[0m See above for output.\n",
            "  \n",
            "  \u001b[1;35mnote\u001b[0m: This error originates from a subprocess, and is likely not a problem with pip.\n",
            "  Preparing metadata (setup.py) ... \u001b[?25l\u001b[?25herror\n",
            "\u001b[1;31merror\u001b[0m: \u001b[1mmetadata-generation-failed\u001b[0m\n",
            "\n",
            "\u001b[31m×\u001b[0m Encountered error while generating package metadata.\n",
            "\u001b[31m╰─>\u001b[0m See above for output.\n",
            "\n",
            "\u001b[1;35mnote\u001b[0m: This is an issue with the package mentioned above, not pip.\n",
            "\u001b[1;36mhint\u001b[0m: See above for details.\n"
          ]
        }
      ]
    },
    {
      "cell_type": "code",
      "source": [
        "import PyDictionary #this is for our addition for the new method. dictionary that will help us in query expansion.\n",
        "dictionary = PyDictionary()\n",
        "\n",
        "query = \"home is big and the apple is red\"\n",
        "tokens = tokenize(query.lower())\n",
        "query_after_expansion = []\n",
        "\n",
        "for token in tokens:\n",
        "    try:\n",
        "        synonym = dictionary.synonym(token)\n",
        "        query_after_expansion.append(synonym[:3])\n",
        "    except:\n",
        "        pass\n",
        "\n",
        "print(\"tokens: \", tokens)\n",
        "print(\"query_after_expansion: \", query_after_expansion)\n",
        "tokens += query_after_expansion\n",
        "tokens"
      ],
      "metadata": {
        "colab": {
          "base_uri": "https://localhost:8080/",
          "height": 393
        },
        "id": "XNPcjMp44_5y",
        "outputId": "add60274-7d99-4877-d231-1b9f4f088a72"
      },
      "execution_count": null,
      "outputs": [
        {
          "output_type": "error",
          "ename": "ModuleNotFoundError",
          "evalue": "ignored",
          "traceback": [
            "\u001b[0;31m---------------------------------------------------------------------------\u001b[0m",
            "\u001b[0;31mModuleNotFoundError\u001b[0m                       Traceback (most recent call last)",
            "\u001b[0;32m<ipython-input-30-fef74d7923a8>\u001b[0m in \u001b[0;36m<module>\u001b[0;34m\u001b[0m\n\u001b[0;32m----> 1\u001b[0;31m \u001b[0;32mimport\u001b[0m \u001b[0mPyDictionary\u001b[0m \u001b[0;31m#this is for our addition for the new method. dictionary that will help us in query expansion.\u001b[0m\u001b[0;34m\u001b[0m\u001b[0;34m\u001b[0m\u001b[0m\n\u001b[0m\u001b[1;32m      2\u001b[0m \u001b[0mdictionary\u001b[0m \u001b[0;34m=\u001b[0m \u001b[0mPyDictionary\u001b[0m\u001b[0;34m(\u001b[0m\u001b[0;34m)\u001b[0m\u001b[0;34m\u001b[0m\u001b[0;34m\u001b[0m\u001b[0m\n\u001b[1;32m      3\u001b[0m \u001b[0;34m\u001b[0m\u001b[0m\n\u001b[1;32m      4\u001b[0m \u001b[0mquery\u001b[0m \u001b[0;34m=\u001b[0m \u001b[0;34m\"home is big and the apple is red\"\u001b[0m\u001b[0;34m\u001b[0m\u001b[0;34m\u001b[0m\u001b[0m\n\u001b[1;32m      5\u001b[0m \u001b[0mtokens\u001b[0m \u001b[0;34m=\u001b[0m \u001b[0mtokenize\u001b[0m\u001b[0;34m(\u001b[0m\u001b[0mquery\u001b[0m\u001b[0;34m.\u001b[0m\u001b[0mlower\u001b[0m\u001b[0;34m(\u001b[0m\u001b[0;34m)\u001b[0m\u001b[0;34m)\u001b[0m\u001b[0;34m\u001b[0m\u001b[0;34m\u001b[0m\u001b[0m\n",
            "\u001b[0;31mModuleNotFoundError\u001b[0m: No module named 'PyDictionary'",
            "",
            "\u001b[0;31m---------------------------------------------------------------------------\u001b[0;32m\nNOTE: If your import is failing due to a missing package, you can\nmanually install dependencies using either !pip or !apt.\n\nTo view examples of installing some common dependencies, click the\n\"Open Examples\" button below.\n\u001b[0;31m---------------------------------------------------------------------------\u001b[0m\n"
          ],
          "errorDetails": {
            "actions": [
              {
                "action": "open_url",
                "actionText": "Open Examples",
                "url": "/notebooks/snippets/importing_libraries.ipynb"
              }
            ]
          }
        }
      ]
    },
    {
      "cell_type": "code",
      "source": [
        "import requests\n",
        "from time import time\n",
        "url = 'http://34.134.211.3:8080'\n",
        "# place the domain you got from ngrok or GCP IP below. \n",
        "# url = 'http://XXXX-XX-XX-XX-XX.ngrok.io'\n",
        "\n",
        "qs_res = []\n",
        "arr = list(queries.items())\n",
        "for i in range(len(arr)-15):\n",
        "  q, true_wids = arr[i][0],arr[i][1]\n",
        "# for q, true_wids in queries.items():\n",
        "  duration, ap = None, None\n",
        "  t_start = time()\n",
        "  try:\n",
        "    res = requests.get(url + '/search_body', {'query': q}, timeout=35)\n",
        "    duration = time() - t_start\n",
        "    if res.status_code == 200:\n",
        "      pred_wids, _ = zip(*res.json())\n",
        "      ap = average_precision(true_wids, pred_wids)\n",
        "      #our method map 40\n",
        "      map40_calculate(q,true_wids, pred_wids)\n",
        "      #################\n",
        "      print(\"AP: \", ap)\n",
        "  except:\n",
        "    pass\n",
        "  \n",
        "  qs_res.append((q, duration, ap))\n",
        "\n",
        "print(map40)"
      ],
      "metadata": {
        "colab": {
          "base_uri": "https://localhost:8080/"
        },
        "id": "h3uCgBZ_5TW5",
        "outputId": "d27c2198-f452-4914-d7ba-332b5adb9868"
      },
      "execution_count": null,
      "outputs": [
        {
          "output_type": "stream",
          "name": "stdout",
          "text": [
            "AP:  0.333\n",
            "AP:  0.654\n",
            "AP:  1.0\n",
            "AP:  0.75\n",
            "AP:  0.962\n",
            "AP:  0.5\n",
            "AP:  0.375\n",
            "AP:  0.2\n",
            "AP:  0.869\n",
            "AP:  0.421\n",
            "AP:  0.25\n",
            "AP:  0.333\n",
            "{'best marvel movie': [[0.022222222222222223], [0.3333333333333333], 0.3333333333333333], 'How do kids come to world?': [[], [], 0], 'Information retrieval': [[0.025, 0.05, 0.075, 0.1, 0.125, 0.15, 0.175], [0.5, 0.6666666666666666, 0.75, 0.6666666666666666, 0.625, 0.6666666666666666, 0.7], 0.6535714285714285], 'LinkedIn': [[0.06666666666666667, 0.13333333333333333, 0.2, 0.26666666666666666, 0.3333333333333333, 0.4, 0.4666666666666667], [1.0, 1.0, 1.0, 1.0, 1.0, 1.0, 1.0], 1.0], 'How to make coffee?': [[0.021739130434782608, 0.043478260869565216, 0.06521739130434782, 0.08695652173913043], [1.0, 1.0, 0.5, 0.5], 0.75], 'Ritalin': [[0.02631578947368421, 0.05263157894736842, 0.07894736842105263, 0.10526315789473684, 0.13157894736842105, 0.15789473684210525, 0.18421052631578946], [1.0, 1.0, 1.0, 1.0, 1.0, 0.8571428571428571, 0.875], 0.961734693877551], 'How to make wine at home?': [[0.02], [0.5], 0.5], 'Most expensive city in the world': [[], [], 0], 'India': [[0.02040816326530612, 0.04081632653061224], [0.5, 0.25], 0.375], 'how to make money fast?': [[0.030303030303030304], [0.2], 0.2], 'Netflix': [[0.029411764705882353, 0.058823529411764705, 0.08823529411764706, 0.11764705882352941, 0.14705882352941177, 0.17647058823529413, 0.20588235294117646], [1.0, 1.0, 1.0, 0.8, 0.8333333333333334, 0.75, 0.7], 0.869047619047619], 'Apple computer': [[0.023809523809523808, 0.047619047619047616, 0.07142857142857142, 0.09523809523809523, 0.11904761904761904], [0.5, 0.2857142857142857, 0.375, 0.4444444444444444, 0.5], 0.42103174603174603], 'The Simpsons': [[0.02564102564102564], [0.25], 0.25], 'World cup': [[], [], 0], 'How to lose weight?': [[0.022727272727272728], [0.3333333333333333], 0.3333333333333333]}\n"
          ]
        }
      ]
    },
    {
      "cell_type": "code",
      "source": [
        "arr = list(map40.items())\n",
        "length = len(list(map40.items()))\n",
        "print(\"lenght: \", length)\n",
        "\n",
        "def avg_map40():\n",
        "  sum_a = 0\n",
        "  for k,v in arr:\n",
        "    sum_a += v[2]\n",
        "  print(\"sum: \", sum_a)\n",
        "  avg = sum_a / length\n",
        "  return avg\n",
        "\n",
        "print(\"AVG MAP40: \" , avg_map40())"
      ],
      "metadata": {
        "colab": {
          "base_uri": "https://localhost:8080/"
        },
        "id": "ecUHG4fhAnR7",
        "outputId": "a10e04af-f2db-458a-de9e-0b64c9da1162"
      },
      "execution_count": null,
      "outputs": [
        {
          "output_type": "stream",
          "name": "stdout",
          "text": [
            "lenght:  15\n",
            "sum:  6.64705215419501\n",
            "AVG MAP40:  0.44313681027966734\n"
          ]
        }
      ]
    },
    {
      "cell_type": "code",
      "source": [],
      "metadata": {
        "id": "qnFSSGy_BKPg"
      },
      "execution_count": null,
      "outputs": []
    },
    {
      "cell_type": "code",
      "source": [],
      "metadata": {
        "id": "a5-O64azJOcM"
      },
      "execution_count": null,
      "outputs": []
    }
  ]
}