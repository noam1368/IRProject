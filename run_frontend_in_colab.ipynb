{
  "nbformat": 4,
  "nbformat_minor": 0,
  "metadata": {
    "colab": {
      "provenance": []
    },
    "kernelspec": {
      "name": "python3",
      "display_name": "Python 3"
    },
    "language_info": {
      "name": "python"
    }
  },
  "cells": [
    {
      "cell_type": "code",
      "source": [
        "# download nltk stopwords\n",
        "import nltk\n",
        "nltk.download('stopwords')"
      ],
      "metadata": {
        "id": "bCPDHP7zTQJZ",
        "colab": {
          "base_uri": "https://localhost:8080/"
        },
        "outputId": "fe19d5d8-9aa2-4caf-8f68-367d0868246a"
      },
      "execution_count": 1,
      "outputs": [
        {
          "output_type": "stream",
          "name": "stderr",
          "text": [
            "[nltk_data] Downloading package stopwords to /root/nltk_data...\n",
            "[nltk_data]   Package stopwords is already up-to-date!\n"
          ]
        },
        {
          "output_type": "execute_result",
          "data": {
            "text/plain": [
              "True"
            ]
          },
          "metadata": {},
          "execution_count": 1
        }
      ]
    },
    {
      "cell_type": "code",
      "source": [
        "# Install a particular version of `google-cloud-storage` because (oddly enough) \n",
        "# the  version on Colab and GCP is old. A dependency error below is okay.\n",
        "!pip install -q google-cloud-storage==1.43.0"
      ],
      "metadata": {
        "id": "lAt6KT8xOgHH"
      },
      "execution_count": 2,
      "outputs": []
    },
    {
      "cell_type": "code",
      "source": [
        "# authenticate below for Google Storage access as needed\n",
        "from google.colab import auth\n",
        "auth.authenticate_user()"
      ],
      "metadata": {
        "id": "-oKFly5jFLFn"
      },
      "execution_count": 3,
      "outputs": []
    },
    {
      "cell_type": "code",
      "source": [
        "# install ngrok to emulate public IP / address\n",
        "!wget -N https://bin.equinox.io/c/4VmDzA7iaHb/ngrok-stable-linux-amd64.zip -O ngrok-stable-linux-amd64.zip\n",
        "!unzip -u ngrok-stable-linux-amd64.zip"
      ],
      "metadata": {
        "id": "FrBdFNYgiyab",
        "colab": {
          "base_uri": "https://localhost:8080/"
        },
        "outputId": "fbd54ea7-375e-4eca-8162-13acfe9176f1"
      },
      "execution_count": 5,
      "outputs": [
        {
          "output_type": "stream",
          "name": "stdout",
          "text": [
            "WARNING: timestamping does nothing in combination with -O. See the manual\n",
            "for details.\n",
            "\n",
            "--2023-01-13 14:20:08--  https://bin.equinox.io/c/4VmDzA7iaHb/ngrok-stable-linux-amd64.zip\n",
            "Resolving bin.equinox.io (bin.equinox.io)... 18.205.222.128, 54.161.241.46, 54.237.133.81, ...\n",
            "Connecting to bin.equinox.io (bin.equinox.io)|18.205.222.128|:443... connected.\n",
            "HTTP request sent, awaiting response... 200 OK\n",
            "Length: 13832437 (13M) [application/octet-stream]\n",
            "Saving to: ‘ngrok-stable-linux-amd64.zip’\n",
            "\n",
            "ngrok-stable-linux- 100%[===================>]  13.19M  12.6MB/s    in 1.0s    \n",
            "\n",
            "2023-01-13 14:20:10 (12.6 MB/s) - ‘ngrok-stable-linux-amd64.zip’ saved [13832437/13832437]\n",
            "\n",
            "Archive:  ngrok-stable-linux-amd64.zip\n",
            "  inflating: ngrok                   \n"
          ]
        }
      ]
    },
    {
      "cell_type": "code",
      "source": [
        "# TODO: sign up for an ngrok account\n",
        "# then put your ngrok token below, uncomment, and execute\n",
        "!./ngrok authtoken 22KeqcMQYpd2iRnsaZZOzlyaNw0_5NAk69pXRUMvfrf1oCNpU"
      ],
      "metadata": {
        "id": "xA-_dKEZbsXW",
        "colab": {
          "base_uri": "https://localhost:8080/"
        },
        "outputId": "9fca3bd9-9a0e-463a-f523-096316cdf992"
      },
      "execution_count": 6,
      "outputs": [
        {
          "output_type": "stream",
          "name": "stdout",
          "text": [
            "Authtoken saved to configuration file: /root/.ngrok2/ngrok.yml\n"
          ]
        }
      ]
    },
    {
      "cell_type": "code",
      "execution_count": null,
      "metadata": {
        "id": "nXn5PlyGORQr",
        "colab": {
          "base_uri": "https://localhost:8080/"
        },
        "outputId": "c823bfa1-f532-408f-be82-66cc63c64383"
      },
      "outputs": [
        {
          "output_type": "stream",
          "name": "stdout",
          "text": [
            "\u001b[?25l\r\u001b[K     |████                            | 10 kB 22.2 MB/s eta 0:00:01\r\u001b[K     |████████                        | 20 kB 26.8 MB/s eta 0:00:01\r\u001b[K     |███████████▉                    | 30 kB 31.0 MB/s eta 0:00:01\r\u001b[K     |███████████████▉                | 40 kB 16.2 MB/s eta 0:00:01\r\u001b[K     |███████████████████▊            | 51 kB 9.8 MB/s eta 0:00:01\r\u001b[K     |███████████████████████▊        | 61 kB 7.6 MB/s eta 0:00:01\r\u001b[K     |███████████████████████████▋    | 71 kB 8.1 MB/s eta 0:00:01\r\u001b[K     |███████████████████████████████▋| 81 kB 9.0 MB/s eta 0:00:01\r\u001b[K     |████████████████████████████████| 83 kB 916 kB/s \n",
            "\u001b[?25h"
          ]
        }
      ],
      "source": [
        "# install a ngrok python package and a version of flask that works with it in \n",
        "# colab\n",
        "!pip -q install flask-ngrok\n",
        "!pip -q install flask==0.12.2\n",
        "# !pip -q install flask_restful"
      ]
    },
    {
      "cell_type": "markdown",
      "source": [
        "# Run the app"
      ],
      "metadata": {
        "id": "6dW0y91OVu5J"
      }
    },
    {
      "cell_type": "code",
      "source": [
        "# you need to upload your implementation of search_app.py\n",
        "import search_frontend as se"
      ],
      "metadata": {
        "id": "7opNkV6uRHIv"
      },
      "execution_count": null,
      "outputs": []
    },
    {
      "cell_type": "code",
      "source": [
        "# uncomment the code below and execute to reload the module when you make \n",
        "# changes to search_frontend.py (after you upload again).\n",
        "# import importlib\n",
        "# importlib.reload(se)"
      ],
      "metadata": {
        "id": "oTGXXYEXV5l8"
      },
      "execution_count": null,
      "outputs": []
    },
    {
      "cell_type": "code",
      "source": [
        "from flask_ngrok import run_with_ngrok\n",
        "run_with_ngrok(se.app) \n",
        "se.app.run()"
      ],
      "metadata": {
        "id": "J5n9u9rFP_wD",
        "colab": {
          "base_uri": "https://localhost:8080/"
        },
        "outputId": "1fa290ab-72a6-4262-cb71-9316490b3c69"
      },
      "execution_count": null,
      "outputs": [
        {
          "output_type": "stream",
          "name": "stderr",
          "text": [
            " * Running on http://127.0.0.1:5000/ (Press CTRL+C to quit)\n"
          ]
        },
        {
          "output_type": "stream",
          "name": "stdout",
          "text": [
            " * Running on http://c271-34-125-136-123.ngrok.io\n",
            " * Traffic stats available on http://127.0.0.1:4040\n"
          ]
        },
        {
          "output_type": "stream",
          "name": "stderr",
          "text": [
            "127.0.0.1 - - [04/Jan/2022 08:48:13] \"\u001b[37mGET /search?query=hello HTTP/1.1\u001b[0m\" 200 -\n",
            "127.0.0.1 - - [04/Jan/2022 08:48:13] \"\u001b[33mGET /favicon.ico HTTP/1.1\u001b[0m\" 404 -\n",
            "127.0.0.1 - - [04/Jan/2022 08:49:10] \"\u001b[37mGET /search_body?query=hello HTTP/1.1\u001b[0m\" 200 -\n",
            "127.0.0.1 - - [04/Jan/2022 08:49:10] \"\u001b[33mGET /favicon.ico HTTP/1.1\u001b[0m\" 404 -\n"
          ]
        }
      ]
    },
    {
      "cell_type": "markdown",
      "source": [
        "# Testing your app\n",
        "\n",
        "Once your app is running you can query it. You can simply do that by navigating to the URL that ngrok gave you above or through code in a different python session. For example, once the frontend app is running, you can navigate to:\n",
        "http://YOUR_SERVER_DOMAIN/search?query=hello+world where YOUR_SERVER_DOMAIN is something like XXXX-XX-XX-XX-XX.ngrok.io, which is printed above in Colab or that is your external IP on GCP.\n",
        "\n",
        "The code below shows how to issue a query from python. This is also how our testing code will issue queries to your search engine, so make sure to test your search engine this way after you deploy it to GCP and before submission. Command line instructions for deploying your search engine to GCP are available at `run_frontend_in_gcp.sh`. Note that we will not only issue training queries to your search engine, but also test queries, i.e. queries that you've never seen before."
      ],
      "metadata": {
        "id": "Na0MC_1nzDbi"
      }
    },
    {
      "cell_type": "code",
      "source": [
        "map40 = {}  #all the\n",
        "#dict:  k = query: v= [[recalls],[precision],avg_precision]"
      ],
      "metadata": {
        "id": "73icOlz1UbmK"
      },
      "execution_count": 2,
      "outputs": []
    },
    {
      "cell_type": "code",
      "source": [
        "#recall = good/len(expected)\n",
        "#precision = good/place\n",
        "def map40_calculate(query, expected, predicted):#map 40 for query\n",
        "  map40[query] = [[],[],0]\n",
        "  predicted40 = predicted[:40]\n",
        "  length_expected = len(expected)\n",
        "  good = 0\n",
        "  place = 0\n",
        "  sum_precision = 0\n",
        "  for p in predicted40:\n",
        "    place += 1\n",
        "    if p in expected:\n",
        "      good+=1\n",
        "      recall = good/length_expected\n",
        "      precision = good/place\n",
        "      map40[query][0].append(recall)\n",
        "      map40[query][1].append(precision)\n",
        "      sum_precision += precision\n",
        "  #add the avg for the precision of the query\n",
        "  avg_precision = sum_precision / len(map40[query][1])\n",
        "  map40[query][2] = avg_precision\n",
        "\n",
        "\n",
        "\n",
        "length = list(map40.items())\n",
        "def avg_map40():\n",
        "  sum_a = 0\n",
        "  for k,v in map40.items():\n",
        "    sum_a += v[2]\n",
        "    print(sum_a)\n",
        "  avg = sum_a / len(length)\n",
        "  return avg\n",
        "\n",
        "\n",
        "\n"
      ],
      "metadata": {
        "id": "3G3QE88CRYZ4"
      },
      "execution_count": 10,
      "outputs": []
    },
    {
      "cell_type": "code",
      "source": [
        "import json\n",
        "\n",
        "with open('queries_train.json', 'rt') as f:\n",
        "  queries = json.load(f)"
      ],
      "metadata": {
        "id": "EM5ePrRHojbG"
      },
      "execution_count": 4,
      "outputs": []
    },
    {
      "cell_type": "code",
      "source": [
        "def average_precision(true_list, predicted_list, k=40):\n",
        "    true_set = frozenset(true_list)\n",
        "    predicted_list = predicted_list[:k]\n",
        "    precisions = []\n",
        "    for i,doc_id in enumerate(predicted_list):        \n",
        "        if doc_id in true_set:\n",
        "            prec = (len(precisions)+1) / (i+1)            \n",
        "            precisions.append(prec)\n",
        "    if len(precisions) == 0:\n",
        "        return 0.0\n",
        "    return round(sum(precisions)/len(precisions),3)"
      ],
      "metadata": {
        "id": "gWimZWCOy3Ei"
      },
      "execution_count": 5,
      "outputs": []
    },
    {
      "cell_type": "code",
      "source": [
        "import requests\n",
        "from time import time\n",
        "url = 'http://34.134.211.3:8080'\n",
        "# place the domain you got from ngrok or GCP IP below. \n",
        "# url = 'http://XXXX-XX-XX-XX-XX.ngrok.io'\n",
        "\n",
        "qs_res = []\n",
        "arr = list(queries.items())\n",
        "for i in range(len(arr)-15):\n",
        "  q, true_wids = arr[i][0],arr[i][1]\n",
        "# for q, true_wids in queries.items():\n",
        "  duration, ap = None, None\n",
        "  t_start = time()\n",
        "  try:\n",
        "    res = requests.get(url + '/search', {'query': q}, timeout=35)\n",
        "    duration = time() - t_start\n",
        "    if res.status_code == 200:\n",
        "      pred_wids, _ = zip(*res.json())\n",
        "      ap = average_precision(true_wids, pred_wids)\n",
        "      #our method map 40\n",
        "      map40_calculate(q,true_wids, pred_wids)\n",
        "      #################\n",
        "      print(\"AP: \", ap)\n",
        "  except:\n",
        "    pass\n",
        "  \n",
        "  qs_res.append((q, duration, ap))\n",
        "\n",
        "print(map40)\n",
        "\n"
      ],
      "metadata": {
        "id": "dYmNTq9u0ChK",
        "colab": {
          "base_uri": "https://localhost:8080/"
        },
        "outputId": "0c80cb31-e270-4a19-901a-b6d3b5340c0f"
      },
      "execution_count": 6,
      "outputs": [
        {
          "output_type": "stream",
          "name": "stdout",
          "text": [
            "AP:  0.162\n",
            "AP:  0.25\n",
            "AP:  0.936\n",
            "AP:  0.872\n",
            "AP:  0.135\n",
            "AP:  0.757\n",
            "AP:  0.182\n",
            "AP:  0.341\n",
            "AP:  0.07\n",
            "AP:  0.789\n",
            "AP:  0.749\n",
            "AP:  0.609\n",
            "AP:  0.221\n",
            "AP:  1.0\n",
            "AP:  0.33\n",
            "{'best marvel movie': [[0.022222222222222223, 0.044444444444444446, 0.06666666666666667, 0.08888888888888889, 0.1111111111111111, 0.13333333333333333, 0.15555555555555556, 0.17777777777777778, 0.2], [0.06666666666666667, 0.11764705882352941, 0.13043478260869565, 0.13793103448275862, 0.15625, 0.18181818181818182, 0.20588235294117646, 0.22857142857142856, 0.23076923076923078], 0.16177452629796313], 'How do kids come to world?': [[0.02], [0.25], 0.25], 'Information retrieval': [[0.025, 0.05, 0.075, 0.1, 0.125, 0.15, 0.175, 0.2, 0.225, 0.25, 0.275, 0.3, 0.325, 0.35, 0.375, 0.4, 0.425, 0.45, 0.475, 0.5, 0.525, 0.55, 0.575, 0.6], [1.0, 1.0, 1.0, 1.0, 1.0, 1.0, 1.0, 1.0, 1.0, 1.0, 1.0, 1.0, 1.0, 1.0, 1.0, 0.9411764705882353, 0.8947368421052632, 0.8571428571428571, 0.8636363636363636, 0.8333333333333334, 0.7777777777777778, 0.7586206896551724, 0.7666666666666667, 0.7741935483870968], 0.9361368562205318], 'LinkedIn': [[0.06666666666666667, 0.13333333333333333, 0.2, 0.26666666666666666, 0.3333333333333333, 0.4, 0.4666666666666667, 0.5333333333333333, 0.6, 0.6666666666666666, 0.7333333333333333, 0.8, 0.8666666666666667, 0.9333333333333333], [1.0, 1.0, 1.0, 1.0, 1.0, 1.0, 1.0, 1.0, 1.0, 0.8333333333333334, 0.7333333333333333, 0.6, 0.52, 0.5185185185185185], 0.8717989417989418], 'How to make coffee?': [[0.021739130434782608, 0.043478260869565216, 0.06521739130434782, 0.08695652173913043], [0.125, 0.14285714285714285, 0.125, 0.14814814814814814], 0.13525132275132273], 'Ritalin': [[0.02631578947368421, 0.05263157894736842, 0.07894736842105263, 0.10526315789473684, 0.13157894736842105, 0.15789473684210525, 0.18421052631578946, 0.21052631578947367, 0.23684210526315788, 0.2631578947368421, 0.2894736842105263, 0.3157894736842105, 0.34210526315789475, 0.3684210526315789, 0.39473684210526316, 0.42105263157894735], [1.0, 1.0, 1.0, 1.0, 1.0, 1.0, 0.875, 0.8888888888888888, 0.6923076923076923, 0.6666666666666666, 0.5, 0.5217391304347826, 0.52, 0.5, 0.4838709677419355, 0.45714285714285713], 0.7566010126989264], 'How to make wine at home?': [[0.02, 0.04, 0.06], [0.25, 0.16666666666666666, 0.13043478260869565], 0.1823671497584541], 'Most expensive city in the world': [[0.021739130434782608, 0.043478260869565216, 0.06521739130434782, 0.08695652173913043], [1.0, 0.18181818181818182, 0.08108108108108109, 0.1], 0.3407248157248158], 'India': [[0.02040816326530612, 0.04081632653061224], [0.07142857142857142, 0.06896551724137931], 0.07019704433497537], 'how to make money fast?': [[0.030303030303030304, 0.06060606060606061, 0.09090909090909091, 0.12121212121212122, 0.15151515151515152, 0.18181818181818182], [1.0, 1.0, 1.0, 1.0, 0.35714285714285715, 0.375], 0.7886904761904762], 'Netflix': [[0.029411764705882353, 0.058823529411764705, 0.08823529411764706, 0.11764705882352941, 0.14705882352941177, 0.17647058823529413, 0.20588235294117646, 0.23529411764705882, 0.2647058823529412], [1.0, 1.0, 1.0, 0.8, 0.8333333333333334, 0.5454545454545454, 0.5384615384615384, 0.5714285714285714, 0.45], 0.7487419987419986], 'Apple computer': [[0.023809523809523808, 0.047619047619047616, 0.07142857142857142, 0.09523809523809523, 0.11904761904761904, 0.14285714285714285, 0.16666666666666666, 0.19047619047619047, 0.21428571428571427, 0.23809523809523808, 0.2619047619047619, 0.2857142857142857, 0.30952380952380953], [1.0, 1.0, 0.6, 0.5714285714285714, 0.5555555555555556, 0.6, 0.6363636363636364, 0.6666666666666666, 0.6428571428571429, 0.4, 0.4230769230769231, 0.4444444444444444, 0.38235294117647056], 0.6094419908899548], 'The Simpsons': [[0.02564102564102564, 0.05128205128205128, 0.07692307692307693, 0.10256410256410256, 0.1282051282051282, 0.15384615384615385, 0.1794871794871795, 0.20512820512820512, 0.23076923076923078], [0.1111111111111111, 0.2, 0.2, 0.23529411764705882, 0.2631578947368421, 0.2608695652173913, 0.25, 0.23529411764705882, 0.23076923076923078], 0.2207217819031881], 'World cup': [[0.022727272727272728], [1.0], 1.0], 'How to lose weight?': [[0.022727272727272728, 0.045454545454545456, 0.06818181818181818, 0.09090909090909091, 0.11363636363636363, 0.13636363636363635], [0.3333333333333333, 0.4, 0.42857142857142855, 0.4444444444444444, 0.18518518518518517, 0.1875], 0.3298390652557319]}\n",
            "AVG MAP40:  <function avg_map40 at 0x7fa618e16310>\n"
          ]
        }
      ]
    },
    {
      "cell_type": "code",
      "source": [
        "arr = list(map40.items())\n",
        "length = len(list(map40.items()))\n",
        "print(\"lenght: \", length)\n",
        "\n",
        "def avg_map40():\n",
        "  sum_a = 0\n",
        "  for k,v in arr:\n",
        "    sum_a += v[2]\n",
        "  print(\"sum: \", sum_a)\n",
        "  avg = sum_a / length\n",
        "  return avg\n",
        "\n",
        "print(\"AVG MAP40: \" , avg_map40())"
      ],
      "metadata": {
        "colab": {
          "base_uri": "https://localhost:8080/"
        },
        "id": "-wfIx3baoRAD",
        "outputId": "b0ebca60-ca70-4530-f124-dd3a869fa356"
      },
      "execution_count": 18,
      "outputs": [
        {
          "output_type": "stream",
          "name": "stdout",
          "text": [
            "lenght:  15\n",
            "sum:  7.40228698256728\n",
            "AVG MAP40:  0.4934857988378187\n"
          ]
        }
      ]
    },
    {
      "cell_type": "code",
      "source": [
        "import pandas as pd\n",
        "\n",
        "new = pd.DataFrame.from_dict(map40)\n",
        "new.to_csv(\"summary.csv\")\n",
        "new"
      ],
      "metadata": {
        "colab": {
          "base_uri": "https://localhost:8080/",
          "height": 381
        },
        "id": "qM_6rslbp7fT",
        "outputId": "57ec0740-ce7c-4522-f8be-ecc31d8ba6d0"
      },
      "execution_count": 20,
      "outputs": [
        {
          "output_type": "execute_result",
          "data": {
            "text/plain": [
              "                                   best marvel movie  \\\n",
              "0  [0.022222222222222223, 0.044444444444444446, 0...   \n",
              "1  [0.06666666666666667, 0.11764705882352941, 0.1...   \n",
              "2                                           0.161775   \n",
              "\n",
              "  How do kids come to world?  \\\n",
              "0                     [0.02]   \n",
              "1                     [0.25]   \n",
              "2                       0.25   \n",
              "\n",
              "                               Information retrieval  \\\n",
              "0  [0.025, 0.05, 0.075, 0.1, 0.125, 0.15, 0.175, ...   \n",
              "1  [1.0, 1.0, 1.0, 1.0, 1.0, 1.0, 1.0, 1.0, 1.0, ...   \n",
              "2                                           0.936137   \n",
              "\n",
              "                                            LinkedIn  \\\n",
              "0  [0.06666666666666667, 0.13333333333333333, 0.2...   \n",
              "1  [1.0, 1.0, 1.0, 1.0, 1.0, 1.0, 1.0, 1.0, 1.0, ...   \n",
              "2                                           0.871799   \n",
              "\n",
              "                                 How to make coffee?  \\\n",
              "0  [0.021739130434782608, 0.043478260869565216, 0...   \n",
              "1  [0.125, 0.14285714285714285, 0.125, 0.14814814...   \n",
              "2                                           0.135251   \n",
              "\n",
              "                                             Ritalin  \\\n",
              "0  [0.02631578947368421, 0.05263157894736842, 0.0...   \n",
              "1  [1.0, 1.0, 1.0, 1.0, 1.0, 1.0, 0.875, 0.888888...   \n",
              "2                                           0.756601   \n",
              "\n",
              "                          How to make wine at home?  \\\n",
              "0                                [0.02, 0.04, 0.06]   \n",
              "1  [0.25, 0.16666666666666666, 0.13043478260869565]   \n",
              "2                                          0.182367   \n",
              "\n",
              "                    Most expensive city in the world  \\\n",
              "0  [0.021739130434782608, 0.043478260869565216, 0...   \n",
              "1  [1.0, 0.18181818181818182, 0.08108108108108109...   \n",
              "2                                           0.340725   \n",
              "\n",
              "                                        India  \\\n",
              "0  [0.02040816326530612, 0.04081632653061224]   \n",
              "1  [0.07142857142857142, 0.06896551724137931]   \n",
              "2                                    0.070197   \n",
              "\n",
              "                             how to make money fast?  \\\n",
              "0  [0.030303030303030304, 0.06060606060606061, 0....   \n",
              "1   [1.0, 1.0, 1.0, 1.0, 0.35714285714285715, 0.375]   \n",
              "2                                            0.78869   \n",
              "\n",
              "                                             Netflix  \\\n",
              "0  [0.029411764705882353, 0.058823529411764705, 0...   \n",
              "1  [1.0, 1.0, 1.0, 0.8, 0.8333333333333334, 0.545...   \n",
              "2                                           0.748742   \n",
              "\n",
              "                                      Apple computer  \\\n",
              "0  [0.023809523809523808, 0.047619047619047616, 0...   \n",
              "1  [1.0, 1.0, 0.6, 0.5714285714285714, 0.55555555...   \n",
              "2                                           0.609442   \n",
              "\n",
              "                                        The Simpsons               World cup  \\\n",
              "0  [0.02564102564102564, 0.05128205128205128, 0.0...  [0.022727272727272728]   \n",
              "1  [0.1111111111111111, 0.2, 0.2, 0.2352941176470...                   [1.0]   \n",
              "2                                           0.220722                     1.0   \n",
              "\n",
              "                                 How to lose weight?  \n",
              "0  [0.022727272727272728, 0.045454545454545456, 0...  \n",
              "1  [0.3333333333333333, 0.4, 0.42857142857142855,...  \n",
              "2                                           0.329839  "
            ],
            "text/html": [
              "\n",
              "  <div id=\"df-974e9c48-0acc-42fe-aba9-696c688a35b1\">\n",
              "    <div class=\"colab-df-container\">\n",
              "      <div>\n",
              "<style scoped>\n",
              "    .dataframe tbody tr th:only-of-type {\n",
              "        vertical-align: middle;\n",
              "    }\n",
              "\n",
              "    .dataframe tbody tr th {\n",
              "        vertical-align: top;\n",
              "    }\n",
              "\n",
              "    .dataframe thead th {\n",
              "        text-align: right;\n",
              "    }\n",
              "</style>\n",
              "<table border=\"1\" class=\"dataframe\">\n",
              "  <thead>\n",
              "    <tr style=\"text-align: right;\">\n",
              "      <th></th>\n",
              "      <th>best marvel movie</th>\n",
              "      <th>How do kids come to world?</th>\n",
              "      <th>Information retrieval</th>\n",
              "      <th>LinkedIn</th>\n",
              "      <th>How to make coffee?</th>\n",
              "      <th>Ritalin</th>\n",
              "      <th>How to make wine at home?</th>\n",
              "      <th>Most expensive city in the world</th>\n",
              "      <th>India</th>\n",
              "      <th>how to make money fast?</th>\n",
              "      <th>Netflix</th>\n",
              "      <th>Apple computer</th>\n",
              "      <th>The Simpsons</th>\n",
              "      <th>World cup</th>\n",
              "      <th>How to lose weight?</th>\n",
              "    </tr>\n",
              "  </thead>\n",
              "  <tbody>\n",
              "    <tr>\n",
              "      <th>0</th>\n",
              "      <td>[0.022222222222222223, 0.044444444444444446, 0...</td>\n",
              "      <td>[0.02]</td>\n",
              "      <td>[0.025, 0.05, 0.075, 0.1, 0.125, 0.15, 0.175, ...</td>\n",
              "      <td>[0.06666666666666667, 0.13333333333333333, 0.2...</td>\n",
              "      <td>[0.021739130434782608, 0.043478260869565216, 0...</td>\n",
              "      <td>[0.02631578947368421, 0.05263157894736842, 0.0...</td>\n",
              "      <td>[0.02, 0.04, 0.06]</td>\n",
              "      <td>[0.021739130434782608, 0.043478260869565216, 0...</td>\n",
              "      <td>[0.02040816326530612, 0.04081632653061224]</td>\n",
              "      <td>[0.030303030303030304, 0.06060606060606061, 0....</td>\n",
              "      <td>[0.029411764705882353, 0.058823529411764705, 0...</td>\n",
              "      <td>[0.023809523809523808, 0.047619047619047616, 0...</td>\n",
              "      <td>[0.02564102564102564, 0.05128205128205128, 0.0...</td>\n",
              "      <td>[0.022727272727272728]</td>\n",
              "      <td>[0.022727272727272728, 0.045454545454545456, 0...</td>\n",
              "    </tr>\n",
              "    <tr>\n",
              "      <th>1</th>\n",
              "      <td>[0.06666666666666667, 0.11764705882352941, 0.1...</td>\n",
              "      <td>[0.25]</td>\n",
              "      <td>[1.0, 1.0, 1.0, 1.0, 1.0, 1.0, 1.0, 1.0, 1.0, ...</td>\n",
              "      <td>[1.0, 1.0, 1.0, 1.0, 1.0, 1.0, 1.0, 1.0, 1.0, ...</td>\n",
              "      <td>[0.125, 0.14285714285714285, 0.125, 0.14814814...</td>\n",
              "      <td>[1.0, 1.0, 1.0, 1.0, 1.0, 1.0, 0.875, 0.888888...</td>\n",
              "      <td>[0.25, 0.16666666666666666, 0.13043478260869565]</td>\n",
              "      <td>[1.0, 0.18181818181818182, 0.08108108108108109...</td>\n",
              "      <td>[0.07142857142857142, 0.06896551724137931]</td>\n",
              "      <td>[1.0, 1.0, 1.0, 1.0, 0.35714285714285715, 0.375]</td>\n",
              "      <td>[1.0, 1.0, 1.0, 0.8, 0.8333333333333334, 0.545...</td>\n",
              "      <td>[1.0, 1.0, 0.6, 0.5714285714285714, 0.55555555...</td>\n",
              "      <td>[0.1111111111111111, 0.2, 0.2, 0.2352941176470...</td>\n",
              "      <td>[1.0]</td>\n",
              "      <td>[0.3333333333333333, 0.4, 0.42857142857142855,...</td>\n",
              "    </tr>\n",
              "    <tr>\n",
              "      <th>2</th>\n",
              "      <td>0.161775</td>\n",
              "      <td>0.25</td>\n",
              "      <td>0.936137</td>\n",
              "      <td>0.871799</td>\n",
              "      <td>0.135251</td>\n",
              "      <td>0.756601</td>\n",
              "      <td>0.182367</td>\n",
              "      <td>0.340725</td>\n",
              "      <td>0.070197</td>\n",
              "      <td>0.78869</td>\n",
              "      <td>0.748742</td>\n",
              "      <td>0.609442</td>\n",
              "      <td>0.220722</td>\n",
              "      <td>1.0</td>\n",
              "      <td>0.329839</td>\n",
              "    </tr>\n",
              "  </tbody>\n",
              "</table>\n",
              "</div>\n",
              "      <button class=\"colab-df-convert\" onclick=\"convertToInteractive('df-974e9c48-0acc-42fe-aba9-696c688a35b1')\"\n",
              "              title=\"Convert this dataframe to an interactive table.\"\n",
              "              style=\"display:none;\">\n",
              "        \n",
              "  <svg xmlns=\"http://www.w3.org/2000/svg\" height=\"24px\"viewBox=\"0 0 24 24\"\n",
              "       width=\"24px\">\n",
              "    <path d=\"M0 0h24v24H0V0z\" fill=\"none\"/>\n",
              "    <path d=\"M18.56 5.44l.94 2.06.94-2.06 2.06-.94-2.06-.94-.94-2.06-.94 2.06-2.06.94zm-11 1L8.5 8.5l.94-2.06 2.06-.94-2.06-.94L8.5 2.5l-.94 2.06-2.06.94zm10 10l.94 2.06.94-2.06 2.06-.94-2.06-.94-.94-2.06-.94 2.06-2.06.94z\"/><path d=\"M17.41 7.96l-1.37-1.37c-.4-.4-.92-.59-1.43-.59-.52 0-1.04.2-1.43.59L10.3 9.45l-7.72 7.72c-.78.78-.78 2.05 0 2.83L4 21.41c.39.39.9.59 1.41.59.51 0 1.02-.2 1.41-.59l7.78-7.78 2.81-2.81c.8-.78.8-2.07 0-2.86zM5.41 20L4 18.59l7.72-7.72 1.47 1.35L5.41 20z\"/>\n",
              "  </svg>\n",
              "      </button>\n",
              "      \n",
              "  <style>\n",
              "    .colab-df-container {\n",
              "      display:flex;\n",
              "      flex-wrap:wrap;\n",
              "      gap: 12px;\n",
              "    }\n",
              "\n",
              "    .colab-df-convert {\n",
              "      background-color: #E8F0FE;\n",
              "      border: none;\n",
              "      border-radius: 50%;\n",
              "      cursor: pointer;\n",
              "      display: none;\n",
              "      fill: #1967D2;\n",
              "      height: 32px;\n",
              "      padding: 0 0 0 0;\n",
              "      width: 32px;\n",
              "    }\n",
              "\n",
              "    .colab-df-convert:hover {\n",
              "      background-color: #E2EBFA;\n",
              "      box-shadow: 0px 1px 2px rgba(60, 64, 67, 0.3), 0px 1px 3px 1px rgba(60, 64, 67, 0.15);\n",
              "      fill: #174EA6;\n",
              "    }\n",
              "\n",
              "    [theme=dark] .colab-df-convert {\n",
              "      background-color: #3B4455;\n",
              "      fill: #D2E3FC;\n",
              "    }\n",
              "\n",
              "    [theme=dark] .colab-df-convert:hover {\n",
              "      background-color: #434B5C;\n",
              "      box-shadow: 0px 1px 3px 1px rgba(0, 0, 0, 0.15);\n",
              "      filter: drop-shadow(0px 1px 2px rgba(0, 0, 0, 0.3));\n",
              "      fill: #FFFFFF;\n",
              "    }\n",
              "  </style>\n",
              "\n",
              "      <script>\n",
              "        const buttonEl =\n",
              "          document.querySelector('#df-974e9c48-0acc-42fe-aba9-696c688a35b1 button.colab-df-convert');\n",
              "        buttonEl.style.display =\n",
              "          google.colab.kernel.accessAllowed ? 'block' : 'none';\n",
              "\n",
              "        async function convertToInteractive(key) {\n",
              "          const element = document.querySelector('#df-974e9c48-0acc-42fe-aba9-696c688a35b1');\n",
              "          const dataTable =\n",
              "            await google.colab.kernel.invokeFunction('convertToInteractive',\n",
              "                                                     [key], {});\n",
              "          if (!dataTable) return;\n",
              "\n",
              "          const docLinkHtml = 'Like what you see? Visit the ' +\n",
              "            '<a target=\"_blank\" href=https://colab.research.google.com/notebooks/data_table.ipynb>data table notebook</a>'\n",
              "            + ' to learn more about interactive tables.';\n",
              "          element.innerHTML = '';\n",
              "          dataTable['output_type'] = 'display_data';\n",
              "          await google.colab.output.renderOutput(dataTable, element);\n",
              "          const docLink = document.createElement('div');\n",
              "          docLink.innerHTML = docLinkHtml;\n",
              "          element.appendChild(docLink);\n",
              "        }\n",
              "      </script>\n",
              "    </div>\n",
              "  </div>\n",
              "  "
            ]
          },
          "metadata": {},
          "execution_count": 20
        }
      ]
    },
    {
      "cell_type": "code",
      "source": [
        "import matplotlib.pyplot as plt\n",
        "\n",
        "queries = map(lambda x:)\n",
        "df = pd.DataFrame([[5, 2, 0], [3, 3, 2], [0, 1, 11]], classes, classes)\n",
        "new.plot(kind = 'scatter', x = 'Duration', y = 'Calories')"
      ],
      "metadata": {
        "id": "aUjjtbHGrXJr"
      },
      "execution_count": null,
      "outputs": []
    },
    {
      "cell_type": "code",
      "source": [
        "print(qs_res[13])"
      ],
      "metadata": {
        "colab": {
          "base_uri": "https://localhost:8080/"
        },
        "id": "_OGXyKqYtue8",
        "outputId": "36224fc7-d532-4d94-a105-a3257126da43"
      },
      "execution_count": 25,
      "outputs": [
        {
          "output_type": "stream",
          "name": "stdout",
          "text": [
            "('World cup', 4.538382053375244, 1.0)\n"
          ]
        }
      ]
    },
    {
      "cell_type": "code",
      "source": [
        "sum = 0\n",
        "for q, duration, ap in qs_res:\n",
        "  sum+=ap\n",
        "\n",
        "print(sum/len(qs_res))"
      ],
      "metadata": {
        "colab": {
          "base_uri": "https://localhost:8080/"
        },
        "id": "4e9f7qCxCetX",
        "outputId": "571f1995-23ab-4192-a322-2b600f4ffe4e"
      },
      "execution_count": 4,
      "outputs": [
        {
          "output_type": "stream",
          "name": "stdout",
          "text": [
            "0.4935333333333334\n"
          ]
        }
      ]
    }
  ]
}