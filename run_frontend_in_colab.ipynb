{
  "nbformat": 4,
  "nbformat_minor": 0,
  "metadata": {
    "colab": {
      "provenance": []
    },
    "kernelspec": {
      "name": "python3",
      "display_name": "Python 3"
    },
    "language_info": {
      "name": "python"
    }
  },
  "cells": [
    {
      "cell_type": "code",
      "source": [
        "# download nltk stopwords\n",
        "import nltk\n",
        "nltk.download('stopwords')"
      ],
      "metadata": {
        "id": "bCPDHP7zTQJZ",
        "colab": {
          "base_uri": "https://localhost:8080/"
        },
        "outputId": "fe19d5d8-9aa2-4caf-8f68-367d0868246a"
      },
      "execution_count": null,
      "outputs": [
        {
          "output_type": "stream",
          "name": "stderr",
          "text": [
            "[nltk_data] Downloading package stopwords to /root/nltk_data...\n",
            "[nltk_data]   Package stopwords is already up-to-date!\n"
          ]
        },
        {
          "output_type": "execute_result",
          "data": {
            "text/plain": [
              "True"
            ]
          },
          "metadata": {},
          "execution_count": 1
        }
      ]
    },
    {
      "cell_type": "code",
      "source": [
        "# Install a particular version of `google-cloud-storage` because (oddly enough) \n",
        "# the  version on Colab and GCP is old. A dependency error below is okay.\n",
        "!pip install -q google-cloud-storage==1.43.0"
      ],
      "metadata": {
        "id": "lAt6KT8xOgHH"
      },
      "execution_count": null,
      "outputs": []
    },
    {
      "cell_type": "code",
      "source": [
        "# authenticate below for Google Storage access as needed\n",
        "from google.colab import auth\n",
        "auth.authenticate_user()"
      ],
      "metadata": {
        "id": "-oKFly5jFLFn"
      },
      "execution_count": null,
      "outputs": []
    },
    {
      "cell_type": "code",
      "source": [
        "# install ngrok to emulate public IP / address\n",
        "!wget -N https://bin.equinox.io/c/4VmDzA7iaHb/ngrok-stable-linux-amd64.zip -O ngrok-stable-linux-amd64.zip\n",
        "!unzip -u ngrok-stable-linux-amd64.zip"
      ],
      "metadata": {
        "id": "FrBdFNYgiyab",
        "colab": {
          "base_uri": "https://localhost:8080/"
        },
        "outputId": "fbd54ea7-375e-4eca-8162-13acfe9176f1"
      },
      "execution_count": null,
      "outputs": [
        {
          "output_type": "stream",
          "name": "stdout",
          "text": [
            "WARNING: timestamping does nothing in combination with -O. See the manual\n",
            "for details.\n",
            "\n",
            "--2023-01-13 14:20:08--  https://bin.equinox.io/c/4VmDzA7iaHb/ngrok-stable-linux-amd64.zip\n",
            "Resolving bin.equinox.io (bin.equinox.io)... 18.205.222.128, 54.161.241.46, 54.237.133.81, ...\n",
            "Connecting to bin.equinox.io (bin.equinox.io)|18.205.222.128|:443... connected.\n",
            "HTTP request sent, awaiting response... 200 OK\n",
            "Length: 13832437 (13M) [application/octet-stream]\n",
            "Saving to: ‘ngrok-stable-linux-amd64.zip’\n",
            "\n",
            "ngrok-stable-linux- 100%[===================>]  13.19M  12.6MB/s    in 1.0s    \n",
            "\n",
            "2023-01-13 14:20:10 (12.6 MB/s) - ‘ngrok-stable-linux-amd64.zip’ saved [13832437/13832437]\n",
            "\n",
            "Archive:  ngrok-stable-linux-amd64.zip\n",
            "  inflating: ngrok                   \n"
          ]
        }
      ]
    },
    {
      "cell_type": "code",
      "source": [
        "# TODO: sign up for an ngrok account\n",
        "# then put your ngrok token below, uncomment, and execute\n",
        "!./ngrok authtoken 22KeqcMQYpd2iRnsaZZOzlyaNw0_5NAk69pXRUMvfrf1oCNpU"
      ],
      "metadata": {
        "id": "xA-_dKEZbsXW",
        "colab": {
          "base_uri": "https://localhost:8080/"
        },
        "outputId": "9fca3bd9-9a0e-463a-f523-096316cdf992"
      },
      "execution_count": null,
      "outputs": [
        {
          "output_type": "stream",
          "name": "stdout",
          "text": [
            "Authtoken saved to configuration file: /root/.ngrok2/ngrok.yml\n"
          ]
        }
      ]
    },
    {
      "cell_type": "code",
      "execution_count": null,
      "metadata": {
        "id": "nXn5PlyGORQr",
        "colab": {
          "base_uri": "https://localhost:8080/"
        },
        "outputId": "c823bfa1-f532-408f-be82-66cc63c64383"
      },
      "outputs": [
        {
          "output_type": "stream",
          "name": "stdout",
          "text": [
            "\u001b[?25l\r\u001b[K     |████                            | 10 kB 22.2 MB/s eta 0:00:01\r\u001b[K     |████████                        | 20 kB 26.8 MB/s eta 0:00:01\r\u001b[K     |███████████▉                    | 30 kB 31.0 MB/s eta 0:00:01\r\u001b[K     |███████████████▉                | 40 kB 16.2 MB/s eta 0:00:01\r\u001b[K     |███████████████████▊            | 51 kB 9.8 MB/s eta 0:00:01\r\u001b[K     |███████████████████████▊        | 61 kB 7.6 MB/s eta 0:00:01\r\u001b[K     |███████████████████████████▋    | 71 kB 8.1 MB/s eta 0:00:01\r\u001b[K     |███████████████████████████████▋| 81 kB 9.0 MB/s eta 0:00:01\r\u001b[K     |████████████████████████████████| 83 kB 916 kB/s \n",
            "\u001b[?25h"
          ]
        }
      ],
      "source": [
        "# install a ngrok python package and a version of flask that works with it in \n",
        "# colab\n",
        "!pip -q install flask-ngrok\n",
        "!pip -q install flask==0.12.2\n",
        "# !pip -q install flask_restful"
      ]
    },
    {
      "cell_type": "markdown",
      "source": [
        "# Run the app"
      ],
      "metadata": {
        "id": "6dW0y91OVu5J"
      }
    },
    {
      "cell_type": "code",
      "source": [
        "# you need to upload your implementation of search_app.py\n",
        "import search_frontend as se"
      ],
      "metadata": {
        "id": "7opNkV6uRHIv"
      },
      "execution_count": null,
      "outputs": []
    },
    {
      "cell_type": "code",
      "source": [
        "# uncomment the code below and execute to reload the module when you make \n",
        "# changes to search_frontend.py (after you upload again).\n",
        "# import importlib\n",
        "# importlib.reload(se)"
      ],
      "metadata": {
        "id": "oTGXXYEXV5l8"
      },
      "execution_count": null,
      "outputs": []
    },
    {
      "cell_type": "code",
      "source": [
        "from flask_ngrok import run_with_ngrok\n",
        "run_with_ngrok(se.app) \n",
        "se.app.run()"
      ],
      "metadata": {
        "id": "J5n9u9rFP_wD",
        "colab": {
          "base_uri": "https://localhost:8080/"
        },
        "outputId": "1fa290ab-72a6-4262-cb71-9316490b3c69"
      },
      "execution_count": null,
      "outputs": [
        {
          "output_type": "stream",
          "name": "stderr",
          "text": [
            " * Running on http://127.0.0.1:5000/ (Press CTRL+C to quit)\n"
          ]
        },
        {
          "output_type": "stream",
          "name": "stdout",
          "text": [
            " * Running on http://c271-34-125-136-123.ngrok.io\n",
            " * Traffic stats available on http://127.0.0.1:4040\n"
          ]
        },
        {
          "output_type": "stream",
          "name": "stderr",
          "text": [
            "127.0.0.1 - - [04/Jan/2022 08:48:13] \"\u001b[37mGET /search?query=hello HTTP/1.1\u001b[0m\" 200 -\n",
            "127.0.0.1 - - [04/Jan/2022 08:48:13] \"\u001b[33mGET /favicon.ico HTTP/1.1\u001b[0m\" 404 -\n",
            "127.0.0.1 - - [04/Jan/2022 08:49:10] \"\u001b[37mGET /search_body?query=hello HTTP/1.1\u001b[0m\" 200 -\n",
            "127.0.0.1 - - [04/Jan/2022 08:49:10] \"\u001b[33mGET /favicon.ico HTTP/1.1\u001b[0m\" 404 -\n"
          ]
        }
      ]
    },
    {
      "cell_type": "markdown",
      "source": [
        "# Testing your app\n",
        "\n",
        "Once your app is running you can query it. You can simply do that by navigating to the URL that ngrok gave you above or through code in a different python session. For example, once the frontend app is running, you can navigate to:\n",
        "http://YOUR_SERVER_DOMAIN/search?query=hello+world where YOUR_SERVER_DOMAIN is something like XXXX-XX-XX-XX-XX.ngrok.io, which is printed above in Colab or that is your external IP on GCP.\n",
        "\n",
        "The code below shows how to issue a query from python. This is also how our testing code will issue queries to your search engine, so make sure to test your search engine this way after you deploy it to GCP and before submission. Command line instructions for deploying your search engine to GCP are available at `run_frontend_in_gcp.sh`. Note that we will not only issue training queries to your search engine, but also test queries, i.e. queries that you've never seen before."
      ],
      "metadata": {
        "id": "Na0MC_1nzDbi"
      }
    },
    {
      "cell_type": "code",
      "source": [
        "import sys\n",
        "from collections import Counter, OrderedDict\n",
        "import itertools\n",
        "from itertools import islice, count, groupby\n",
        "import pandas as pd\n",
        "import os\n",
        "import re\n",
        "from operator import itemgetter\n",
        "import nltk\n",
        "from nltk.stem.porter import *\n",
        "from nltk.corpus import stopwords\n",
        "from time import time\n",
        "from timeit import timeit\n",
        "from pathlib import Path\n",
        "import pickle\n",
        "import pandas as pd\n",
        "import numpy as np\n",
        "from google.cloud import storage\n",
        "\n",
        "import hashlib\n",
        "def _hash(s):\n",
        "    return hashlib.blake2b(bytes(s, encoding='utf8'), digest_size=5).hexdigest()\n",
        "\n",
        "nltk.download('stopwords')"
      ],
      "metadata": {
        "colab": {
          "base_uri": "https://localhost:8080/"
        },
        "id": "ABIFvXUTIreP",
        "outputId": "32a3b473-8041-431f-e539-ae560bd0a2ba"
      },
      "execution_count": 100,
      "outputs": [
        {
          "output_type": "stream",
          "name": "stderr",
          "text": [
            "[nltk_data] Downloading package stopwords to /root/nltk_data...\n",
            "[nltk_data]   Unzipping corpora/stopwords.zip.\n"
          ]
        },
        {
          "output_type": "execute_result",
          "data": {
            "text/plain": [
              "True"
            ]
          },
          "metadata": {},
          "execution_count": 100
        }
      ]
    },
    {
      "cell_type": "code",
      "source": [
        "TUPLE_SIZE = 6       # We're going to pack the doc_id and tf values in this many bytes.\n",
        "TF_MASK = 2 ** 16 - 1 # Masking the 16 low bits of an integer\n",
        "\n",
        "nltk.download('stopwords')\n",
        "english_stopwords = frozenset(stopwords.words('english'))\n",
        "corpus_stopwords = [\"category\", \"references\", \"also\", \"external\", \"links\",\n",
        "                    \"may\", \"first\", \"see\", \"history\", \"people\", \"one\", \"two\",\n",
        "                    \"part\", \"thumb\", \"including\", \"second\", \"following\",\n",
        "                    \"many\", \"however\", \"would\", \"became\"]\n",
        "\n",
        "all_stopwords = english_stopwords.union(corpus_stopwords) #this is containing all the stop words\n",
        "RE_WORD = re.compile(r\"\"\"[\\#\\@\\w](['\\-]?\\w){2,24}\"\"\", re.UNICODE)\n",
        "\n",
        "def tokenize(text):\n",
        "    \"\"\"\n",
        "    This function aims in tokenize a text into a list of tokens. Moreover, it filter stopwords.\n",
        "\n",
        "    Parameters:\n",
        "    -----------\n",
        "    text: string , represting the text to tokenize.\n",
        "\n",
        "    Returns:\n",
        "    -----------\n",
        "    list of tokens (e.g., list of tokens).\n",
        "    \"\"\"\n",
        "    list_of_tokens = [token.group() for token in RE_WORD.finditer(text.lower()) if\n",
        "                      token.group() not in all_stopwords]\n",
        "    return list_of_tokens"
      ],
      "metadata": {
        "colab": {
          "base_uri": "https://localhost:8080/"
        },
        "id": "pUaCGYZFIil4",
        "outputId": "f1f01d11-f3d5-462e-b8ee-a7484283d534"
      },
      "execution_count": 101,
      "outputs": [
        {
          "output_type": "stream",
          "name": "stderr",
          "text": [
            "[nltk_data] Downloading package stopwords to /root/nltk_data...\n",
            "[nltk_data]   Package stopwords is already up-to-date!\n"
          ]
        }
      ]
    },
    {
      "cell_type": "code",
      "source": [
        "map40 = {}  #all the\n",
        "#dict:  k = query: v= [[recalls],[precision],avg_precision, time, query tokens quntity]"
      ],
      "metadata": {
        "id": "73icOlz1UbmK"
      },
      "execution_count": 179,
      "outputs": []
    },
    {
      "cell_type": "code",
      "source": [
        "#recall = good/len(expected)\n",
        "#precision = good/place\n",
        "def map40_calculate(query, expected, predicted, duration,q_q):#map 40 for query\n",
        "  map40[query] = [[],[],0,0,0]\n",
        "  predicted40 = predicted[:40]\n",
        "  length_expected = len(expected)\n",
        "  good = 0\n",
        "  place = 0\n",
        "  sum_precision = 0\n",
        "  for p in predicted40:\n",
        "    place += 1\n",
        "    if p in list(expected):\n",
        "      good+=1\n",
        "      recall = good/length_expected\n",
        "      precision = good/place\n",
        "      map40[query][0].append(recall)\n",
        "      map40[query][1].append(precision)\n",
        "      sum_precision += precision\n",
        "  #add the avg for the precision of the query\n",
        "  avg_precision = sum_precision / (len(map40[query][1])+0.0000001)\n",
        "  map40[query][2] = avg_precision\n",
        "  map40[query][3] = duration\n",
        "  map40[query][4] = q_q\n",
        "\n",
        "\n",
        "\n",
        "# length = list(map40.items())\n",
        "# def avg_map40():\n",
        "#   sum_a = 0\n",
        "#   for k,v in map40.items():\n",
        "#     sum_a += v[2]\n",
        "#     print(sum_a)\n",
        "#   avg = sum_a / len(length)\n",
        "#   return avg\n",
        "\n",
        "\n",
        "\n"
      ],
      "metadata": {
        "id": "3G3QE88CRYZ4"
      },
      "execution_count": 180,
      "outputs": []
    },
    {
      "cell_type": "code",
      "source": [
        "import json\n",
        "\n",
        "with open('queries_train.json', 'rt') as f:\n",
        "  queries = json.load(f)"
      ],
      "metadata": {
        "id": "EM5ePrRHojbG"
      },
      "execution_count": 122,
      "outputs": []
    },
    {
      "cell_type": "code",
      "source": [
        "def average_precision(true_list, predicted_list, k=40):\n",
        "    true_set = frozenset(true_list)\n",
        "    predicted_list = predicted_list[:k]\n",
        "    precisions = []\n",
        "    for i,doc_id in enumerate(predicted_list):        \n",
        "        if doc_id in true_set:\n",
        "            prec = (len(precisions)+1) / (i+1)            \n",
        "            precisions.append(prec)\n",
        "    if len(precisions) == 0:\n",
        "        return 0.0\n",
        "    return round(sum(precisions)/len(precisions),3)"
      ],
      "metadata": {
        "id": "gWimZWCOy3Ei"
      },
      "execution_count": 123,
      "outputs": []
    },
    {
      "cell_type": "code",
      "source": [
        "import requests\n",
        "from time import time\n",
        "url = 'http://34.134.211.3:8080'\n",
        "# place the domain you got from ngrok or GCP IP below. \n",
        "# url = 'http://XXXX-XX-XX-XX-XX.ngrok.io'\n",
        "\n",
        "qs_res = []\n",
        "arr = list(queries.items())\n",
        "for i in range(len(arr)):\n",
        "  q, true_wids = arr[i][0],arr[i][1]\n",
        "# for q, true_wids in queries.items():\n",
        "  duration, ap = None, None\n",
        "  t_start = time()\n",
        "  try:\n",
        "    res = requests.get(url + '/search', {'query': q}, timeout=35)\n",
        "    duration = time() - t_start\n",
        "    if res.status_code == 200:\n",
        "      pred_wids, _ = zip(*res.json())\n",
        "      ap = average_precision(true_wids, pred_wids)\n",
        "      #our method map 40\n",
        "      q_q = len(tokenize(q))\n",
        "      map40_calculate(q,true_wids, pred_wids, duration,q_q)\n",
        "      #################\n",
        "      print(\"AP: \", ap)\n",
        "  except:\n",
        "    pass\n",
        "  \n",
        "  qs_res.append((q, duration, ap))\n",
        "\n",
        "print(map40)\n",
        "\n"
      ],
      "metadata": {
        "id": "dYmNTq9u0ChK",
        "colab": {
          "base_uri": "https://localhost:8080/"
        },
        "outputId": "4122cd94-3b48-4eb9-87d4-c06486f5d911"
      },
      "execution_count": 181,
      "outputs": [
        {
          "output_type": "stream",
          "name": "stdout",
          "text": [
            "AP:  0.12\n",
            "AP:  0.194\n",
            "AP:  0.923\n",
            "AP:  0.839\n",
            "AP:  0.417\n",
            "AP:  0.757\n",
            "AP:  0.28\n",
            "AP:  0.094\n",
            "AP:  0.07\n",
            "AP:  0.716\n",
            "AP:  0.765\n",
            "AP:  0.62\n",
            "AP:  0.173\n",
            "AP:  1.0\n",
            "AP:  0.475\n",
            "AP:  0.531\n",
            "AP:  0.37\n",
            "AP:  0.292\n",
            "AP:  0.11\n",
            "AP:  0.283\n",
            "AP:  0.642\n",
            "AP:  0.604\n",
            "AP:  0.751\n",
            "AP:  0.673\n",
            "AP:  0.593\n",
            "AP:  0.71\n",
            "AP:  0.0\n",
            "AP:  0.455\n",
            "AP:  0.0\n",
            "{'best marvel movie': [[0.022222222222222223, 0.044444444444444446, 0.06666666666666667, 0.08888888888888889, 0.1111111111111111], [0.058823529411764705, 0.1111111111111111, 0.13636363636363635, 0.16666666666666666, 0.125], 0.11959298631877605, 30.273027658462524, 3], 'How do kids come to world?': [[0.02, 0.04, 0.06], [0.16666666666666666, 0.25, 0.16666666666666666], 0.19444443796296315, 4.396238327026367, 3], 'Information retrieval': [[0.025, 0.05, 0.075, 0.1, 0.125, 0.15, 0.175, 0.2, 0.225, 0.25, 0.275, 0.3, 0.325, 0.35, 0.375, 0.4, 0.425, 0.45, 0.475, 0.5, 0.525, 0.55], [1.0, 1.0, 1.0, 1.0, 1.0, 1.0, 1.0, 1.0, 1.0, 0.9090909090909091, 0.9166666666666666, 0.9230769230769231, 0.9285714285714286, 0.9333333333333333, 0.9375, 0.8888888888888888, 0.85, 0.8571428571428571, 0.8260869565217391, 0.7692307692307693, 0.7777777777777778, 0.7857142857142857], 0.9228673047149476, 1.0254058837890625, 2], 'LinkedIn': [[0.06666666666666667, 0.13333333333333333, 0.2, 0.26666666666666666, 0.3333333333333333, 0.4, 0.4666666666666667, 0.5333333333333333, 0.6, 0.6666666666666666, 0.7333333333333333, 0.8, 0.8666666666666667, 0.9333333333333333], [1.0, 1.0, 1.0, 1.0, 1.0, 1.0, 1.0, 0.8888888888888888, 0.8181818181818182, 0.7142857142857143, 0.6875, 0.6, 0.52, 0.5185185185185185], 0.8390982039975086, 0.09195780754089355, 1], 'How to make coffee?': [[0.021739130434782608, 0.043478260869565216, 0.06521739130434782, 0.08695652173913043, 0.10869565217391304, 0.13043478260869565, 0.15217391304347827, 0.17391304347826086, 0.1956521739130435, 0.21739130434782608, 0.2391304347826087, 0.2608695652173913, 0.2826086956521739], [0.5, 0.2857142857142857, 0.3, 0.36363636363636365, 0.38461538461538464, 0.42857142857142855, 0.4666666666666667, 0.4444444444444444, 0.47368421052631576, 0.47619047619047616, 0.4782608695652174, 0.48, 0.3333333333333333], 0.4165474939699359, 1.5571134090423584, 2], 'Ritalin': [[0.02631578947368421, 0.05263157894736842, 0.07894736842105263, 0.10526315789473684, 0.13157894736842105, 0.15789473684210525, 0.18421052631578946, 0.21052631578947367, 0.23684210526315788, 0.2631578947368421, 0.2894736842105263, 0.3157894736842105, 0.34210526315789475, 0.3684210526315789, 0.39473684210526316, 0.42105263157894735], [1.0, 1.0, 1.0, 1.0, 1.0, 1.0, 0.875, 0.8888888888888888, 0.6923076923076923, 0.6666666666666666, 0.5, 0.5217391304347826, 0.52, 0.5, 0.4838709677419355, 0.45714285714285713], 0.75660100797017, 0.08665728569030762, 1], 'How to make wine at home?': [[0.02, 0.04, 0.06, 0.08, 0.1, 0.12, 0.14], [0.3333333333333333, 0.2857142857142857, 0.375, 0.4444444444444444, 0.16666666666666666, 0.17647058823529413, 0.1794871794871795], 0.28015949569503634, 3.640566110610962, 3], 'Most expensive city in the world': [[0.021739130434782608, 0.043478260869565216, 0.06521739130434782], [0.125, 0.07142857142857142, 0.08571428571428572], 0.09404761591269852, 6.6025166511535645, 3], 'India': [[0.02040816326530612, 0.04081632653061224], [0.07142857142857142, 0.06896551724137931], 0.07019704082512333, 0.8628292083740234, 1], 'how to make money fast?': [[0.030303030303030304, 0.06060606060606061, 0.09090909090909091, 0.12121212121212122, 0.15151515151515152, 0.18181818181818182], [1.0, 1.0, 0.75, 0.8, 0.5555555555555556, 0.1875], 0.715509247334105, 2.3640599250793457, 3], 'Netflix': [[0.029411764705882353, 0.058823529411764705, 0.08823529411764706, 0.11764705882352941, 0.14705882352941177, 0.17647058823529413, 0.20588235294117646], [1.0, 1.0, 1.0, 0.8, 0.8333333333333334, 0.42857142857142855, 0.2916666666666667], 0.7647959074416911, 0.1336231231689453, 1], 'Apple computer': [[0.023809523809523808, 0.047619047619047616, 0.07142857142857142, 0.09523809523809523, 0.11904761904761904, 0.14285714285714285, 0.16666666666666666, 0.19047619047619047, 0.21428571428571427, 0.23809523809523808, 0.2619047619047619, 0.2857142857142857, 0.30952380952380953], [1.0, 1.0, 0.75, 0.6666666666666666, 0.7142857142857143, 0.6666666666666666, 0.5833333333333334, 0.5, 0.5, 0.47619047619047616, 0.4230769230769231, 0.42857142857142855, 0.35135135135135137], 0.6200109613954973, 0.5751323699951172, 2], 'The Simpsons': [[0.02564102564102564, 0.05128205128205128, 0.07692307692307693, 0.10256410256410256, 0.1282051282051282, 0.15384615384615385, 0.1794871794871795], [0.08333333333333333, 0.125, 0.17647058823529413, 0.18181818181818182, 0.2, 0.2222222222222222, 0.21875], 0.1725134726225263, 0.10617303848266602, 1], 'World cup': [[0.022727272727272728], [1.0], 0.9999999000000099, 4.377073526382446, 2], 'How to lose weight?': [[0.022727272727272728, 0.045454545454545456, 0.06818181818181818, 0.09090909090909091, 0.11363636363636363, 0.13636363636363635, 0.1590909090909091, 0.18181818181818182], [0.5, 0.4, 0.5, 0.5714285714285714, 0.5555555555555556, 0.5, 0.3888888888888889, 0.38095238095238093], 0.474603168670635, 0.512305736541748, 2], 'Java': [[0.021739130434782608, 0.043478260869565216, 0.06521739130434782, 0.08695652173913043, 0.10869565217391304, 0.13043478260869565, 0.15217391304347827, 0.17391304347826086, 0.1956521739130435, 0.21739130434782608, 0.2391304347826087, 0.2608695652173913, 0.2826086956521739, 0.30434782608695654, 0.32608695652173914, 0.34782608695652173, 0.3695652173913043, 0.391304347826087, 0.41304347826086957], [1.0, 0.5, 0.5, 0.4, 0.38461538461538464, 0.42857142857142855, 0.4666666666666667, 0.5, 0.5294117647058824, 0.5263157894736842, 0.55, 0.5714285714285714, 0.5416666666666666, 0.56, 0.5172413793103449, 0.5161290322580645, 0.53125, 0.5294117647058824, 0.5277777777777778], 0.5305519038486928, 0.1479184627532959, 1], 'Air Jordan': [[0.034482758620689655, 0.06896551724137931, 0.10344827586206896, 0.13793103448275862, 0.1724137931034483, 0.20689655172413793, 0.2413793103448276, 0.27586206896551724], [1.0, 0.5, 0.42857142857142855, 0.23529411764705882, 0.19230769230769232, 0.21428571428571427, 0.1891891891891892, 0.2], 0.36995601312568527, 1.2215113639831543, 2], 'how to deal with depression?': [[0.02040816326530612, 0.04081632653061224, 0.061224489795918366, 0.08163265306122448, 0.10204081632653061, 0.12244897959183673, 0.14285714285714285, 0.16326530612244897], [0.3333333333333333, 0.25, 0.2727272727272727, 0.3076923076923077, 0.35714285714285715, 0.3333333333333333, 0.2692307692307692, 0.21621621621621623], 0.2924595075537674, 0.729311466217041, 2], 'How do you make gold': [[0.02040816326530612, 0.04081632653061224, 0.061224489795918366, 0.08163265306122448], [0.1111111111111111, 0.13333333333333333, 0.08571428571428572, 0.10810810810810811], 0.10956670682754188, 2.3812546730041504, 2], 'Marijuana': [[0.02127659574468085, 0.0425531914893617, 0.06382978723404255, 0.0851063829787234, 0.10638297872340426, 0.1276595744680851, 0.14893617021276595, 0.1702127659574468], [0.3333333333333333, 0.2857142857142857, 0.375, 0.3076923076923077, 0.25, 0.23076923076923078, 0.2413793103448276, 0.24242424242424243], 0.28328908524366486, 0.11168909072875977, 1], 'How to make hummus': [[0.022727272727272728, 0.045454545454545456, 0.06818181818181818, 0.09090909090909091, 0.11363636363636363, 0.13636363636363635, 0.1590909090909091, 0.18181818181818182, 0.20454545454545456, 0.22727272727272727, 0.25, 0.2727272727272727, 0.29545454545454547, 0.3181818181818182, 0.3409090909090909, 0.36363636363636365, 0.38636363636363635, 0.4090909090909091, 0.4318181818181818, 0.45454545454545453], [1.0, 1.0, 1.0, 1.0, 0.5555555555555556, 0.5454545454545454, 0.5833333333333334, 0.6153846153846154, 0.6428571428571429, 0.47619047619047616, 0.5, 0.5217391304347826, 0.5416666666666666, 0.5384615384615384, 0.5555555555555556, 0.5517241379310345, 0.5666666666666667, 0.5806451612903226, 0.5428571428571428, 0.5263157894736842], 0.6422203696945511, 1.4369385242462158, 2], 'Winter': [[0.02127659574468085, 0.0425531914893617, 0.06382978723404255, 0.0851063829787234], [0.5, 0.6666666666666666, 0.75, 0.5], 0.6041666515625003, 0.6053779125213623, 1], 'Rick and Morty': [[0.034482758620689655, 0.06896551724137931, 0.10344827586206896, 0.13793103448275862, 0.1724137931034483, 0.20689655172413793, 0.2413793103448276, 0.27586206896551724, 0.3103448275862069, 0.3448275862068966, 0.3793103448275862, 0.41379310344827586, 0.4482758620689655, 0.4827586206896552, 0.5172413793103449, 0.5517241379310345, 0.5862068965517241, 0.6206896551724138, 0.6551724137931034, 0.6896551724137931, 0.7241379310344828, 0.7586206896551724], [1.0, 1.0, 1.0, 1.0, 1.0, 1.0, 1.0, 0.8888888888888888, 0.8181818181818182, 0.7142857142857143, 0.7333333333333333, 0.7058823529411765, 0.65, 0.6086956521739131, 0.625, 0.5161290322580645, 0.5151515151515151, 0.5294117647058824, 0.5428571428571428, 0.5555555555555556, 0.5526315789473685, 0.5641025641025641], 0.75091394719507, 0.22140026092529297, 2], 'Natural Language processing': [[0.025, 0.05, 0.075, 0.1, 0.125, 0.15, 0.175, 0.2, 0.225, 0.25, 0.275, 0.3, 0.325, 0.35], [1.0, 0.6666666666666666, 0.75, 0.8, 0.8333333333333334, 0.8571428571428571, 0.7777777777777778, 0.6666666666666666, 0.6923076923076923, 0.47619047619047616, 0.4782608695652174, 0.46153846153846156, 0.48148148148148145, 0.4827586206896552], 0.673151774003222, 1.7513608932495117, 3], 'World Cup 2022': [[0.037037037037037035, 0.07407407407407407, 0.1111111111111111, 0.14814814814814814, 0.18518518518518517, 0.2222222222222222, 0.25925925925925924, 0.2962962962962963, 0.3333333333333333, 0.37037037037037035, 0.4074074074074074, 0.4444444444444444], [1.0, 1.0, 1.0, 0.8, 0.5, 0.5, 0.5384615384615384, 0.5714285714285714, 0.3103448275862069, 0.2857142857142857, 0.3055555555555556, 0.3], 0.5926253932903015, 4.429891586303711, 3], 'Dolly the sheep': [[0.024390243902439025, 0.04878048780487805, 0.07317073170731707, 0.0975609756097561, 0.12195121951219512, 0.14634146341463414, 0.17073170731707318, 0.1951219512195122, 0.21951219512195122, 0.24390243902439024, 0.2682926829268293, 0.2926829268292683, 0.3170731707317073], [1.0, 1.0, 1.0, 1.0, 1.0, 1.0, 0.7777777777777778, 0.4444444444444444, 0.47368421052631576, 0.47619047619047616, 0.3793103448275862, 0.3333333333333333, 0.35135135135135137], 0.7104686051849557, 0.19307565689086914, 2], 'What is the best place to live in?': [[], [], 0.0, 5.590324878692627, 3], 'Elon musk': [[0.043478260869565216, 0.08695652173913043, 0.13043478260869565, 0.17391304347826086, 0.21739130434782608, 0.2608695652173913, 0.30434782608695654, 0.34782608695652173, 0.391304347826087, 0.43478260869565216, 0.4782608695652174], [0.25, 0.3333333333333333, 0.42857142857142855, 0.5, 0.5, 0.5, 0.5, 0.47058823529411764, 0.5, 0.5263157894736842, 0.5], 0.4553462491943581, 0.09927606582641602, 2], 'How do you breed flowers?': [[], [], 0.0, 0.33594465255737305, 2]}\n"
          ]
        }
      ]
    },
    {
      "cell_type": "code",
      "source": [
        "arr = list(map40.items())\n",
        "length = len(list(map40.items()))\n",
        "print(\"lenght: \", length)\n",
        "\n",
        "def avg_map40():\n",
        "  sum_a = 0\n",
        "  sum_d = 0\n",
        "  for k,v in arr:\n",
        "    sum_a += v[2]\n",
        "    sum_d += v[3]\n",
        "  print(\"sum: \", sum_a)\n",
        "  avg = sum_a / length\n",
        "  avg_duration = sum_d / length\n",
        "  return avg, avg_duration\n",
        "\n",
        "print(\"AVG MAP40: \" , avg_map40())"
      ],
      "metadata": {
        "colab": {
          "base_uri": "https://localhost:8080/"
        },
        "id": "-wfIx3baoRAD",
        "outputId": "797fc7b7-baab-496d-fea7-08e9ba6dd762"
      },
      "execution_count": 182,
      "outputs": [
        {
          "output_type": "stream",
          "name": "stdout",
          "text": [
            "lenght:  29\n",
            "sum:  13.455704451555933\n",
            "AVG MAP40:  (0.46398980867434253, 2.6158605361806937)\n"
          ]
        }
      ]
    },
    {
      "cell_type": "code",
      "source": [
        "import pandas as pd\n",
        "\n",
        "new = pd.DataFrame.from_dict(map40)\n",
        "new.to_csv(\"summary_search_bm25:(k1:4,k3:0.5,b:0.5)_text:0.5_title:0.5_.csv\")\n",
        "new"
      ],
      "metadata": {
        "colab": {
          "base_uri": "https://localhost:8080/",
          "height": 490
        },
        "id": "qM_6rslbp7fT",
        "outputId": "b001803a-fc10-4ac9-d993-775136ef110a"
      },
      "execution_count": 183,
      "outputs": [
        {
          "output_type": "execute_result",
          "data": {
            "text/plain": [
              "                                   best marvel movie  \\\n",
              "0  [0.022222222222222223, 0.044444444444444446, 0...   \n",
              "1  [0.058823529411764705, 0.1111111111111111, 0.1...   \n",
              "2                                           0.119593   \n",
              "3                                          30.273028   \n",
              "4                                                  3   \n",
              "\n",
              "                         How do kids come to world?  \\\n",
              "0                                [0.02, 0.04, 0.06]   \n",
              "1  [0.16666666666666666, 0.25, 0.16666666666666666]   \n",
              "2                                          0.194444   \n",
              "3                                          4.396238   \n",
              "4                                                 3   \n",
              "\n",
              "                               Information retrieval  \\\n",
              "0  [0.025, 0.05, 0.075, 0.1, 0.125, 0.15, 0.175, ...   \n",
              "1  [1.0, 1.0, 1.0, 1.0, 1.0, 1.0, 1.0, 1.0, 1.0, ...   \n",
              "2                                           0.922867   \n",
              "3                                           1.025406   \n",
              "4                                                  2   \n",
              "\n",
              "                                            LinkedIn  \\\n",
              "0  [0.06666666666666667, 0.13333333333333333, 0.2...   \n",
              "1  [1.0, 1.0, 1.0, 1.0, 1.0, 1.0, 1.0, 0.88888888...   \n",
              "2                                           0.839098   \n",
              "3                                           0.091958   \n",
              "4                                                  1   \n",
              "\n",
              "                                 How to make coffee?  \\\n",
              "0  [0.021739130434782608, 0.043478260869565216, 0...   \n",
              "1  [0.5, 0.2857142857142857, 0.3, 0.3636363636363...   \n",
              "2                                           0.416547   \n",
              "3                                           1.557113   \n",
              "4                                                  2   \n",
              "\n",
              "                                             Ritalin  \\\n",
              "0  [0.02631578947368421, 0.05263157894736842, 0.0...   \n",
              "1  [1.0, 1.0, 1.0, 1.0, 1.0, 1.0, 0.875, 0.888888...   \n",
              "2                                           0.756601   \n",
              "3                                           0.086657   \n",
              "4                                                  1   \n",
              "\n",
              "                           How to make wine at home?  \\\n",
              "0          [0.02, 0.04, 0.06, 0.08, 0.1, 0.12, 0.14]   \n",
              "1  [0.3333333333333333, 0.2857142857142857, 0.375...   \n",
              "2                                           0.280159   \n",
              "3                                           3.640566   \n",
              "4                                                  3   \n",
              "\n",
              "                    Most expensive city in the world  \\\n",
              "0  [0.021739130434782608, 0.043478260869565216, 0...   \n",
              "1  [0.125, 0.07142857142857142, 0.08571428571428572]   \n",
              "2                                           0.094048   \n",
              "3                                           6.602517   \n",
              "4                                                  3   \n",
              "\n",
              "                                        India  \\\n",
              "0  [0.02040816326530612, 0.04081632653061224]   \n",
              "1  [0.07142857142857142, 0.06896551724137931]   \n",
              "2                                    0.070197   \n",
              "3                                    0.862829   \n",
              "4                                           1   \n",
              "\n",
              "                             how to make money fast?  ...  \\\n",
              "0  [0.030303030303030304, 0.06060606060606061, 0....  ...   \n",
              "1  [1.0, 1.0, 0.75, 0.8, 0.5555555555555556, 0.1875]  ...   \n",
              "2                                           0.715509  ...   \n",
              "3                                            2.36406  ...   \n",
              "4                                                  3  ...   \n",
              "\n",
              "                                           Marijuana  \\\n",
              "0  [0.02127659574468085, 0.0425531914893617, 0.06...   \n",
              "1  [0.3333333333333333, 0.2857142857142857, 0.375...   \n",
              "2                                           0.283289   \n",
              "3                                           0.111689   \n",
              "4                                                  1   \n",
              "\n",
              "                                  How to make hummus  \\\n",
              "0  [0.022727272727272728, 0.045454545454545456, 0...   \n",
              "1  [1.0, 1.0, 1.0, 1.0, 0.5555555555555556, 0.545...   \n",
              "2                                            0.64222   \n",
              "3                                           1.436939   \n",
              "4                                                  2   \n",
              "\n",
              "                                              Winter  \\\n",
              "0  [0.02127659574468085, 0.0425531914893617, 0.06...   \n",
              "1               [0.5, 0.6666666666666666, 0.75, 0.5]   \n",
              "2                                           0.604167   \n",
              "3                                           0.605378   \n",
              "4                                                  1   \n",
              "\n",
              "                                      Rick and Morty  \\\n",
              "0  [0.034482758620689655, 0.06896551724137931, 0....   \n",
              "1  [1.0, 1.0, 1.0, 1.0, 1.0, 1.0, 1.0, 0.88888888...   \n",
              "2                                           0.750914   \n",
              "3                                             0.2214   \n",
              "4                                                  2   \n",
              "\n",
              "                         Natural Language processing  \\\n",
              "0  [0.025, 0.05, 0.075, 0.1, 0.125, 0.15, 0.175, ...   \n",
              "1  [1.0, 0.6666666666666666, 0.75, 0.8, 0.8333333...   \n",
              "2                                           0.673152   \n",
              "3                                           1.751361   \n",
              "4                                                  3   \n",
              "\n",
              "                                      World Cup 2022  \\\n",
              "0  [0.037037037037037035, 0.07407407407407407, 0....   \n",
              "1  [1.0, 1.0, 1.0, 0.8, 0.5, 0.5, 0.5384615384615...   \n",
              "2                                           0.592625   \n",
              "3                                           4.429892   \n",
              "4                                                  3   \n",
              "\n",
              "                                     Dolly the sheep  \\\n",
              "0  [0.024390243902439025, 0.04878048780487805, 0....   \n",
              "1  [1.0, 1.0, 1.0, 1.0, 1.0, 1.0, 0.7777777777777...   \n",
              "2                                           0.710469   \n",
              "3                                           0.193076   \n",
              "4                                                  2   \n",
              "\n",
              "  What is the best place to live in?  \\\n",
              "0                                 []   \n",
              "1                                 []   \n",
              "2                                0.0   \n",
              "3                           5.590325   \n",
              "4                                  3   \n",
              "\n",
              "                                           Elon musk How do you breed flowers?  \n",
              "0  [0.043478260869565216, 0.08695652173913043, 0....                        []  \n",
              "1  [0.25, 0.3333333333333333, 0.42857142857142855...                        []  \n",
              "2                                           0.455346                       0.0  \n",
              "3                                           0.099276                  0.335945  \n",
              "4                                                  2                         2  \n",
              "\n",
              "[5 rows x 29 columns]"
            ],
            "text/html": [
              "\n",
              "  <div id=\"df-80e7d7a8-d38a-4ed1-99b9-366435fd8857\">\n",
              "    <div class=\"colab-df-container\">\n",
              "      <div>\n",
              "<style scoped>\n",
              "    .dataframe tbody tr th:only-of-type {\n",
              "        vertical-align: middle;\n",
              "    }\n",
              "\n",
              "    .dataframe tbody tr th {\n",
              "        vertical-align: top;\n",
              "    }\n",
              "\n",
              "    .dataframe thead th {\n",
              "        text-align: right;\n",
              "    }\n",
              "</style>\n",
              "<table border=\"1\" class=\"dataframe\">\n",
              "  <thead>\n",
              "    <tr style=\"text-align: right;\">\n",
              "      <th></th>\n",
              "      <th>best marvel movie</th>\n",
              "      <th>How do kids come to world?</th>\n",
              "      <th>Information retrieval</th>\n",
              "      <th>LinkedIn</th>\n",
              "      <th>How to make coffee?</th>\n",
              "      <th>Ritalin</th>\n",
              "      <th>How to make wine at home?</th>\n",
              "      <th>Most expensive city in the world</th>\n",
              "      <th>India</th>\n",
              "      <th>how to make money fast?</th>\n",
              "      <th>...</th>\n",
              "      <th>Marijuana</th>\n",
              "      <th>How to make hummus</th>\n",
              "      <th>Winter</th>\n",
              "      <th>Rick and Morty</th>\n",
              "      <th>Natural Language processing</th>\n",
              "      <th>World Cup 2022</th>\n",
              "      <th>Dolly the sheep</th>\n",
              "      <th>What is the best place to live in?</th>\n",
              "      <th>Elon musk</th>\n",
              "      <th>How do you breed flowers?</th>\n",
              "    </tr>\n",
              "  </thead>\n",
              "  <tbody>\n",
              "    <tr>\n",
              "      <th>0</th>\n",
              "      <td>[0.022222222222222223, 0.044444444444444446, 0...</td>\n",
              "      <td>[0.02, 0.04, 0.06]</td>\n",
              "      <td>[0.025, 0.05, 0.075, 0.1, 0.125, 0.15, 0.175, ...</td>\n",
              "      <td>[0.06666666666666667, 0.13333333333333333, 0.2...</td>\n",
              "      <td>[0.021739130434782608, 0.043478260869565216, 0...</td>\n",
              "      <td>[0.02631578947368421, 0.05263157894736842, 0.0...</td>\n",
              "      <td>[0.02, 0.04, 0.06, 0.08, 0.1, 0.12, 0.14]</td>\n",
              "      <td>[0.021739130434782608, 0.043478260869565216, 0...</td>\n",
              "      <td>[0.02040816326530612, 0.04081632653061224]</td>\n",
              "      <td>[0.030303030303030304, 0.06060606060606061, 0....</td>\n",
              "      <td>...</td>\n",
              "      <td>[0.02127659574468085, 0.0425531914893617, 0.06...</td>\n",
              "      <td>[0.022727272727272728, 0.045454545454545456, 0...</td>\n",
              "      <td>[0.02127659574468085, 0.0425531914893617, 0.06...</td>\n",
              "      <td>[0.034482758620689655, 0.06896551724137931, 0....</td>\n",
              "      <td>[0.025, 0.05, 0.075, 0.1, 0.125, 0.15, 0.175, ...</td>\n",
              "      <td>[0.037037037037037035, 0.07407407407407407, 0....</td>\n",
              "      <td>[0.024390243902439025, 0.04878048780487805, 0....</td>\n",
              "      <td>[]</td>\n",
              "      <td>[0.043478260869565216, 0.08695652173913043, 0....</td>\n",
              "      <td>[]</td>\n",
              "    </tr>\n",
              "    <tr>\n",
              "      <th>1</th>\n",
              "      <td>[0.058823529411764705, 0.1111111111111111, 0.1...</td>\n",
              "      <td>[0.16666666666666666, 0.25, 0.16666666666666666]</td>\n",
              "      <td>[1.0, 1.0, 1.0, 1.0, 1.0, 1.0, 1.0, 1.0, 1.0, ...</td>\n",
              "      <td>[1.0, 1.0, 1.0, 1.0, 1.0, 1.0, 1.0, 0.88888888...</td>\n",
              "      <td>[0.5, 0.2857142857142857, 0.3, 0.3636363636363...</td>\n",
              "      <td>[1.0, 1.0, 1.0, 1.0, 1.0, 1.0, 0.875, 0.888888...</td>\n",
              "      <td>[0.3333333333333333, 0.2857142857142857, 0.375...</td>\n",
              "      <td>[0.125, 0.07142857142857142, 0.08571428571428572]</td>\n",
              "      <td>[0.07142857142857142, 0.06896551724137931]</td>\n",
              "      <td>[1.0, 1.0, 0.75, 0.8, 0.5555555555555556, 0.1875]</td>\n",
              "      <td>...</td>\n",
              "      <td>[0.3333333333333333, 0.2857142857142857, 0.375...</td>\n",
              "      <td>[1.0, 1.0, 1.0, 1.0, 0.5555555555555556, 0.545...</td>\n",
              "      <td>[0.5, 0.6666666666666666, 0.75, 0.5]</td>\n",
              "      <td>[1.0, 1.0, 1.0, 1.0, 1.0, 1.0, 1.0, 0.88888888...</td>\n",
              "      <td>[1.0, 0.6666666666666666, 0.75, 0.8, 0.8333333...</td>\n",
              "      <td>[1.0, 1.0, 1.0, 0.8, 0.5, 0.5, 0.5384615384615...</td>\n",
              "      <td>[1.0, 1.0, 1.0, 1.0, 1.0, 1.0, 0.7777777777777...</td>\n",
              "      <td>[]</td>\n",
              "      <td>[0.25, 0.3333333333333333, 0.42857142857142855...</td>\n",
              "      <td>[]</td>\n",
              "    </tr>\n",
              "    <tr>\n",
              "      <th>2</th>\n",
              "      <td>0.119593</td>\n",
              "      <td>0.194444</td>\n",
              "      <td>0.922867</td>\n",
              "      <td>0.839098</td>\n",
              "      <td>0.416547</td>\n",
              "      <td>0.756601</td>\n",
              "      <td>0.280159</td>\n",
              "      <td>0.094048</td>\n",
              "      <td>0.070197</td>\n",
              "      <td>0.715509</td>\n",
              "      <td>...</td>\n",
              "      <td>0.283289</td>\n",
              "      <td>0.64222</td>\n",
              "      <td>0.604167</td>\n",
              "      <td>0.750914</td>\n",
              "      <td>0.673152</td>\n",
              "      <td>0.592625</td>\n",
              "      <td>0.710469</td>\n",
              "      <td>0.0</td>\n",
              "      <td>0.455346</td>\n",
              "      <td>0.0</td>\n",
              "    </tr>\n",
              "    <tr>\n",
              "      <th>3</th>\n",
              "      <td>30.273028</td>\n",
              "      <td>4.396238</td>\n",
              "      <td>1.025406</td>\n",
              "      <td>0.091958</td>\n",
              "      <td>1.557113</td>\n",
              "      <td>0.086657</td>\n",
              "      <td>3.640566</td>\n",
              "      <td>6.602517</td>\n",
              "      <td>0.862829</td>\n",
              "      <td>2.36406</td>\n",
              "      <td>...</td>\n",
              "      <td>0.111689</td>\n",
              "      <td>1.436939</td>\n",
              "      <td>0.605378</td>\n",
              "      <td>0.2214</td>\n",
              "      <td>1.751361</td>\n",
              "      <td>4.429892</td>\n",
              "      <td>0.193076</td>\n",
              "      <td>5.590325</td>\n",
              "      <td>0.099276</td>\n",
              "      <td>0.335945</td>\n",
              "    </tr>\n",
              "    <tr>\n",
              "      <th>4</th>\n",
              "      <td>3</td>\n",
              "      <td>3</td>\n",
              "      <td>2</td>\n",
              "      <td>1</td>\n",
              "      <td>2</td>\n",
              "      <td>1</td>\n",
              "      <td>3</td>\n",
              "      <td>3</td>\n",
              "      <td>1</td>\n",
              "      <td>3</td>\n",
              "      <td>...</td>\n",
              "      <td>1</td>\n",
              "      <td>2</td>\n",
              "      <td>1</td>\n",
              "      <td>2</td>\n",
              "      <td>3</td>\n",
              "      <td>3</td>\n",
              "      <td>2</td>\n",
              "      <td>3</td>\n",
              "      <td>2</td>\n",
              "      <td>2</td>\n",
              "    </tr>\n",
              "  </tbody>\n",
              "</table>\n",
              "<p>5 rows × 29 columns</p>\n",
              "</div>\n",
              "      <button class=\"colab-df-convert\" onclick=\"convertToInteractive('df-80e7d7a8-d38a-4ed1-99b9-366435fd8857')\"\n",
              "              title=\"Convert this dataframe to an interactive table.\"\n",
              "              style=\"display:none;\">\n",
              "        \n",
              "  <svg xmlns=\"http://www.w3.org/2000/svg\" height=\"24px\"viewBox=\"0 0 24 24\"\n",
              "       width=\"24px\">\n",
              "    <path d=\"M0 0h24v24H0V0z\" fill=\"none\"/>\n",
              "    <path d=\"M18.56 5.44l.94 2.06.94-2.06 2.06-.94-2.06-.94-.94-2.06-.94 2.06-2.06.94zm-11 1L8.5 8.5l.94-2.06 2.06-.94-2.06-.94L8.5 2.5l-.94 2.06-2.06.94zm10 10l.94 2.06.94-2.06 2.06-.94-2.06-.94-.94-2.06-.94 2.06-2.06.94z\"/><path d=\"M17.41 7.96l-1.37-1.37c-.4-.4-.92-.59-1.43-.59-.52 0-1.04.2-1.43.59L10.3 9.45l-7.72 7.72c-.78.78-.78 2.05 0 2.83L4 21.41c.39.39.9.59 1.41.59.51 0 1.02-.2 1.41-.59l7.78-7.78 2.81-2.81c.8-.78.8-2.07 0-2.86zM5.41 20L4 18.59l7.72-7.72 1.47 1.35L5.41 20z\"/>\n",
              "  </svg>\n",
              "      </button>\n",
              "      \n",
              "  <style>\n",
              "    .colab-df-container {\n",
              "      display:flex;\n",
              "      flex-wrap:wrap;\n",
              "      gap: 12px;\n",
              "    }\n",
              "\n",
              "    .colab-df-convert {\n",
              "      background-color: #E8F0FE;\n",
              "      border: none;\n",
              "      border-radius: 50%;\n",
              "      cursor: pointer;\n",
              "      display: none;\n",
              "      fill: #1967D2;\n",
              "      height: 32px;\n",
              "      padding: 0 0 0 0;\n",
              "      width: 32px;\n",
              "    }\n",
              "\n",
              "    .colab-df-convert:hover {\n",
              "      background-color: #E2EBFA;\n",
              "      box-shadow: 0px 1px 2px rgba(60, 64, 67, 0.3), 0px 1px 3px 1px rgba(60, 64, 67, 0.15);\n",
              "      fill: #174EA6;\n",
              "    }\n",
              "\n",
              "    [theme=dark] .colab-df-convert {\n",
              "      background-color: #3B4455;\n",
              "      fill: #D2E3FC;\n",
              "    }\n",
              "\n",
              "    [theme=dark] .colab-df-convert:hover {\n",
              "      background-color: #434B5C;\n",
              "      box-shadow: 0px 1px 3px 1px rgba(0, 0, 0, 0.15);\n",
              "      filter: drop-shadow(0px 1px 2px rgba(0, 0, 0, 0.3));\n",
              "      fill: #FFFFFF;\n",
              "    }\n",
              "  </style>\n",
              "\n",
              "      <script>\n",
              "        const buttonEl =\n",
              "          document.querySelector('#df-80e7d7a8-d38a-4ed1-99b9-366435fd8857 button.colab-df-convert');\n",
              "        buttonEl.style.display =\n",
              "          google.colab.kernel.accessAllowed ? 'block' : 'none';\n",
              "\n",
              "        async function convertToInteractive(key) {\n",
              "          const element = document.querySelector('#df-80e7d7a8-d38a-4ed1-99b9-366435fd8857');\n",
              "          const dataTable =\n",
              "            await google.colab.kernel.invokeFunction('convertToInteractive',\n",
              "                                                     [key], {});\n",
              "          if (!dataTable) return;\n",
              "\n",
              "          const docLinkHtml = 'Like what you see? Visit the ' +\n",
              "            '<a target=\"_blank\" href=https://colab.research.google.com/notebooks/data_table.ipynb>data table notebook</a>'\n",
              "            + ' to learn more about interactive tables.';\n",
              "          element.innerHTML = '';\n",
              "          dataTable['output_type'] = 'display_data';\n",
              "          await google.colab.output.renderOutput(dataTable, element);\n",
              "          const docLink = document.createElement('div');\n",
              "          docLink.innerHTML = docLinkHtml;\n",
              "          element.appendChild(docLink);\n",
              "        }\n",
              "      </script>\n",
              "    </div>\n",
              "  </div>\n",
              "  "
            ]
          },
          "metadata": {},
          "execution_count": 183
        }
      ]
    },
    {
      "cell_type": "code",
      "source": [
        "# import matplotlib.pyplot as plt\n",
        "\n",
        "# queries = map(lambda x:)\n",
        "# df = pd.DataFrame([[5, 2, 0], [3, 3, 2], [0, 1, 11]], classes, classes)\n",
        "# new.plot(kind = 'scatter', x = 'Duration', y = 'Calories')"
      ],
      "metadata": {
        "id": "aUjjtbHGrXJr"
      },
      "execution_count": 8,
      "outputs": []
    },
    {
      "cell_type": "code",
      "source": [
        "print(qs_res[13])"
      ],
      "metadata": {
        "colab": {
          "base_uri": "https://localhost:8080/"
        },
        "id": "_OGXyKqYtue8",
        "outputId": "8f74e021-8c9e-4474-cbb5-09d99c36af11"
      },
      "execution_count": 186,
      "outputs": [
        {
          "output_type": "stream",
          "name": "stdout",
          "text": [
            "('World cup', 4.377073526382446, 1.0)\n"
          ]
        }
      ]
    },
    {
      "cell_type": "code",
      "source": [
        "suma = 0.0\n",
        "for q, duration, ap in qs_res:\n",
        "  print(type(ap))\n",
        "  if ap == None:\n",
        "    continue\n",
        "  suma = suma + ap\n",
        "\n",
        "print(suma/len(qs_res))\n",
        "print(qs_res)"
      ],
      "metadata": {
        "colab": {
          "base_uri": "https://localhost:8080/"
        },
        "id": "4e9f7qCxCetX",
        "outputId": "8f02d4ce-b5b4-4a73-ac60-851b418d3d44"
      },
      "execution_count": 196,
      "outputs": [
        {
          "output_type": "stream",
          "name": "stdout",
          "text": [
            "<class 'float'>\n",
            "<class 'float'>\n",
            "<class 'float'>\n",
            "<class 'float'>\n",
            "<class 'float'>\n",
            "<class 'float'>\n",
            "<class 'float'>\n",
            "<class 'float'>\n",
            "<class 'float'>\n",
            "<class 'float'>\n",
            "<class 'float'>\n",
            "<class 'float'>\n",
            "<class 'float'>\n",
            "<class 'float'>\n",
            "<class 'float'>\n",
            "<class 'float'>\n",
            "<class 'float'>\n",
            "<class 'float'>\n",
            "<class 'float'>\n",
            "<class 'float'>\n",
            "<class 'float'>\n",
            "<class 'float'>\n",
            "<class 'float'>\n",
            "<class 'float'>\n",
            "<class 'float'>\n",
            "<class 'float'>\n",
            "<class 'NoneType'>\n",
            "<class 'float'>\n",
            "<class 'float'>\n",
            "<class 'float'>\n",
            "0.4485666666666665\n",
            "[('best marvel movie', 30.273027658462524, 0.12), ('How do kids come to world?', 4.396238327026367, 0.194), ('Information retrieval', 1.0254058837890625, 0.923), ('LinkedIn', 0.09195780754089355, 0.839), ('How to make coffee?', 1.5571134090423584, 0.417), ('Ritalin', 0.08665728569030762, 0.757), ('How to make wine at home?', 3.640566110610962, 0.28), ('Most expensive city in the world', 6.6025166511535645, 0.094), ('India', 0.8628292083740234, 0.07), ('how to make money fast?', 2.3640599250793457, 0.716), ('Netflix', 0.1336231231689453, 0.765), ('Apple computer', 0.5751323699951172, 0.62), ('The Simpsons', 0.10617303848266602, 0.173), ('World cup', 4.377073526382446, 1.0), ('How to lose weight?', 0.512305736541748, 0.475), ('Java', 0.1479184627532959, 0.531), ('Air Jordan', 1.2215113639831543, 0.37), ('how to deal with depression?', 0.729311466217041, 0.292), ('How do you make gold', 2.3812546730041504, 0.11), ('Marijuana', 0.11168909072875977, 0.283), ('How to make hummus', 1.4369385242462158, 0.642), ('Winter', 0.6053779125213623, 0.604), ('Rick and Morty', 0.22140026092529297, 0.751), ('Natural Language processing', 1.7513608932495117, 0.673), ('World Cup 2022', 4.429891586303711, 0.593), ('Dolly the sheep', 0.19307565689086914, 0.71), ('Ciggarets', 0.08355259895324707, None), ('What is the best place to live in?', 5.590324878692627, 0.0), ('Elon musk', 0.09927606582641602, 0.455), ('How do you breed flowers?', 0.33594465255737305, 0.0)]\n"
          ]
        }
      ]
    },
    {
      "cell_type": "code",
      "source": [
        "!pip install PyDictionary"
      ],
      "metadata": {
        "colab": {
          "base_uri": "https://localhost:8080/"
        },
        "id": "xHI_KOdB5VOS",
        "outputId": "b88ede20-e734-4405-c4e5-e5ce0f74a5ae"
      },
      "execution_count": null,
      "outputs": [
        {
          "output_type": "stream",
          "name": "stdout",
          "text": [
            "Looking in indexes: https://pypi.org/simple, https://us-python.pkg.dev/colab-wheels/public/simple/\n",
            "Collecting PyDictionary\n",
            "  Using cached PyDictionary-2.0.1-py3-none-any.whl (6.1 kB)\n",
            "Requirement already satisfied: requests in /usr/local/lib/python3.8/dist-packages (from PyDictionary) (2.25.1)\n",
            "Requirement already satisfied: click in /usr/local/lib/python3.8/dist-packages (from PyDictionary) (7.1.2)\n",
            "Requirement already satisfied: bs4 in /usr/local/lib/python3.8/dist-packages (from PyDictionary) (0.0.1)\n",
            "Collecting goslate\n",
            "  Using cached goslate-1.5.4.tar.gz (14 kB)\n",
            "  Preparing metadata (setup.py) ... \u001b[?25l\u001b[?25hdone\n",
            "Requirement already satisfied: beautifulsoup4 in /usr/local/lib/python3.8/dist-packages (from bs4->PyDictionary) (4.6.3)\n",
            "Collecting futures\n",
            "  Using cached futures-3.0.5.tar.gz (25 kB)\n",
            "  \u001b[1;31merror\u001b[0m: \u001b[1msubprocess-exited-with-error\u001b[0m\n",
            "  \n",
            "  \u001b[31m×\u001b[0m \u001b[32mpython setup.py egg_info\u001b[0m did not run successfully.\n",
            "  \u001b[31m│\u001b[0m exit code: \u001b[1;36m1\u001b[0m\n",
            "  \u001b[31m╰─>\u001b[0m See above for output.\n",
            "  \n",
            "  \u001b[1;35mnote\u001b[0m: This error originates from a subprocess, and is likely not a problem with pip.\n",
            "  Preparing metadata (setup.py) ... \u001b[?25l\u001b[?25herror\n",
            "\u001b[1;31merror\u001b[0m: \u001b[1mmetadata-generation-failed\u001b[0m\n",
            "\n",
            "\u001b[31m×\u001b[0m Encountered error while generating package metadata.\n",
            "\u001b[31m╰─>\u001b[0m See above for output.\n",
            "\n",
            "\u001b[1;35mnote\u001b[0m: This is an issue with the package mentioned above, not pip.\n",
            "\u001b[1;36mhint\u001b[0m: See above for details.\n"
          ]
        }
      ]
    },
    {
      "cell_type": "code",
      "source": [
        "import PyDictionary #this is for our addition for the new method. dictionary that will help us in query expansion.\n",
        "dictionary = PyDictionary()\n",
        "\n",
        "query = \"home is big and the apple is red\"\n",
        "tokens = tokenize(query.lower())\n",
        "query_after_expansion = []\n",
        "\n",
        "for token in tokens:\n",
        "    try:\n",
        "        synonym = dictionary.synonym(token)\n",
        "        query_after_expansion.append(synonym[:3])\n",
        "    except:\n",
        "        pass\n",
        "\n",
        "print(\"tokens: \", tokens)\n",
        "print(\"query_after_expansion: \", query_after_expansion)\n",
        "tokens += query_after_expansion\n",
        "tokens"
      ],
      "metadata": {
        "colab": {
          "base_uri": "https://localhost:8080/",
          "height": 393
        },
        "id": "XNPcjMp44_5y",
        "outputId": "add60274-7d99-4877-d231-1b9f4f088a72"
      },
      "execution_count": null,
      "outputs": [
        {
          "output_type": "error",
          "ename": "ModuleNotFoundError",
          "evalue": "ignored",
          "traceback": [
            "\u001b[0;31m---------------------------------------------------------------------------\u001b[0m",
            "\u001b[0;31mModuleNotFoundError\u001b[0m                       Traceback (most recent call last)",
            "\u001b[0;32m<ipython-input-30-fef74d7923a8>\u001b[0m in \u001b[0;36m<module>\u001b[0;34m\u001b[0m\n\u001b[0;32m----> 1\u001b[0;31m \u001b[0;32mimport\u001b[0m \u001b[0mPyDictionary\u001b[0m \u001b[0;31m#this is for our addition for the new method. dictionary that will help us in query expansion.\u001b[0m\u001b[0;34m\u001b[0m\u001b[0;34m\u001b[0m\u001b[0m\n\u001b[0m\u001b[1;32m      2\u001b[0m \u001b[0mdictionary\u001b[0m \u001b[0;34m=\u001b[0m \u001b[0mPyDictionary\u001b[0m\u001b[0;34m(\u001b[0m\u001b[0;34m)\u001b[0m\u001b[0;34m\u001b[0m\u001b[0;34m\u001b[0m\u001b[0m\n\u001b[1;32m      3\u001b[0m \u001b[0;34m\u001b[0m\u001b[0m\n\u001b[1;32m      4\u001b[0m \u001b[0mquery\u001b[0m \u001b[0;34m=\u001b[0m \u001b[0;34m\"home is big and the apple is red\"\u001b[0m\u001b[0;34m\u001b[0m\u001b[0;34m\u001b[0m\u001b[0m\n\u001b[1;32m      5\u001b[0m \u001b[0mtokens\u001b[0m \u001b[0;34m=\u001b[0m \u001b[0mtokenize\u001b[0m\u001b[0;34m(\u001b[0m\u001b[0mquery\u001b[0m\u001b[0;34m.\u001b[0m\u001b[0mlower\u001b[0m\u001b[0;34m(\u001b[0m\u001b[0;34m)\u001b[0m\u001b[0;34m)\u001b[0m\u001b[0;34m\u001b[0m\u001b[0;34m\u001b[0m\u001b[0m\n",
            "\u001b[0;31mModuleNotFoundError\u001b[0m: No module named 'PyDictionary'",
            "",
            "\u001b[0;31m---------------------------------------------------------------------------\u001b[0;32m\nNOTE: If your import is failing due to a missing package, you can\nmanually install dependencies using either !pip or !apt.\n\nTo view examples of installing some common dependencies, click the\n\"Open Examples\" button below.\n\u001b[0;31m---------------------------------------------------------------------------\u001b[0m\n"
          ],
          "errorDetails": {
            "actions": [
              {
                "action": "open_url",
                "actionText": "Open Examples",
                "url": "/notebooks/snippets/importing_libraries.ipynb"
              }
            ]
          }
        }
      ]
    },
    {
      "cell_type": "code",
      "source": [
        "import requests\n",
        "from time import time\n",
        "url = 'http://34.134.211.3:8080'\n",
        "# place the domain you got from ngrok or GCP IP below. \n",
        "# url = 'http://XXXX-XX-XX-XX-XX.ngrok.io'\n",
        "\n",
        "qs_res = []\n",
        "arr = list(queries.items())\n",
        "for i in range(len(arr)-15):\n",
        "  q, true_wids = arr[i][0],arr[i][1]\n",
        "# for q, true_wids in queries.items():\n",
        "  duration, ap = None, None\n",
        "  t_start = time()\n",
        "  try:\n",
        "    res = requests.get(url + '/search_body', {'query': q}, timeout=35)\n",
        "    duration = time() - t_start\n",
        "    if res.status_code == 200:\n",
        "      pred_wids, _ = zip(*res.json())\n",
        "      ap = average_precision(true_wids, pred_wids)\n",
        "      #our method map 40\n",
        "      map40_calculate(q,true_wids, pred_wids)\n",
        "      #################\n",
        "      print(\"AP: \", ap)\n",
        "  except:\n",
        "    pass\n",
        "  \n",
        "  qs_res.append((q, duration, ap))\n",
        "\n",
        "print(map40)"
      ],
      "metadata": {
        "colab": {
          "base_uri": "https://localhost:8080/"
        },
        "id": "h3uCgBZ_5TW5",
        "outputId": "d27c2198-f452-4914-d7ba-332b5adb9868"
      },
      "execution_count": null,
      "outputs": [
        {
          "output_type": "stream",
          "name": "stdout",
          "text": [
            "AP:  0.333\n",
            "AP:  0.654\n",
            "AP:  1.0\n",
            "AP:  0.75\n",
            "AP:  0.962\n",
            "AP:  0.5\n",
            "AP:  0.375\n",
            "AP:  0.2\n",
            "AP:  0.869\n",
            "AP:  0.421\n",
            "AP:  0.25\n",
            "AP:  0.333\n",
            "{'best marvel movie': [[0.022222222222222223], [0.3333333333333333], 0.3333333333333333], 'How do kids come to world?': [[], [], 0], 'Information retrieval': [[0.025, 0.05, 0.075, 0.1, 0.125, 0.15, 0.175], [0.5, 0.6666666666666666, 0.75, 0.6666666666666666, 0.625, 0.6666666666666666, 0.7], 0.6535714285714285], 'LinkedIn': [[0.06666666666666667, 0.13333333333333333, 0.2, 0.26666666666666666, 0.3333333333333333, 0.4, 0.4666666666666667], [1.0, 1.0, 1.0, 1.0, 1.0, 1.0, 1.0], 1.0], 'How to make coffee?': [[0.021739130434782608, 0.043478260869565216, 0.06521739130434782, 0.08695652173913043], [1.0, 1.0, 0.5, 0.5], 0.75], 'Ritalin': [[0.02631578947368421, 0.05263157894736842, 0.07894736842105263, 0.10526315789473684, 0.13157894736842105, 0.15789473684210525, 0.18421052631578946], [1.0, 1.0, 1.0, 1.0, 1.0, 0.8571428571428571, 0.875], 0.961734693877551], 'How to make wine at home?': [[0.02], [0.5], 0.5], 'Most expensive city in the world': [[], [], 0], 'India': [[0.02040816326530612, 0.04081632653061224], [0.5, 0.25], 0.375], 'how to make money fast?': [[0.030303030303030304], [0.2], 0.2], 'Netflix': [[0.029411764705882353, 0.058823529411764705, 0.08823529411764706, 0.11764705882352941, 0.14705882352941177, 0.17647058823529413, 0.20588235294117646], [1.0, 1.0, 1.0, 0.8, 0.8333333333333334, 0.75, 0.7], 0.869047619047619], 'Apple computer': [[0.023809523809523808, 0.047619047619047616, 0.07142857142857142, 0.09523809523809523, 0.11904761904761904], [0.5, 0.2857142857142857, 0.375, 0.4444444444444444, 0.5], 0.42103174603174603], 'The Simpsons': [[0.02564102564102564], [0.25], 0.25], 'World cup': [[], [], 0], 'How to lose weight?': [[0.022727272727272728], [0.3333333333333333], 0.3333333333333333]}\n"
          ]
        }
      ]
    },
    {
      "cell_type": "code",
      "source": [
        "arr = list(map40.items())\n",
        "length = len(list(map40.items()))\n",
        "print(\"lenght: \", length)\n",
        "\n",
        "def avg_map40():\n",
        "  sum_a = 0\n",
        "  for k,v in arr:\n",
        "    sum_a += v[2]\n",
        "  print(\"sum: \", sum_a)\n",
        "  avg = sum_a / length\n",
        "  return avg\n",
        "\n",
        "print(\"AVG MAP40: \" , avg_map40())"
      ],
      "metadata": {
        "colab": {
          "base_uri": "https://localhost:8080/"
        },
        "id": "ecUHG4fhAnR7",
        "outputId": "a10e04af-f2db-458a-de9e-0b64c9da1162"
      },
      "execution_count": null,
      "outputs": [
        {
          "output_type": "stream",
          "name": "stdout",
          "text": [
            "lenght:  15\n",
            "sum:  6.64705215419501\n",
            "AVG MAP40:  0.44313681027966734\n"
          ]
        }
      ]
    },
    {
      "cell_type": "code",
      "source": [],
      "metadata": {
        "id": "qnFSSGy_BKPg"
      },
      "execution_count": null,
      "outputs": []
    },
    {
      "cell_type": "code",
      "source": [],
      "metadata": {
        "id": "a5-O64azJOcM"
      },
      "execution_count": null,
      "outputs": []
    }
  ]
}