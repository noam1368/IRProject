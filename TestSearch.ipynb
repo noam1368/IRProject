{
  "cells": [
    {
      "cell_type": "markdown",
      "metadata": {
        "id": "view-in-github"
      },
      "source": [
        "<a href=\"https://colab.research.google.com/github/noam1368/IRProject/blob/main/TestSearch.ipynb\" target=\"_parent\"><img src=\"https://colab.research.google.com/assets/colab-badge.svg\" alt=\"Open In Colab\"/></a>"
      ]
    },
    {
      "cell_type": "markdown",
      "metadata": {
        "id": "ByCSu-FhG5v7"
      },
      "source": [
        "# Assignment 3: MapReduce & Web Graph"
      ]
    },
    {
      "cell_type": "markdown",
      "metadata": {
        "id": "-e3cxxyFG_XW"
      },
      "source": [
        "## General guidelines\n",
        "\n",
        "This notebook contains considerable amount of code to help you complete this assignment. Your task is to implement any missing parts of the code and answer any questions (if exist) within this notebook. This will require understanding the existing code, may require reading about packages being used, reading additional resources, and maybe even going over your notes from class :😱\n",
        "\n",
        "**Evaluation and auto-grading**: Your submissions will be evaluated using both automatic and manual grading. Code parts for implementation are marked with a comment `# YOUR CODE HERE`, and usually followed by cell(s) containing automatic tests that evaluate the correctness of your answer. Staff will allow your notebook to **execute from start to finish for no more than 90 seconds**, then manually assess your submission. Any automatic tests that did not run due to your notebook timing out **will automatically receive 0 points**. The execution time excludes initial data download, which will already exist in the testing environment. The staff reserves the right to **modify any grade provided by the auto-grader** as well as to **execute additional tests not provided to you**. It is also important to note that **auto-graded cells only result in full or no credit**. In other words, you must pass all tests implemented in a test cell in order to get the credit for it, and passing some, but not all, of the tests in a test cell will not earn you any points for that cell. \n",
        "\n",
        "**Submission**: Upload a zip file **with your ID as the file name** containing the colab notebook and the GCP notebook to the assignment on Moodle. The names of the files should be  in the format:  012345678_colab.ipynb and 012345678_gcp.ipynb."
      ]
    },
    {
      "cell_type": "markdown",
      "metadata": {
        "id": "fscYA3wkHCLk"
      },
      "source": [
        "# Tasks\n",
        "\n",
        "In this assignment, we are going to use MapReduce in pySpark to scale up index creation. **The assignment consists of two parts, one in Google Colab and one in GCP**. In the first part (Colab), we will learn how to use MapReduce in PySpark, create an inverted index, and calculate PageRank. In the second part, we will use GCP to scale up index creation for the entire English Wikipedia. \n",
        "\n",
        "You will learn how to work with PySpark, write MapReduce code that executes on a cluster of machines, and experience the power of parallel processing. **All tasks must be completed through the use of PySpark's MapReduce**.\n",
        "\n",
        "To save you (and us) time, both in this assignment and in the final project, we are providing you with preprocessed files for the entire English wikipedia dump. Preprocessing was done, similar to Assignment #2, to extract article information from the XML, then remove the WikiMedia markup. The complete preprocessing code for one wiki dump can be seen [here](https://colab.research.google.com/drive/1xXc0YPU4BVd8CAjVNgICimW_d-Z7wryu?usp=sharing).\n",
        "\n",
        "\n",
        "**By the end of this assignment, you will have:**\n",
        "\n",
        "In Colab (65 Points)\n",
        "\n",
        "1. (20 Points) Processed articles' body to produce posting lists (using PySpark and MapReduce).\n",
        "2. (5 Points) Calculated document frequency (DF) in a  distributed fashion. \n",
        "3. (20 Points) Partitioned the posting lists and wrote them to disk in parallel.\n",
        "4. (20 Points) Constructed the links graph and calculated PageRank on it. \n",
        "All of these will be based on a small subset of articles from one wiki dump file.\n",
        "\n",
        "In GCP (35 Points):\n",
        "\n",
        "1. (10 Points) Successfully started a Dataproc cluster, setup cloud storage bucket, and properly initialized cluster nodes.\n",
        "2. (10 Points) Created an inverted index for all of English Wikipedia. \n",
        "3. (10 Points) Successfully computed PageRank for the entire English Wikipedia.\n",
        "4. (5 Points) Reporting: size of the data, size of index, time it took to build the index, time it took to compute PageRank, and the $ amount of credits it consumed.\n",
        "\n",
        "Bonus (10 points) if you implement PageRank in pure PySpark, i.e. without using the GraphFrames package, AND manage to complete 10 iterations of your algorithm on the entire English Wikipedia in less than an hour. \n",
        "\n",
        "\n",
        "\n",
        "\n",
        "\n"
      ]
    },
    {
      "cell_type": "markdown",
      "metadata": {
        "id": "J0P4W63JvrT5"
      },
      "source": [
        "# Setup"
      ]
    },
    {
      "cell_type": "markdown",
      "metadata": {
        "id": "59yMYAN1x3oh"
      },
      "source": [
        "## General imports\n",
        "\n",
        "The `inverted_index_colab` import requires the `inverted_index_colab.py` file. You should upload the file and then run this cell."
      ]
    },
    {
      "cell_type": "code",
      "execution_count": 1,
      "metadata": {
        "colab": {
          "base_uri": "https://localhost:8080/"
        },
        "deletable": false,
        "editable": false,
        "id": "byNgReCYsmA9",
        "nbgrader": {
          "cell_type": "code",
          "checksum": "9a5e34081c68da39370c09ff0ee046f0",
          "grade": false,
          "grade_id": "cell-4bab9532110cc7e3",
          "locked": true,
          "schema_version": 3,
          "solution": false,
          "task": false
        },
        "outputId": "0cde319a-40e2-4381-ab62-c3c461a54173"
      },
      "outputs": [
        {
          "output_type": "stream",
          "name": "stderr",
          "text": [
            "[nltk_data] Downloading package stopwords to /root/nltk_data...\n",
            "[nltk_data]   Package stopwords is already up-to-date!\n"
          ]
        }
      ],
      "source": [
        "import sys\n",
        "from collections import Counter, OrderedDict\n",
        "import itertools\n",
        "from itertools import islice, count, groupby\n",
        "import pandas as pd\n",
        "import os\n",
        "import re\n",
        "from operator import itemgetter\n",
        "import nltk\n",
        "from nltk.stem.porter import *\n",
        "from nltk.corpus import stopwords\n",
        "from time import time\n",
        "from timeit import timeit\n",
        "from pathlib import Path\n",
        "import pickle\n",
        "import pandas as pd\n",
        "import numpy as np\n",
        "from google.cloud import storage\n",
        "\n",
        "import hashlib\n",
        "def _hash(s):\n",
        "    return hashlib.blake2b(bytes(s, encoding='utf8'), digest_size=5).hexdigest()\n",
        "\n",
        "nltk.download('stopwords')\n",
        "\n",
        "from inverted_index_colab import *"
      ]
    },
    {
      "cell_type": "code",
      "source": [
        "# These will already be installed in the testing environment so disregard the \n",
        "# amount of time (~1 minute) it takes to install. \n",
        "!pip install -q pyspark\n",
        "!pip install -U -q PyDrive\n",
        "!apt install openjdk-8-jdk-headless -qq\n",
        "!pip install -q graphframes\n",
        "import os\n",
        "os.environ[\"JAVA_HOME\"] = \"/usr/lib/jvm/java-8-openjdk-amd64\"\n",
        "graphframes_jar = 'https://repos.spark-packages.org/graphframes/graphframes/0.8.2-spark3.2-s_2.12/graphframes-0.8.2-spark3.2-s_2.12.jar'\n",
        "spark_jars = '/usr/local/lib/python3.7/dist-packages/pyspark/jars'\n",
        "!wget -N -P $spark_jars $graphframes_jar"
      ],
      "metadata": {
        "colab": {
          "base_uri": "https://localhost:8080/"
        },
        "id": "xJzflBSeB4J9",
        "outputId": "3fecd745-64c7-4054-a6ad-6300371913b0"
      },
      "execution_count": 2,
      "outputs": [
        {
          "output_type": "stream",
          "name": "stdout",
          "text": [
            "openjdk-8-jdk-headless is already the newest version (8u352-ga-1~18.04).\n",
            "The following package was automatically installed and is no longer required:\n",
            "  libnvidia-common-460\n",
            "Use 'apt autoremove' to remove it.\n",
            "0 upgraded, 0 newly installed, 0 to remove and 21 not upgraded.\n",
            "--2023-01-12 17:50:01--  https://repos.spark-packages.org/graphframes/graphframes/0.8.2-spark3.2-s_2.12/graphframes-0.8.2-spark3.2-s_2.12.jar\n",
            "Resolving repos.spark-packages.org (repos.spark-packages.org)... 108.156.83.116, 108.156.83.37, 108.156.83.15, ...\n",
            "Connecting to repos.spark-packages.org (repos.spark-packages.org)|108.156.83.116|:443... connected.\n",
            "HTTP request sent, awaiting response... 304 Not Modified\n",
            "File ‘/usr/local/lib/python3.7/dist-packages/pyspark/jars/graphframes-0.8.2-spark3.2-s_2.12.jar’ not modified on server. Omitting download.\n",
            "\n"
          ]
        }
      ]
    },
    {
      "cell_type": "markdown",
      "metadata": {
        "id": "KRjOVgLBrfCs"
      },
      "source": [
        "## Installing, importing, and initializing PySpark\n"
      ]
    },
    {
      "cell_type": "markdown",
      "metadata": {
        "id": "GORmjMdasns1"
      },
      "source": [
        "The following code installs PySpark and its dependencies in Colab. In addition, we install GraphFrames, which is a PySpark package for dealing with graphs in a distributed fashion. Colab notebooks run on a single machine so we will work in local mode, i.e. there is no cluster of machines and both the master and worker processes run on a single machine. This will help us debug and iron out the code we will use in the second half of this assignment on an actual cluster mode in GCP. \n",
        "\n",
        "The installation in the next cell should take about 1 minute in a fresh environment. Don't worry about going  over the 90 seconds limit for the assignment because in our testing enviroment all of these requirements will already be met. "
      ]
    },
    {
      "cell_type": "code",
      "execution_count": 3,
      "metadata": {
        "deletable": false,
        "editable": false,
        "id": "kw33QgujFQez",
        "nbgrader": {
          "cell_type": "code",
          "checksum": "da733d0507fb7716a3f432b5d9d409a3",
          "grade": false,
          "grade_id": "cell-3f5100ba2d532176",
          "locked": true,
          "schema_version": 3,
          "solution": false,
          "task": false
        }
      },
      "outputs": [],
      "source": [
        "import pyspark\n",
        "from pyspark.sql import *\n",
        "from pyspark.sql.functions import *\n",
        "from pyspark import SparkContext, SparkConf\n",
        "from pyspark.sql import SQLContext\n",
        "from pyspark.ml.feature import Tokenizer, RegexTokenizer\n",
        "from graphframes import *"
      ]
    },
    {
      "cell_type": "code",
      "execution_count": 4,
      "metadata": {
        "deletable": false,
        "editable": false,
        "id": "OgiSewKAsgKd",
        "nbgrader": {
          "cell_type": "code",
          "checksum": "0f56ab8938f3ab2ff990137191848d04",
          "grade": false,
          "grade_id": "cell-3abe6255693138cc",
          "locked": true,
          "schema_version": 3,
          "solution": false,
          "task": false
        }
      },
      "outputs": [],
      "source": [
        "# Initializing spark context\n",
        "# create a spark context and session\n",
        "conf = SparkConf().set(\"spark.ui.port\", \"4050\")\n",
        "conf.set(\"spark.jars.packages\", \"graphframes:graphframes:0.8.2-spark3.2-s_2.12\")\n",
        "sc = pyspark.SparkContext(conf=conf)\n",
        "sc.addPyFile(str(Path(spark_jars) / Path(graphframes_jar).name))\n",
        "spark = SparkSession.builder.getOrCreate()"
      ]
    },
    {
      "cell_type": "markdown",
      "metadata": {
        "id": "A9fjw2J-s87v"
      },
      "source": [
        "You can easily check the current version and get the link of the web interface. In the Spark UI, you can monitor the progress of your job and debug the performance bottlenecks (if your Colab is running with a **local runtime**)."
      ]
    },
    {
      "cell_type": "code",
      "execution_count": 5,
      "metadata": {
        "id": "PUyhQAlBs8qL",
        "colab": {
          "base_uri": "https://localhost:8080/",
          "height": 222
        },
        "outputId": "34274e1c-22a5-4357-a1e7-011abb4ddc75"
      },
      "outputs": [
        {
          "output_type": "execute_result",
          "data": {
            "text/plain": [
              "<pyspark.sql.session.SparkSession at 0x7fa9628d0670>"
            ],
            "text/html": [
              "\n",
              "            <div>\n",
              "                <p><b>SparkSession - in-memory</b></p>\n",
              "                \n",
              "        <div>\n",
              "            <p><b>SparkContext</b></p>\n",
              "\n",
              "            <p><a href=\"http://9e6bec810023:4050\">Spark UI</a></p>\n",
              "\n",
              "            <dl>\n",
              "              <dt>Version</dt>\n",
              "                <dd><code>v3.3.1</code></dd>\n",
              "              <dt>Master</dt>\n",
              "                <dd><code>local[*]</code></dd>\n",
              "              <dt>AppName</dt>\n",
              "                <dd><code>pyspark-shell</code></dd>\n",
              "            </dl>\n",
              "        </div>\n",
              "        \n",
              "            </div>\n",
              "        "
            ]
          },
          "metadata": {},
          "execution_count": 5
        }
      ],
      "source": [
        "spark"
      ]
    },
    {
      "cell_type": "markdown",
      "metadata": {
        "id": "19EG5AvVru1J"
      },
      "source": [
        "## Copy some wiki data"
      ]
    },
    {
      "cell_type": "markdown",
      "metadata": {
        "id": "ofyAoTHttjHE"
      },
      "source": [
        "As mentioned above, all wiki dumps were preprocessed and placed in a shared google storage bucket. To access the files in Colab, you will first have to authenticate with google storage, and then copy the data to your local environment. \n",
        "\n",
        "**IMPORTANT NOTE**\n",
        "\n",
        "Before you start working with the wiki data, you first have to go over the \n",
        "\"Working with GCP.pdf\" Provided to you under the gcp folder in the same zip file as this folder. In that pdf you will redeem your credits for the GCP and create your instance. You have to do this procedure because the files will be mounted to you through GCP process. \n",
        "Notice that you have to change the project_id variable in the second cell below. \n",
        "\n",
        "In GCP, the storage will already be mounted on the cluster machines and we will show you how to access it.\n"
      ]
    },
    {
      "cell_type": "code",
      "execution_count": 6,
      "metadata": {
        "deletable": false,
        "editable": false,
        "id": "DkdjBm5DOVWX",
        "nbgrader": {
          "cell_type": "code",
          "checksum": "6eb03b7c8aae3df806c857c7f309b306",
          "grade": false,
          "grade_id": "cell-e21b8fff61e90a95",
          "locked": true,
          "schema_version": 3,
          "solution": false,
          "task": false
        }
      },
      "outputs": [],
      "source": [
        "# Authenticate your user\n",
        "# The authentication should be done with the email connected to your GCP account\n",
        "from google.colab import auth\n",
        "import signal\n",
        "\n",
        "AUTH_TIMEOUT = 300000\n",
        "\n",
        "def handler(signum, frame):\n",
        "  raise Exception(\"Authentication timeout!\")\n",
        "\n",
        "signal.signal(signal.SIGALRM, handler)\n",
        "signal.alarm(AUTH_TIMEOUT)\n",
        "\n",
        "try:\n",
        "   auth.authenticate_user()\n",
        "except: \n",
        "   pass"
      ]
    },
    {
      "cell_type": "code",
      "source": [
        "wiki_data = \"wikidata20210801_preprocessed\""
      ],
      "metadata": {
        "id": "rw3z_bm9DHSO"
      },
      "execution_count": 7,
      "outputs": []
    },
    {
      "cell_type": "code",
      "execution_count": 8,
      "metadata": {
        "colab": {
          "base_uri": "https://localhost:8080/"
        },
        "deletable": false,
        "editable": false,
        "id": "vDuikxFbN9B7",
        "nbgrader": {
          "cell_type": "code",
          "checksum": "862688e2c720977cb14caa4309c593c5",
          "grade": false,
          "grade_id": "cell-e19184d540ed3d67",
          "locked": true,
          "schema_version": 3,
          "solution": false,
          "task": false
        },
        "outputId": "ba89f44e-84ce-44a7-f0dd-59598fdd5fb4"
      },
      "outputs": [
        {
          "output_type": "stream",
          "name": "stdout",
          "text": [
            "Updated property [core/project].\n",
            "mkdir: cannot create directory ‘wikidumps’: File exists\n",
            "Copying gs://wikidata20210801_preprocessed/multistream1_preprocessed.parquet...\n",
            "\\ [1 files][316.7 MiB/316.7 MiB]                                                \n",
            "Operation completed over 1 objects/316.7 MiB.                                    \n"
          ]
        }
      ],
      "source": [
        "# Copy one wikidumps files \n",
        "import os\n",
        "from pathlib import Path\n",
        "from google.colab import auth\n",
        "## RENAME the project_id to yours project id from the project you created in GCP \n",
        "project_id = 'ass3-370307'\n",
        "!gcloud config set project {project_id}\n",
        "\n",
        "data_bucket_name = wiki_data\n",
        "try:\n",
        "    if os.environ[wiki_data] is not None:\n",
        "        pass  \n",
        "except:\n",
        "      !mkdir wikidumps\n",
        "      !gsutil -u {project_id} cp gs://{data_bucket_name}/multistream1_preprocessed.parquet \"wikidumps/\" \n"
      ]
    },
    {
      "cell_type": "markdown",
      "metadata": {
        "id": "_GU4djg6yizh"
      },
      "source": [
        "# Processing wikipedia"
      ]
    },
    {
      "cell_type": "markdown",
      "metadata": {
        "id": "uF9ywiIC-sAX"
      },
      "source": [
        "Now that we completed the setup and have some data in our local environment, we are ready to process it using PySpark. "
      ]
    },
    {
      "cell_type": "markdown",
      "metadata": {
        "id": "tkEUicVTzDZd"
      },
      "source": [
        "## A 2-minute intro to PySpark"
      ]
    },
    {
      "cell_type": "markdown",
      "metadata": {
        "id": "6GVQMbCtzWI2"
      },
      "source": [
        "One of the fundamental data structures in spark is a **Resillient Distributed Dataset (RDD)**. It is an immutable distributed collections of objects that are partitioned across machines, and thus making parallel processing natural and easy. RDD's support two types of operations: *transformations* (e.g. selecting a subset of fields from each element or projecting each element from A->B), and *actions* (e.g. save to disk or `collect` elements into the master node's memory). Watch out for `collect` operations that send too much data to the master node, it will crash without a trace because of running out of memory. \n",
        "\n",
        "Spark employs **lazy-evaluation** (like many of us...), meaning that it accumulates things we ask it to do into an execution plan, but doesn't do any calculation until a result is actually needed. When a result is needed? when we save something to disk, ask spark to show the data, or use other actions. But make no mistakes, Spark is not a slacker. It employs lazy-evaluation because it allows optimizations that wouldn't be possible otherwise and it often saves users from unnecessary data reads, tranfers across machines, and other costly operations. As we will see in a bit, the RDD data structure lends itself to simple and efficient MapReduce operations."
      ]
    },
    {
      "cell_type": "markdown",
      "metadata": {
        "id": "5aQwbFGxPb4D"
      },
      "source": [
        "Let's look at our data before transforming it to RDD."
      ]
    },
    {
      "cell_type": "code",
      "execution_count": 9,
      "metadata": {
        "colab": {
          "base_uri": "https://localhost:8080/"
        },
        "id": "nmMTFnPaaqRQ",
        "outputId": "d5aae86f-2d7f-492c-91b4-a65238115bd8"
      },
      "outputs": [
        {
          "output_type": "stream",
          "name": "stdout",
          "text": [
            "+---+--------------------+--------------------+--------------------+\n",
            "| id|               title|                text|         anchor_text|\n",
            "+---+--------------------+--------------------+--------------------+\n",
            "| 12|           Anarchism|'''Anarchism''' i...|[{23040, politica...|\n",
            "| 25|              Autism|'''Autism''' is a...|[{492271, Clinica...|\n",
            "| 39|              Albedo|thumb|upright=1.3...|[{679294, diffuse...|\n",
            "|290|                   A|'''A''', or '''a'...|[{290, See below}...|\n",
            "|303|             Alabama|'''Alabama''' () ...|[{351590, Yellowh...|\n",
            "|305|            Achilles|thumb|260px|Ancie...|[{1076007, potter...|\n",
            "|307|     Abraham Lincoln|'''Abraham Lincol...|[{1827174, Alexan...|\n",
            "|308|           Aristotle|'''Aristotle''' (...|[{1389981, bust},...|\n",
            "|309|An American in Paris|'''''An American ...|[{13066, George G...|\n",
            "|316|Academy Award for...|The '''Academy Aw...|[{39842, Academy ...|\n",
            "|324|      Academy Awards|The '''Academy Aw...|[{649481, film in...|\n",
            "|330|             Actrius|'''''Actresses'''...|[{5282, Catalan},...|\n",
            "|332|     Animalia (book)|'''''Animalia''''...|[{2511084, Graeme...|\n",
            "|334|International Ato...|'''International ...|[{25453985, atomi...|\n",
            "|336|            Altruism|thumb|Giving alms...|[{657573, alms}, ...|\n",
            "|339|            Ayn Rand|'''Alice O'Connor...|[{24320051, St. P...|\n",
            "|340|        Alain Connes|'''Alain Connes''...|[{1201522, Dragui...|\n",
            "|344|          Allan Dwan|'''Allan Dwan''' ...|[{64646, Toronto}...|\n",
            "|358|             Algeria|'''Algeria''', of...|[{803, Arabic}, {...|\n",
            "|359|List of Atlas Shr...|This is a list of...|[{339, Ayn Rand},...|\n",
            "+---+--------------------+--------------------+--------------------+\n",
            "only showing top 20 rows\n",
            "\n"
          ]
        }
      ],
      "source": [
        "from pathlib import Path \n",
        "import os\n",
        "\n",
        "try:\n",
        "    if os.environ[wiki_data] is not None:\n",
        "      path = os.environ[wiki_data]+\"/wikidumps/*\"\n",
        "except:\n",
        "      path = \"wikidumps/*\"\n",
        "\n",
        "parquetFile = spark.read.parquet(path)\n",
        "parquetFile.show()"
      ]
    },
    {
      "cell_type": "code",
      "execution_count": 10,
      "metadata": {
        "deletable": false,
        "editable": false,
        "id": "KMcsrc8RO9kn",
        "nbgrader": {
          "cell_type": "code",
          "checksum": "9f6dbcc85fde698083cc613e0cc1aaef",
          "grade": false,
          "grade_id": "cell-59e4fe49688570ce",
          "locked": true,
          "schema_version": 3,
          "solution": false,
          "task": false
        }
      },
      "outputs": [],
      "source": [
        "# take the 'text' and 'id' or the first 1000 rows and create an RDD from it\n",
        "doc_text_pairs = parquetFile.limit(1000).select(\"text\", \"id\").rdd\n",
        "\n",
        "\n"
      ]
    },
    {
      "cell_type": "code",
      "source": [
        "# doc_text_pairs.map()"
      ],
      "metadata": {
        "id": "a9f8Ey_Z1Dwx"
      },
      "execution_count": 11,
      "outputs": []
    },
    {
      "cell_type": "code",
      "source": [
        "doc_title_pairs = parquetFile.limit(1000).select(\"title\", \"id\").rdd"
      ],
      "metadata": {
        "id": "4PR9XqcHDWin"
      },
      "execution_count": 12,
      "outputs": []
    },
    {
      "cell_type": "code",
      "source": [
        "doc_anchor_pairs = parquetFile.limit(1000).select(\"anchor_text\", \"id\").rdd"
      ],
      "metadata": {
        "id": "Hu1c5qmyDW6Z"
      },
      "execution_count": 13,
      "outputs": []
    },
    {
      "cell_type": "markdown",
      "metadata": {
        "id": "__g69rcETm4w"
      },
      "source": [
        "## Word counts"
      ]
    },
    {
      "cell_type": "markdown",
      "metadata": {
        "id": "-zUibXvjWb6Q"
      },
      "source": [
        "### Term frequency"
      ]
    },
    {
      "cell_type": "markdown",
      "metadata": {
        "id": "UrBuHUHmA5pP"
      },
      "source": [
        "**YOUR TASK (10 POINTS):** Complete the implementation of `word_count`, which calculates the term-frequency (tf) for each word in a single document.  map function. The functions gets the text and the wiki id, calculates the tf and returns list of tuples in the form of (token, (wiki_id, tf))."
      ]
    },
    {
      "cell_type": "code",
      "execution_count": 14,
      "metadata": {
        "deletable": false,
        "id": "9GmPedzexLyt",
        "nbgrader": {
          "cell_type": "code",
          "checksum": "27318e0e7bdcd4384f38fbce1f52996a",
          "grade": false,
          "grade_id": "cell-6b21d53c0afef4f6",
          "locked": false,
          "schema_version": 3,
          "solution": true,
          "task": false
        }
      },
      "outputs": [],
      "source": [
        "english_stopwords = frozenset(stopwords.words('english'))\n",
        "corpus_stopwords = ['category', 'references', 'also', 'links', 'extenal', 'see', 'thumb']\n",
        "RE_WORD = re.compile(r\"\"\"[\\#\\@\\w](['\\-]?\\w){2,24}\"\"\", re.UNICODE)\n",
        "\n",
        "all_stopwords = english_stopwords.union(corpus_stopwords)\n",
        "\n",
        "\n",
        "\n",
        "def word_count(text, id):\n",
        "  ''' Count the frequency of each word in `text` (tf) that is not included in \n",
        "  `all_stopwords` and return entries that will go into our posting lists. \n",
        "  Parameters:\n",
        "  -----------\n",
        "    text: str\n",
        "      Text of one document\n",
        "    id: int\n",
        "      Document id\n",
        "  Returns:\n",
        "  --------\n",
        "    List of tuples\n",
        "      A list of (token, (doc_id, tf)) pairs \n",
        "      for example: [(\"Anarchism\", (12, 5)), ...]\n",
        "  '''\n",
        "  tokens = [token.group() for token in RE_WORD.finditer(text.lower())]\n",
        "  # YOUR CODE HERE\n",
        "  hash={}\n",
        "\n",
        "  for word in tokens:\n",
        "    if word in all_stopwords:\n",
        "      continue\n",
        "    if word in hash:\n",
        "      hash[word] = (id, hash[word][1]+1)\n",
        "      # term_total_a[word] = term_total_a[word]+1\n",
        "\n",
        "    else:\n",
        "      hash[word] = (id,1)\n",
        "      # term_total_a[word] = 1\n",
        "\n",
        "  # print(list(hash.items()))\n",
        "  # print\n",
        "  return list(hash.items())"
      ]
    },
    {
      "cell_type": "code",
      "execution_count": 15,
      "metadata": {
        "deletable": false,
        "editable": false,
        "id": "RLqHPKUvbT8R",
        "nbgrader": {
          "cell_type": "code",
          "checksum": "f87a2c3f96e1be68b55c7bdc528c9b70",
          "grade": true,
          "grade_id": "cell-078c69c116c8dc58",
          "locked": true,
          "points": 10,
          "schema_version": 3,
          "solution": false,
          "task": false
        }
      },
      "outputs": [],
      "source": [
        "# test for word count\n",
        "text = \"This is a test to check the words count function actually count words\"\n",
        "id = 0\n",
        "word_count_results = word_count(text, id)\n",
        "\n",
        "\n",
        "\n",
        "assert word_count_results[0][0] == 'test'\n",
        "assert len(word_count_results) == 6\n",
        "assert word_count_results[2][1][1] == word_count_results[2][1][1]\n",
        "assert type(word_count_results[0][0]) == str\n",
        "assert type(word_count_results[0][1]) == tuple\n"
      ]
    },
    {
      "cell_type": "markdown",
      "metadata": {
        "id": "MNC7QlO8KZL_"
      },
      "source": [
        "PySpark has a `map` trasformation that, just like we learned in class about Map in MapReduce, executes a given function on each element of an  RDD. It also has a `flatMap()` transformation that executes a given function on each element of an RDD, but afterwards flattens the results to create one big \"list\" instead multiple nested lists. For example, `flatMap` on the above `word_count` function will concatenate the tokens from multiple document into one big list rather than keeping separate list of tokens for each document like a regular `map` would produce. "
      ]
    },
    {
      "cell_type": "code",
      "execution_count": 16,
      "metadata": {
        "deletable": false,
        "editable": false,
        "id": "g3DUXXzxsy-B",
        "nbgrader": {
          "cell_type": "code",
          "checksum": "1b9779ec6b1e9dc06e41ea10fd7c259a",
          "grade": false,
          "grade_id": "cell-340917ce88e0d116",
          "locked": true,
          "schema_version": 3,
          "solution": false,
          "task": false
        }
      },
      "outputs": [],
      "source": [
        "word_counts_text = doc_text_pairs.flatMap(lambda x: word_count(x[0], x[1]))\n",
        "word_counts_title = doc_title_pairs.flatMap(lambda x: word_count(x[0], x[1]))\n",
        "word_counts_anchor = doc_anchor_pairs.flatMap(lambda x: word_count(x[0], x[1]))"
      ]
    },
    {
      "cell_type": "markdown",
      "metadata": {
        "id": "cwC3pX1ss1en"
      },
      "source": [
        "After `flatMap` is executed, the counts for a given token are likely to be scattered accross multiple machines/workers in the cluster. In order to create the posting lists for each token, we need a reduce operation that collects them into one list and sorts them by the document id (wiki_id). \n",
        "\n",
        "Spark has several ways of reducing or aggergating values, but we will use `groupByKey`, which like Reduce in MapReduce, collects all the values for a given key into an iterable list of the values associated with that key. The result of `groupByKey` is an RDD with (key, value*s*) pairs. Then, we can call `map` to execute a function on each pair in that RDD or call `mapValues` to execute a function only on the values iterable.\n",
        "\n",
        "**YOUR TASK (5 POINTS):** Complete the implementation of `reduce_word_counts`, which operates on the pairs returned by `word_count`. The functions gets a list of values (unsorted posting list) and sorts it."
      ]
    },
    {
      "cell_type": "code",
      "execution_count": 17,
      "metadata": {
        "deletable": false,
        "id": "1yFhHQBZHIBb",
        "nbgrader": {
          "cell_type": "code",
          "checksum": "b8b3d536f304b848874fd48edd59268c",
          "grade": false,
          "grade_id": "cell-78a1517e2ac6a914",
          "locked": false,
          "schema_version": 3,
          "solution": true,
          "task": false
        }
      },
      "outputs": [],
      "source": [
        "def reduce_word_counts(unsorted_pl):\n",
        "  ''' Returns a sorted posting list by wiki_id.\n",
        "  Parameters:\n",
        "  -----------\n",
        "    unsorted_pl: list of tuples\n",
        "      A list of (wiki_id, tf) tuples \n",
        "  Returns:\n",
        "  --------\n",
        "    list of tuples\n",
        "      A sorted posting list.\n",
        "  '''\n",
        "  # YOUR CODE HERE\n",
        "  return sorted(unsorted_pl, key = lambda x:x[0])"
      ]
    },
    {
      "cell_type": "code",
      "execution_count": 18,
      "metadata": {
        "deletable": false,
        "editable": false,
        "id": "-VWkWnUO_QKd",
        "nbgrader": {
          "cell_type": "code",
          "checksum": "dad7c9e7a0150c79ab22b7c91cf1015b",
          "grade": false,
          "grade_id": "cell-a17b5f692abdf5af",
          "locked": true,
          "schema_version": 3,
          "solution": false,
          "task": false
        }
      },
      "outputs": [],
      "source": [
        "postings_text = word_counts_text.groupByKey().mapValues(reduce_word_counts)\n",
        "postings_title = word_counts_title.groupByKey().mapValues(reduce_word_counts)\n",
        "postings_anchor = word_counts_anchor.groupByKey().mapValues(reduce_word_counts)"
      ]
    },
    {
      "cell_type": "code",
      "execution_count": 19,
      "metadata": {
        "deletable": false,
        "editable": false,
        "id": "6zbBgNIM46OX",
        "nbgrader": {
          "cell_type": "code",
          "checksum": "e852c4699f374fa118340664637d9d2c",
          "grade": true,
          "grade_id": "cell-2585ebc19d7fb56f",
          "locked": true,
          "points": 5,
          "schema_version": 3,
          "solution": false,
          "task": false
        }
      },
      "outputs": [],
      "source": [
        "## test reduce_word_count\n",
        "token, posting_list = postings_text.take(1)[0]\n",
        "assert type(token) == str\n",
        "assert type(posting_list) == list\n",
        "doc_id, tf = zip(*posting_list)\n",
        "assert type(doc_id[0]) == int\n",
        "assert type(tf[0]) == int\n",
        "assert np.diff(doc_id).min() > 0 \n",
        "assert np.min(tf) > 0 \n",
        "assert postings_text.count() == 153014"
      ]
    },
    {
      "cell_type": "markdown",
      "metadata": {
        "id": "3LiIJMOjWnsB"
      },
      "source": [
        "### Document frequency and filteration"
      ]
    },
    {
      "cell_type": "markdown",
      "metadata": {
        "id": "zrWoS-kHvhmM"
      },
      "source": [
        "Next, we will filter out rare words, words that appear in 10 or fewer documents (when working on the entire corpus, we will increase this threshold to a minimum of 50 documents). "
      ]
    },
    {
      "cell_type": "code",
      "execution_count": 20,
      "metadata": {
        "deletable": false,
        "editable": false,
        "id": "EnrhMaR0digd",
        "nbgrader": {
          "cell_type": "code",
          "checksum": "e0deadc5799532d013e5f5a8c6cc8cdb",
          "grade": false,
          "grade_id": "cell-6c0501a9eb9b1059",
          "locked": true,
          "schema_version": 3,
          "solution": false,
          "task": false
        }
      },
      "outputs": [],
      "source": [
        "postings_filtered_text = postings_text.filter(lambda x: len(x[1])>10)\n",
        "postings_filtered_title = postings_title.filter(lambda x: len(x[1])>10)\n",
        "postings_filtered_anchor = postings_anchor.filter(lambda x: len(x[1])>10)"
      ]
    },
    {
      "cell_type": "markdown",
      "metadata": {
        "id": "-bclZ2cmFRjq"
      },
      "source": [
        "Now, we would like to calculate the df for each word.\n",
        "\n",
        "**YOUR TASK (5 POINTS):** Complete the implementation of `calculate_df` that takes a posting list RDD and returns an RDD where each element is a (token, df) pair. "
      ]
    },
    {
      "cell_type": "code",
      "execution_count": 21,
      "metadata": {
        "deletable": false,
        "id": "J_-UoG2CGj4o",
        "nbgrader": {
          "cell_type": "code",
          "checksum": "795721521242afd06958773d307bc60a",
          "grade": false,
          "grade_id": "cell-6c7774baf403e8e7",
          "locked": false,
          "schema_version": 3,
          "solution": true,
          "task": false
        }
      },
      "outputs": [],
      "source": [
        "def calculate_df(postings):\n",
        "  ''' Takes a posting list RDD and calculate the df for each token.\n",
        "  Parameters:\n",
        "  -----------\n",
        "    postings: RDD\n",
        "      An RDD where each element is a (token, posting_list) pair.\n",
        "  Returns:\n",
        "  --------\n",
        "    RDD\n",
        "      An RDD where each element is a (token, df) pair.\n",
        "  '''\n",
        "  # YOUR CODE HERE\n",
        "  return postings.map( lambda x: (x[0], len(x[1])) )"
      ]
    },
    {
      "cell_type": "code",
      "execution_count": 22,
      "metadata": {
        "deletable": false,
        "editable": false,
        "id": "ddVcByPLCaP_",
        "nbgrader": {
          "cell_type": "code",
          "checksum": "c720fdbf8b2eabc0e6f82d7a7ef48b8d",
          "grade": true,
          "grade_id": "cell-abfcf7244829f520",
          "locked": true,
          "points": 5,
          "schema_version": 3,
          "solution": false,
          "task": false
        }
      },
      "outputs": [],
      "source": [
        "# global statistics\n",
        "w2df_text = calculate_df(postings_filtered_text)\n",
        "w2df_title = calculate_df(postings_filtered_title)\n",
        "w2df_anchor = calculate_df(postings_filtered_anchor)\n",
        "\n",
        "\n",
        "\n",
        "# test calculate_df types\n",
        "token, df = w2df_text.take(1)[0]\n",
        "assert type(token) == str\n",
        "assert type(df) == int\n",
        "# test min/max df values\n",
        "# collectAsMap collects the results to the master node's memory as a dictionary.\n",
        "# we know it's not so big so this is okay.\n",
        "w2df_dict = w2df_text.collectAsMap()\n",
        "assert np.min(list(w2df_dict.values())) == 11\n",
        "assert np.max(list(w2df_dict.values())) == 819\n",
        "# test select words\n",
        "assert w2df_dict['first'] == 805\n",
        "assert w2df_dict['many'] == 670\n",
        "assert w2df_dict['used'] == 648"
      ]
    },
    {
      "cell_type": "markdown",
      "metadata": {
        "id": "5z1wMOiFTyGJ"
      },
      "source": [
        "## Partitioning and writing the index"
      ]
    },
    {
      "cell_type": "markdown",
      "metadata": {
        "id": "q3a2sC0WytzO"
      },
      "source": [
        "Now that we have the postings information we need to write it to disk. We would like to partition the tokens and posting lists into buckets so when we get a query, we know exactly in which bucket to look for its posting list. This can also help parallelize retrieval from the index if we have multiple machines answering queries. \n",
        "\n",
        "Here, you are asked to do this partitioning/bucketing through another round of map and reduce operations, where the last step should be to write out each bucket into a separate inverted index on disk. Use the staff-provided function of  `write_a_posting_list` implemented in inverted_index_colab.py for the InvertedIndex class. Eventually, this partitioning and writing process needs to return information about where each posting list is located (file name and offset) for a token. \n",
        "\n",
        "**YOUR TASK (20 POINTS):** Complete the implementation of `partition_postings_and_write` that partitions the posting list, writes out each bucket, and returns information about the location on disk of each posting list."
      ]
    },
    {
      "cell_type": "code",
      "execution_count": 23,
      "metadata": {
        "deletable": false,
        "id": "MvZDJk0bu9V9",
        "nbgrader": {
          "cell_type": "code",
          "checksum": "a3aaab30238939a14be6a58056ed3000",
          "grade": false,
          "grade_id": "cell-e85a52ed1c96897a",
          "locked": false,
          "schema_version": 3,
          "solution": true,
          "task": false
        }
      },
      "outputs": [],
      "source": [
        "NUM_BUCKETS = 124\n",
        "def token2bucket_id(token):\n",
        "  return int(_hash(token),16) % NUM_BUCKETS\n",
        "\n",
        "def partition_postings_and_write(postings):\n",
        "  ''' A function that partitions the posting lists into buckets, writes out \n",
        "  all posting lists in a bucket to disk, and returns the posting locations for \n",
        "  each bucket. Partitioning should be done through the use of `token2bucket` \n",
        "  above. Writing to disk should use the function  `write_a_posting_list`, a \n",
        "  static method implemented in inverted_index_colab.py under the InvertedIndex \n",
        "  class. \n",
        "  Parameters:\n",
        "  -----------\n",
        "    postings: RDD\n",
        "      An RDD where each item is a (w, posting_list) pair.\n",
        "  Returns:\n",
        "  --------\n",
        "    RDD\n",
        "      An RDD where each item is a posting locations dictionary for a bucket. The\n",
        "      posting locations maintain a list for each word of file locations and \n",
        "      offsets its posting list was written to. See `write_a_posting_list` for \n",
        "      more details.\n",
        "  '''\n",
        "  # YOUR CODE HERE\n",
        "\n",
        "  result = postings.map(lambda x: (token2bucket_id(x[0]),x)).groupByKey().map(lambda item: InvertedIndex.write_a_posting_list(item))\n",
        "\n",
        "  # result = hashItems.map(lambda item: InvertedIndex.write_a_posting_list(item))\n",
        "  # array_of_items = []\n",
        "\n",
        "  # for item in hashItems.collect():\n",
        "  #   posting_locations_dictionary = InvertedIndex.write_a_posting_list(item)\n",
        "  #   array_of_items.append(posting_locations_dictionary)\n",
        "\n",
        "  # rdd = sc.parallelize(array_of_items)\n",
        "  \n",
        "  return result"
      ]
    },
    {
      "cell_type": "markdown",
      "metadata": {
        "id": "fohEJFfR3QiE"
      },
      "source": [
        "The next cell uses the `collect` operator to aggregate the posting location information from the multiple buckets/indices into a single dictionary. We know in this case that the posting locations info is relatively small so this is not going to crash our master node. "
      ]
    },
    {
      "cell_type": "code",
      "execution_count": 25,
      "metadata": {
        "deletable": false,
        "editable": false,
        "id": "vxCMgAlRDIac",
        "nbgrader": {
          "cell_type": "code",
          "checksum": "a22f7669520fe9435380b4226b14665e",
          "grade": true,
          "grade_id": "cell-708dc83ae80344eb",
          "locked": true,
          "points": 10,
          "schema_version": 3,
          "solution": false,
          "task": false
        }
      },
      "outputs": [],
      "source": [
        "# test partitioning for the different buckets (10 points)\n",
        "posting_locs_list = partition_postings_and_write(postings_filtered_text).collect()\n",
        "assert len(posting_locs_list) == 124\n",
        "# assert len(list(Path('.').glob('*.bin'))) == 124\n",
        "pl_lens = [len(pl) for pl in posting_locs_list]\n",
        "assert np.max(pl_lens) == 141\n",
        "assert np.min(pl_lens) == 91 \n",
        "assert int(np.median(pl_lens)) == 116"
      ]
    },
    {
      "cell_type": "code",
      "execution_count": 26,
      "metadata": {
        "deletable": false,
        "editable": false,
        "id": "C-h5dgtF-TeL",
        "nbgrader": {
          "cell_type": "code",
          "checksum": "99fd63277bc98ff17fdeff467d07b5dd",
          "grade": true,
          "grade_id": "cell-67eccca53a3c689c",
          "locked": true,
          "points": 5,
          "schema_version": 3,
          "solution": false,
          "task": false
        }
      },
      "outputs": [],
      "source": [
        "# merge the posting locations into a single dict and run more tests (5 points)\n",
        "super_posting_locs = defaultdict(list)\n",
        "for posting_loc in posting_locs_list:\n",
        "  for k, v in posting_loc.items():\n",
        "    super_posting_locs[k].extend(v)\n",
        "\n",
        "assert super_posting_locs['try'][0][0][:3] == '105'\n",
        "assert super_posting_locs['political'][0][0][:2] == '83'\n",
        "assert 'hi' not in super_posting_locs\n",
        "assert len(super_posting_locs) == 14524"
      ]
    },
    {
      "cell_type": "markdown",
      "metadata": {
        "id": "xBpxtFW7HeAT"
      },
      "source": [
        "Putting everything together (posting locations, df) and test that the resulting index is correct. "
      ]
    },
    {
      "cell_type": "code",
      "execution_count": 27,
      "metadata": {
        "id": "VKrew8cUAyTz"
      },
      "outputs": [],
      "source": [
        "# Create inverted index instance\n",
        "inverted = InvertedIndex()\n",
        "# Adding the posting locations dictionary to the inverted index\n",
        "inverted.posting_locs = super_posting_locs\n",
        "# Add the token - df dictionary to the inverted index\n",
        "inverted.df = w2df_dict\n",
        "\n",
        "# inverted.term_total = term_total_a\n",
        "# write the global stats out\n",
        "inverted.write_index('.', 'index')"
      ]
    },
    {
      "cell_type": "code",
      "execution_count": 28,
      "metadata": {
        "deletable": false,
        "editable": false,
        "id": "j2_qt2IPkxqz",
        "nbgrader": {
          "cell_type": "code",
          "checksum": "4cb2f6508a6447d5732697ca263194c6",
          "grade": false,
          "grade_id": "cell-2580b6e6179c1c3f",
          "locked": true,
          "schema_version": 3,
          "solution": false,
          "task": false
        }
      },
      "outputs": [],
      "source": [
        "TUPLE_SIZE = 6       \n",
        "TF_MASK = 2 ** 16 - 1 # Masking the 16 low bits of an integer\n",
        "from contextlib import closing\n",
        "\n",
        "def read_posting_list(inverted, w):\n",
        "  with closing(MultiFileReader()) as reader:\n",
        "    locs = inverted.posting_locs[w]\n",
        "    b = reader.read(locs, inverted.df[w] * TUPLE_SIZE)\n",
        "    posting_list = []\n",
        "    for i in range(inverted.df[w]):\n",
        "      doc_id = int.from_bytes(b[i*TUPLE_SIZE:i*TUPLE_SIZE+4], 'big')\n",
        "      tf = int.from_bytes(b[i*TUPLE_SIZE+4:(i+1)*TUPLE_SIZE], 'big')\n",
        "      posting_list.append((doc_id, tf))\n",
        "    return posting_list"
      ]
    },
    {
      "cell_type": "code",
      "execution_count": 29,
      "metadata": {
        "deletable": false,
        "editable": false,
        "id": "VF6gfVFSIzM6",
        "nbgrader": {
          "cell_type": "code",
          "checksum": "c2a9d41d94ca9a2214a24f6794c23db7",
          "grade": true,
          "grade_id": "cell-7c94f4d8b12a93b5",
          "locked": true,
          "points": 5,
          "schema_version": 3,
          "solution": false,
          "task": false
        }
      },
      "outputs": [],
      "source": [
        "## test the final index\n",
        "pl = read_posting_list(inverted, 'clarity')\n",
        "assert pl[-3] == (2204, 2)\n",
        "assert len(pl) == 18"
      ]
    },
    {
      "cell_type": "code",
      "source": [
        "TUPLE_SIZE = 6       # We're going to pack the doc_id and tf values in this many bytes.\n",
        "TF_MASK = 2 ** 16 - 1 # Masking the 16 low bits of an integer\n",
        "\n",
        "nltk.download('stopwords')\n",
        "english_stopwords = frozenset(stopwords.words('english'))\n",
        "corpus_stopwords = [\"category\", \"references\", \"also\", \"external\", \"links\",\n",
        "                    \"may\", \"first\", \"see\", \"history\", \"people\", \"one\", \"two\",\n",
        "                    \"part\", \"thumb\", \"including\", \"second\", \"following\",\n",
        "                    \"many\", \"however\", \"would\", \"became\"]\n",
        "\n",
        "all_stopwords = english_stopwords.union(corpus_stopwords) #this is containing all the stop words\n",
        "RE_WORD = re.compile(r\"\"\"[\\#\\@\\w](['\\-]?\\w){2,24}\"\"\", re.UNICODE)\n",
        "\n",
        "def tokenize(text):\n",
        "    \"\"\"\n",
        "    This function aims in tokenize a text into a list of tokens. Moreover, it filter stopwords.\n",
        "\n",
        "    Parameters:\n",
        "    -----------\n",
        "    text: string , represting the text to tokenize.\n",
        "\n",
        "    Returns:\n",
        "    -----------\n",
        "    list of tokens (e.g., list of tokens).\n",
        "    \"\"\"\n",
        "    list_of_tokens = [token.group() for token in RE_WORD.finditer(text.lower()) if\n",
        "                      token.group() not in english_stopwords]\n",
        "    return list_of_tokens"
      ],
      "metadata": {
        "colab": {
          "base_uri": "https://localhost:8080/"
        },
        "id": "iibl_JXvFUvW",
        "outputId": "62218632-cc72-4310-8b04-caa112ed1bd4"
      },
      "execution_count": 30,
      "outputs": [
        {
          "output_type": "stream",
          "name": "stderr",
          "text": [
            "[nltk_data] Downloading package stopwords to /root/nltk_data...\n",
            "[nltk_data]   Package stopwords is already up-to-date!\n"
          ]
        }
      ]
    },
    {
      "cell_type": "code",
      "source": [
        "# def posting_lists_reader(inverted_index, term): # work 2\n",
        "#     \"\"\"  reads one posting list from disk in byte and convert to int\n",
        "#         return:\n",
        "#             [(doc_id:int, tf:int), ...].\n",
        "#     \"\"\"\n",
        "#     with closing(MultiFileReader()) as reader:\n",
        "#         locs = inverted_index.posting_locs[term]\n",
        "#         b = reader.read(locs, inverted_index.df[term] * TUPLE_SIZE)# convert the bytes read into `b` to a proper posting list.\n",
        "#         posting_list = []\n",
        "\n",
        "#         while b:\n",
        "#             b_doc_id = int.from_bytes(b[0:4], \"big\")\n",
        "#             b_tf_of_w = int.from_bytes(b[4:6], \"big\")\n",
        "#             b = b[6:]\n",
        "#             posting_list.append((b_doc_id, b_tf_of_w))\n",
        "\n",
        "#         return posting_list\n",
        "\n",
        "\n",
        "def posting_lists_reader(inverted_index, term):\n",
        "    \"\"\" A generator that reads one posting list from disk and yields\n",
        "        a (word:str, [(doc_id:int, tf:int), ...]) tuple.\n",
        "    \"\"\"\n",
        "    with closing(MultiFileReader()) as reader:\n",
        "        locs = inverted_index.posting_locs[term]\n",
        "        b = reader.read(locs, inverted_index.df[term] * TUPLE_SIZE)\n",
        "        posting_list = []\n",
        "        for i in range(inverted_index.df[term]):\n",
        "            doc_id = int.from_bytes(b[i*TUPLE_SIZE:i*TUPLE_SIZE+4], 'big')\n",
        "            tf = int.from_bytes(b[i*TUPLE_SIZE+4:(i+1)*TUPLE_SIZE], 'big')\n",
        "            posting_list.append((doc_id, tf))\n",
        "\n",
        "        return posting_list"
      ],
      "metadata": {
        "id": "LxBe82RpFU2x"
      },
      "execution_count": 70,
      "outputs": []
    },
    {
      "cell_type": "code",
      "source": [
        "def get_top_n(lst, N = 5): #sort the list according to the x[1] and return the top N\n",
        "    return sorted(lst, key= lambda x:x[1], reverse=True)[:N]"
      ],
      "metadata": {
        "id": "TBLXj3rWFVDH"
      },
      "execution_count": 32,
      "outputs": []
    },
    {
      "cell_type": "code",
      "source": [
        "# term_total_a = {}\n",
        "\n",
        "# def counterA(row):\n",
        "#   tokens = tokenize(row['text'])\n",
        "#   for token in tokens:\n",
        "#     if token in term_total_a:\n",
        "#       term_total_a[token] = term_total_a[token]+1\n",
        "\n",
        "#     else:\n",
        "#       term_total_a[token] = 1\n",
        "\n",
        "    \n",
        "      \n",
        "\n",
        "# arr2 = doc_text_pairs.map(counterA)\n",
        "\n",
        "\n"
      ],
      "metadata": {
        "id": "BxeHDzx_OfR3"
      },
      "execution_count": 33,
      "outputs": []
    },
    {
      "cell_type": "code",
      "source": [
        "# arr2"
      ],
      "metadata": {
        "id": "0pxL3m2EQK7g"
      },
      "execution_count": 34,
      "outputs": []
    },
    {
      "cell_type": "code",
      "source": [
        "DL = {}\n",
        "\n",
        "\n",
        "\n",
        "\n",
        "def counter(row):\n",
        "  tokens = tokenize(row['text'])\n",
        "  # print(len(tokens))\n",
        "  # DL[row['id']] = len(tokens)\n",
        "  return (row['id'],len(tokens))\n",
        "\n",
        "arr = doc_text_pairs.map(counter)"
      ],
      "metadata": {
        "id": "J6bu2EHuGXBT"
      },
      "execution_count": 35,
      "outputs": []
    },
    {
      "cell_type": "code",
      "source": [
        "DL = arr.collectAsMap()\n",
        "DL"
      ],
      "metadata": {
        "colab": {
          "base_uri": "https://localhost:8080/"
        },
        "id": "9Uytq1xkHPKg",
        "outputId": "be4093f7-a335-4e25-980d-dcf8144c416d"
      },
      "execution_count": 36,
      "outputs": [
        {
          "output_type": "execute_result",
          "data": {
            "text/plain": [
              "{12: 4224,\n",
              " 25: 4301,\n",
              " 39: 1892,\n",
              " 290: 1051,\n",
              " 303: 8360,\n",
              " 305: 4441,\n",
              " 307: 8224,\n",
              " 308: 6309,\n",
              " 309: 1054,\n",
              " 316: 4637,\n",
              " 324: 4503,\n",
              " 330: 262,\n",
              " 332: 249,\n",
              " 334: 701,\n",
              " 336: 3932,\n",
              " 339: 4368,\n",
              " 340: 329,\n",
              " 344: 842,\n",
              " 358: 6840,\n",
              " 359: 2623,\n",
              " 569: 4301,\n",
              " 572: 644,\n",
              " 573: 5029,\n",
              " 579: 448,\n",
              " 580: 476,\n",
              " 586: 3481,\n",
              " 590: 199,\n",
              " 593: 3744,\n",
              " 594: 10307,\n",
              " 595: 5546,\n",
              " 597: 2352,\n",
              " 599: 3273,\n",
              " 600: 5307,\n",
              " 612: 761,\n",
              " 615: 923,\n",
              " 620: 3879,\n",
              " 621: 7135,\n",
              " 624: 7342,\n",
              " 627: 4899,\n",
              " 628: 2619,\n",
              " 630: 379,\n",
              " 632: 640,\n",
              " 633: 3091,\n",
              " 634: 2833,\n",
              " 639: 4118,\n",
              " 640: 1983,\n",
              " 642: 149,\n",
              " 643: 622,\n",
              " 649: 577,\n",
              " 651: 1152,\n",
              " 653: 2969,\n",
              " 655: 2257,\n",
              " 656: 3160,\n",
              " 657: 4681,\n",
              " 659: 1043,\n",
              " 661: 136,\n",
              " 662: 6868,\n",
              " 663: 4581,\n",
              " 664: 2896,\n",
              " 665: 1562,\n",
              " 666: 9509,\n",
              " 670: 2842,\n",
              " 673: 1005,\n",
              " 674: 3800,\n",
              " 675: 413,\n",
              " 676: 3432,\n",
              " 677: 2190,\n",
              " 678: 286,\n",
              " 679: 586,\n",
              " 680: 1820,\n",
              " 681: 1082,\n",
              " 682: 1498,\n",
              " 683: 425,\n",
              " 689: 4626,\n",
              " 690: 3023,\n",
              " 691: 3856,\n",
              " 694: 42,\n",
              " 698: 5137,\n",
              " 700: 7601,\n",
              " 701: 6092,\n",
              " 704: 1134,\n",
              " 705: 708,\n",
              " 706: 1853,\n",
              " 708: 235,\n",
              " 709: 1305,\n",
              " 710: 1523,\n",
              " 711: 2803,\n",
              " 713: 1707,\n",
              " 717: 6447,\n",
              " 728: 651,\n",
              " 734: 1672,\n",
              " 736: 7449,\n",
              " 737: 8373,\n",
              " 738: 9325,\n",
              " 740: 1781,\n",
              " 742: 84,\n",
              " 746: 7802,\n",
              " 748: 2225,\n",
              " 751: 2508,\n",
              " 752: 5447,\n",
              " 764: 318,\n",
              " 765: 4449,\n",
              " 766: 200,\n",
              " 771: 11464,\n",
              " 772: 455,\n",
              " 775: 6173,\n",
              " 777: 379,\n",
              " 779: 76,\n",
              " 780: 1091,\n",
              " 782: 2298,\n",
              " 783: 7987,\n",
              " 784: 843,\n",
              " 785: 1801,\n",
              " 786: 2873,\n",
              " 787: 465,\n",
              " 788: 216,\n",
              " 789: 504,\n",
              " 791: 4340,\n",
              " 794: 219,\n",
              " 795: 599,\n",
              " 798: 2155,\n",
              " 799: 1600,\n",
              " 800: 3160,\n",
              " 801: 25,\n",
              " 802: 5852,\n",
              " 803: 8942,\n",
              " 808: 7531,\n",
              " 809: 364,\n",
              " 824: 3468,\n",
              " 825: 1160,\n",
              " 840: 3040,\n",
              " 841: 2769,\n",
              " 842: 2670,\n",
              " 843: 2833,\n",
              " 844: 7820,\n",
              " 846: 347,\n",
              " 848: 6802,\n",
              " 849: 3092,\n",
              " 851: 1381,\n",
              " 852: 6372,\n",
              " 854: 3173,\n",
              " 856: 12297,\n",
              " 857: 1556,\n",
              " 859: 339,\n",
              " 863: 10514,\n",
              " 864: 5986,\n",
              " 868: 936,\n",
              " 869: 1116,\n",
              " 872: 6650,\n",
              " 874: 7426,\n",
              " 875: 238,\n",
              " 876: 1032,\n",
              " 877: 1133,\n",
              " 878: 2049,\n",
              " 880: 9084,\n",
              " 881: 1130,\n",
              " 885: 158,\n",
              " 887: 2281,\n",
              " 888: 2734,\n",
              " 890: 2311,\n",
              " 892: 267,\n",
              " 894: 2008,\n",
              " 896: 1746,\n",
              " 897: 4761,\n",
              " 898: 2643,\n",
              " 899: 1770,\n",
              " 900: 3079,\n",
              " 901: 2893,\n",
              " 902: 4901,\n",
              " 903: 1233,\n",
              " 904: 4924,\n",
              " 905: 779,\n",
              " 909: 2491,\n",
              " 910: 107,\n",
              " 911: 331,\n",
              " 914: 1344,\n",
              " 915: 542,\n",
              " 921: 352,\n",
              " 922: 2945,\n",
              " 924: 2053,\n",
              " 925: 347,\n",
              " 928: 2074,\n",
              " 929: 487,\n",
              " 930: 1529,\n",
              " 931: 4424,\n",
              " 933: 270,\n",
              " 951: 2267,\n",
              " 953: 314,\n",
              " 954: 4608,\n",
              " 956: 1879,\n",
              " 957: 903,\n",
              " 958: 2785,\n",
              " 960: 1122,\n",
              " 966: 134,\n",
              " 967: 1440,\n",
              " 969: 1966,\n",
              " 974: 3283,\n",
              " 980: 2308,\n",
              " 981: 6012,\n",
              " 983: 3270,\n",
              " 984: 5782,\n",
              " 986: 2193,\n",
              " 988: 502,\n",
              " 991: 1278,\n",
              " 993: 281,\n",
              " 994: 110,\n",
              " 1000: 3980,\n",
              " 1002: 1897,\n",
              " 1004: 2212,\n",
              " 1005: 1777,\n",
              " 1006: 2145,\n",
              " 1008: 3374,\n",
              " 1009: 3104,\n",
              " 1010: 3075,\n",
              " 1011: 2862,\n",
              " 1012: 2961,\n",
              " 1013: 3046,\n",
              " 1014: 1670,\n",
              " 1016: 2176,\n",
              " 1017: 5719,\n",
              " 1018: 577,\n",
              " 1019: 2663,\n",
              " 1020: 2140,\n",
              " 1021: 346,\n",
              " 1022: 3406,\n",
              " 1023: 4810,\n",
              " 1027: 2839,\n",
              " 1028: 4906,\n",
              " 1029: 4012,\n",
              " 1030: 2633,\n",
              " 1032: 1159,\n",
              " 1036: 467,\n",
              " 1038: 7597,\n",
              " 1043: 90,\n",
              " 1046: 118,\n",
              " 1049: 462,\n",
              " 1051: 1949,\n",
              " 1055: 1487,\n",
              " 1057: 861,\n",
              " 1058: 1424,\n",
              " 1063: 1324,\n",
              " 1064: 2668,\n",
              " 1069: 1017,\n",
              " 1070: 482,\n",
              " 1072: 296,\n",
              " 1074: 269,\n",
              " 1078: 11300,\n",
              " 1081: 2333,\n",
              " 1082: 894,\n",
              " 1087: 3654,\n",
              " 1088: 3622,\n",
              " 1091: 579,\n",
              " 1092: 1967,\n",
              " 1093: 789,\n",
              " 1094: 6273,\n",
              " 1096: 982,\n",
              " 1097: 3043,\n",
              " 1098: 6382,\n",
              " 1110: 421,\n",
              " 1111: 292,\n",
              " 1112: 399,\n",
              " 1129: 2765,\n",
              " 1130: 4763,\n",
              " 1132: 4999,\n",
              " 1134: 1344,\n",
              " 1135: 1610,\n",
              " 1136: 92,\n",
              " 1140: 2398,\n",
              " 1141: 11098,\n",
              " 1143: 2317,\n",
              " 1144: 1337,\n",
              " 1146: 1759,\n",
              " 1148: 6841,\n",
              " 1152: 2197,\n",
              " 1154: 3065,\n",
              " 1155: 405,\n",
              " 1158: 648,\n",
              " 1160: 633,\n",
              " 1162: 3644,\n",
              " 1164: 5272,\n",
              " 1166: 984,\n",
              " 1167: 2092,\n",
              " 1168: 2599,\n",
              " 1169: 250,\n",
              " 1170: 1612,\n",
              " 1171: 1843,\n",
              " 1174: 5236,\n",
              " 1175: 2778,\n",
              " 1176: 146,\n",
              " 1177: 6603,\n",
              " 1178: 5787,\n",
              " 1181: 890,\n",
              " 1182: 4724,\n",
              " 1183: 1647,\n",
              " 1184: 92,\n",
              " 1187: 3175,\n",
              " 1192: 715,\n",
              " 1193: 2503,\n",
              " 1194: 132,\n",
              " 1196: 2625,\n",
              " 1197: 155,\n",
              " 1198: 1938,\n",
              " 1200: 520,\n",
              " 1201: 3177,\n",
              " 1202: 554,\n",
              " 1203: 4785,\n",
              " 1206: 4352,\n",
              " 1207: 3234,\n",
              " 1208: 4562,\n",
              " 1209: 2131,\n",
              " 1210: 2159,\n",
              " 1212: 582,\n",
              " 1213: 1398,\n",
              " 1214: 7826,\n",
              " 1216: 7319,\n",
              " 1217: 2198,\n",
              " 1223: 284,\n",
              " 1227: 719,\n",
              " 1234: 326,\n",
              " 1235: 1784,\n",
              " 1239: 7644,\n",
              " 1241: 1565,\n",
              " 1242: 2742,\n",
              " 1247: 1221,\n",
              " 1252: 2924,\n",
              " 1254: 3648,\n",
              " 1256: 3210,\n",
              " 1259: 2934,\n",
              " 1260: 2029,\n",
              " 1261: 2642,\n",
              " 1264: 1146,\n",
              " 1267: 1218,\n",
              " 1270: 3647,\n",
              " 1271: 1581,\n",
              " 1273: 8421,\n",
              " 1274: 1318,\n",
              " 1279: 918,\n",
              " 1285: 1106,\n",
              " 1286: 934,\n",
              " 1288: 2731,\n",
              " 1291: 1993,\n",
              " 1293: 897,\n",
              " 1298: 2766,\n",
              " 1300: 1996,\n",
              " 1301: 721,\n",
              " 1303: 481,\n",
              " 1304: 224,\n",
              " 1305: 1234,\n",
              " 1306: 2785,\n",
              " 1307: 1382,\n",
              " 1309: 525,\n",
              " 1313: 760,\n",
              " 1315: 2134,\n",
              " 1316: 2535,\n",
              " 1317: 2456,\n",
              " 1322: 1288,\n",
              " 1324: 834,\n",
              " 1325: 2352,\n",
              " 1327: 1148,\n",
              " 1331: 497,\n",
              " 1332: 2795,\n",
              " 1333: 3203,\n",
              " 1334: 3265,\n",
              " 1335: 887,\n",
              " 1336: 442,\n",
              " 1338: 4374,\n",
              " 1344: 1560,\n",
              " 1346: 3421,\n",
              " 1347: 4977,\n",
              " 1348: 4531,\n",
              " 1349: 1057,\n",
              " 1354: 2619,\n",
              " 1356: 99,\n",
              " 1358: 3628,\n",
              " 1359: 652,\n",
              " 1360: 951,\n",
              " 1361: 1967,\n",
              " 1362: 336,\n",
              " 1363: 969,\n",
              " 1365: 5277,\n",
              " 1366: 1131,\n",
              " 1367: 2715,\n",
              " 1368: 4143,\n",
              " 1369: 662,\n",
              " 1370: 4343,\n",
              " 1371: 310,\n",
              " 1372: 2640,\n",
              " 1373: 305,\n",
              " 1374: 764,\n",
              " 1376: 2103,\n",
              " 1380: 652,\n",
              " 1383: 1340,\n",
              " 1384: 3324,\n",
              " 1386: 505,\n",
              " 1387: 1708,\n",
              " 1389: 912,\n",
              " 1391: 110,\n",
              " 1392: 179,\n",
              " 1394: 942,\n",
              " 1395: 4026,\n",
              " 1397: 5029,\n",
              " 1400: 1465,\n",
              " 1404: 261,\n",
              " 1408: 2092,\n",
              " 1409: 382,\n",
              " 1412: 1721,\n",
              " 1416: 2982,\n",
              " 1417: 2053,\n",
              " 1418: 1743,\n",
              " 1419: 2131,\n",
              " 1422: 914,\n",
              " 1423: 3101,\n",
              " 1425: 2751,\n",
              " 1428: 2282,\n",
              " 1433: 533,\n",
              " 1435: 659,\n",
              " 1436: 3257,\n",
              " 1437: 2282,\n",
              " 1438: 1794,\n",
              " 1439: 57,\n",
              " 1440: 1633,\n",
              " 1441: 1320,\n",
              " 1442: 3558,\n",
              " 1445: 1783,\n",
              " 1446: 3943,\n",
              " 1448: 3090,\n",
              " 1449: 1217,\n",
              " 1451: 3682,\n",
              " 1453: 1636,\n",
              " 1456: 2120,\n",
              " 1460: 989,\n",
              " 1461: 7178,\n",
              " 1466: 2764,\n",
              " 1478: 190,\n",
              " 1482: 832,\n",
              " 1484: 285,\n",
              " 1485: 873,\n",
              " 1486: 2340,\n",
              " 1488: 847,\n",
              " 1490: 3052,\n",
              " 1491: 3129,\n",
              " 1494: 6218,\n",
              " 1495: 3887,\n",
              " 1496: 2568,\n",
              " 1497: 2958,\n",
              " 1499: 2774,\n",
              " 1500: 468,\n",
              " 1501: 66,\n",
              " 1504: 257,\n",
              " 1505: 111,\n",
              " 1506: 141,\n",
              " 1507: 72,\n",
              " 1508: 337,\n",
              " 1509: 562,\n",
              " 1513: 586,\n",
              " 1514: 1225,\n",
              " 1519: 3115,\n",
              " 1520: 4407,\n",
              " 1523: 834,\n",
              " 1525: 4008,\n",
              " 1526: 1291,\n",
              " 1527: 1554,\n",
              " 1528: 500,\n",
              " 1529: 1938,\n",
              " 1530: 5969,\n",
              " 1536: 323,\n",
              " 1537: 6521,\n",
              " 1538: 67,\n",
              " 1540: 2021,\n",
              " 1541: 2578,\n",
              " 1542: 1940,\n",
              " 1543: 320,\n",
              " 1544: 2237,\n",
              " 1545: 1138,\n",
              " 1546: 1842,\n",
              " 1547: 34,\n",
              " 1548: 911,\n",
              " 1549: 536,\n",
              " 1550: 2366,\n",
              " 1551: 89,\n",
              " 1552: 253,\n",
              " 1553: 188,\n",
              " 1556: 2396,\n",
              " 1557: 3059,\n",
              " 1558: 3018,\n",
              " 1559: 226,\n",
              " 1560: 2384,\n",
              " 1563: 328,\n",
              " 1564: 225,\n",
              " 1565: 146,\n",
              " 1566: 3403,\n",
              " 1567: 433,\n",
              " 1568: 975,\n",
              " 1569: 553,\n",
              " 1570: 2610,\n",
              " 1571: 562,\n",
              " 1573: 2401,\n",
              " 1575: 3669,\n",
              " 1576: 3504,\n",
              " 1577: 1630,\n",
              " 1578: 224,\n",
              " 1579: 662,\n",
              " 1580: 324,\n",
              " 1581: 1297,\n",
              " 1583: 2010,\n",
              " 1585: 232,\n",
              " 1586: 730,\n",
              " 1587: 607,\n",
              " 1588: 154,\n",
              " 1589: 437,\n",
              " 1592: 3227,\n",
              " 1593: 541,\n",
              " 1594: 701,\n",
              " 1595: 749,\n",
              " 1596: 891,\n",
              " 1597: 31,\n",
              " 1599: 1059,\n",
              " 1600: 1824,\n",
              " 1601: 2133,\n",
              " 1602: 103,\n",
              " 1603: 76,\n",
              " 1604: 75,\n",
              " 1605: 182,\n",
              " 1606: 1225,\n",
              " 1607: 28,\n",
              " 1608: 15,\n",
              " 1612: 104,\n",
              " 1613: 2096,\n",
              " 1614: 666,\n",
              " 1615: 387,\n",
              " 1616: 857,\n",
              " 1617: 1066,\n",
              " 1620: 1036,\n",
              " 1623: 10525,\n",
              " 1624: 8070,\n",
              " 1625: 4527,\n",
              " 1627: 6552,\n",
              " 1628: 3249,\n",
              " 1629: 2965,\n",
              " 1633: 1895,\n",
              " 1634: 4920,\n",
              " 1635: 1847,\n",
              " 1637: 132,\n",
              " 1638: 59,\n",
              " 1639: 2872,\n",
              " 1640: 6364,\n",
              " 1642: 856,\n",
              " 1643: 177,\n",
              " 1644: 3446,\n",
              " 1645: 4072,\n",
              " 1647: 382,\n",
              " 1649: 3675,\n",
              " 1650: 859,\n",
              " 1652: 568,\n",
              " 1653: 2389,\n",
              " 1654: 122,\n",
              " 1655: 536,\n",
              " 1656: 377,\n",
              " 1657: 1522,\n",
              " 1658: 336,\n",
              " 1659: 602,\n",
              " 1660: 677,\n",
              " 1661: 752,\n",
              " 1662: 413,\n",
              " 1663: 44,\n",
              " 1664: 435,\n",
              " 1669: 156,\n",
              " 1676: 1311,\n",
              " 1677: 2239,\n",
              " 1679: 1413,\n",
              " 1680: 745,\n",
              " 1683: 251,\n",
              " 1684: 503,\n",
              " 1685: 808,\n",
              " 1686: 1026,\n",
              " 1687: 876,\n",
              " 1688: 1021,\n",
              " 1689: 59,\n",
              " 1690: 607,\n",
              " 1691: 49,\n",
              " 1692: 34,\n",
              " 1694: 22,\n",
              " 1695: 3257,\n",
              " 1696: 17,\n",
              " 1697: 879,\n",
              " 1698: 606,\n",
              " 1700: 211,\n",
              " 1701: 3853,\n",
              " 1702: 224,\n",
              " 1710: 2049,\n",
              " 1711: 2923,\n",
              " 1714: 107,\n",
              " 1715: 3715,\n",
              " 1716: 422,\n",
              " 1717: 575,\n",
              " 1718: 539,\n",
              " 1719: 3159,\n",
              " 1722: 1349,\n",
              " 1723: 620,\n",
              " 1724: 615,\n",
              " 1726: 492,\n",
              " 1727: 1393,\n",
              " 1728: 371,\n",
              " 1729: 155,\n",
              " 1730: 422,\n",
              " 1732: 613,\n",
              " 1734: 719,\n",
              " 1735: 5155,\n",
              " 1737: 1051,\n",
              " 1738: 274,\n",
              " 1740: 116,\n",
              " 1742: 22,\n",
              " 1743: 23,\n",
              " 1746: 481,\n",
              " 1747: 365,\n",
              " 1748: 919,\n",
              " 1749: 456,\n",
              " 1750: 2216,\n",
              " 1751: 236,\n",
              " 1752: 694,\n",
              " 1754: 180,\n",
              " 1755: 2964,\n",
              " 1756: 1725,\n",
              " 1758: 566,\n",
              " 1759: 1346,\n",
              " 1760: 931,\n",
              " 1761: 693,\n",
              " 1762: 1218,\n",
              " 1763: 113,\n",
              " 1764: 168,\n",
              " 1765: 188,\n",
              " 1767: 1099,\n",
              " 1770: 5442,\n",
              " 1773: 3152,\n",
              " 1774: 2970,\n",
              " 1776: 1972,\n",
              " 1777: 2750,\n",
              " 1778: 1317,\n",
              " 1779: 150,\n",
              " 1781: 2906,\n",
              " 1786: 1002,\n",
              " 1787: 3309,\n",
              " 1788: 106,\n",
              " 1789: 928,\n",
              " 1790: 1424,\n",
              " 1791: 3805,\n",
              " 1793: 2812,\n",
              " 1794: 2855,\n",
              " 1797: 1392,\n",
              " 1799: 130,\n",
              " 1800: 1862,\n",
              " 1802: 1282,\n",
              " 1805: 4145,\n",
              " 1806: 7279,\n",
              " 1807: 398,\n",
              " 1810: 221,\n",
              " 1812: 4021,\n",
              " 1814: 4910,\n",
              " 1822: 4122,\n",
              " 1825: 757,\n",
              " 1826: 1862,\n",
              " 1827: 3028,\n",
              " 1828: 4109,\n",
              " 1832: 488,\n",
              " 1834: 1242,\n",
              " 1835: 680,\n",
              " 1837: 1271,\n",
              " 1839: 871,\n",
              " 1840: 549,\n",
              " 1841: 4824,\n",
              " 1842: 2379,\n",
              " 1844: 3330,\n",
              " 1845: 5202,\n",
              " 1847: 942,\n",
              " 1851: 570,\n",
              " 1853: 589,\n",
              " 1854: 2459,\n",
              " 1857: 3288,\n",
              " 1859: 7626,\n",
              " 1862: 3190,\n",
              " 1864: 1875,\n",
              " 1866: 391,\n",
              " 1869: 1186,\n",
              " 1870: 196,\n",
              " 1871: 1334,\n",
              " 1872: 1634,\n",
              " 1873: 278,\n",
              " 1874: 1060,\n",
              " 1875: 618,\n",
              " 1878: 525,\n",
              " 1879: 419,\n",
              " 1880: 220,\n",
              " 1881: 7309,\n",
              " 1884: 2639,\n",
              " 1887: 195,\n",
              " 1890: 3514,\n",
              " 1893: 1243,\n",
              " 1894: 176,\n",
              " 1896: 664,\n",
              " 1897: 3389,\n",
              " 1902: 3212,\n",
              " 1905: 1179,\n",
              " 1908: 304,\n",
              " 1909: 2019,\n",
              " 1910: 2064,\n",
              " 1911: 691,\n",
              " 1912: 926,\n",
              " 1913: 36,\n",
              " 1914: 4932,\n",
              " 1915: 1137,\n",
              " 1916: 434,\n",
              " 1919: 50,\n",
              " 1920: 425,\n",
              " 1921: 8483,\n",
              " 1923: 973,\n",
              " 1924: 571,\n",
              " 1925: 2517,\n",
              " 1926: 1023,\n",
              " 1927: 985,\n",
              " 1928: 65,\n",
              " 1930: 6332,\n",
              " 1931: 157,\n",
              " 1933: 952,\n",
              " 1934: 1353,\n",
              " 1935: 75,\n",
              " 1937: 2649,\n",
              " 1938: 5940,\n",
              " 1939: 1001,\n",
              " 1940: 270,\n",
              " 1941: 344,\n",
              " 1942: 5780,\n",
              " 1943: 2459,\n",
              " 1944: 3954,\n",
              " 1946: 865,\n",
              " 1947: 43,\n",
              " 1948: 1636,\n",
              " 1949: 353,\n",
              " 1950: 11257,\n",
              " 1955: 2250,\n",
              " 1957: 1670,\n",
              " 1960: 216,\n",
              " 1962: 2285,\n",
              " 1963: 1738,\n",
              " 1965: 4934,\n",
              " 1966: 1510,\n",
              " 1967: 3573,\n",
              " 1968: 3942,\n",
              " 1969: 4861,\n",
              " 1970: 4910,\n",
              " 1971: 2781,\n",
              " 1973: 9807,\n",
              " 1974: 2758,\n",
              " 1975: 2548,\n",
              " 1979: 3165,\n",
              " 1980: 4995,\n",
              " 1985: 157,\n",
              " 1986: 677,\n",
              " 1988: 1633,\n",
              " 1990: 3408,\n",
              " 1991: 23,\n",
              " 1994: 240,\n",
              " 1997: 3309,\n",
              " 1998: 9043,\n",
              " 2003: 975,\n",
              " 2004: 222,\n",
              " 2006: 7719,\n",
              " 2007: 4195,\n",
              " 2009: 3182,\n",
              " 2011: 6041,\n",
              " 2014: 240,\n",
              " 2015: 1062,\n",
              " 2017: 1958,\n",
              " 2018: 1720,\n",
              " 2019: 988,\n",
              " 2020: 757,\n",
              " 2021: 469,\n",
              " 2023: 2943,\n",
              " 2024: 636,\n",
              " 2025: 515,\n",
              " 2027: 759,\n",
              " 2028: 85,\n",
              " 2029: 2499,\n",
              " 2030: 6640,\n",
              " 2032: 1824,\n",
              " 2037: 1545,\n",
              " 2038: 227,\n",
              " 2039: 1644,\n",
              " 2041: 1747,\n",
              " 2042: 3042,\n",
              " 2047: 2833,\n",
              " 2049: 980,\n",
              " 2052: 1666,\n",
              " 2053: 1783,\n",
              " 2061: 2538,\n",
              " 2062: 2717,\n",
              " 2063: 673,\n",
              " 2064: 1711,\n",
              " 2065: 4088,\n",
              " 2067: 3999,\n",
              " 2070: 2919,\n",
              " 2075: 2825,\n",
              " 2076: 2006,\n",
              " 2077: 896,\n",
              " 2078: 5307,\n",
              " 2080: 1312,\n",
              " 2082: 1080,\n",
              " 2083: 1109,\n",
              " 2084: 2057,\n",
              " 2085: 9741,\n",
              " 2086: 317,\n",
              " 2087: 492,\n",
              " 2088: 4121,\n",
              " 2089: 1203,\n",
              " 2093: 209,\n",
              " 2099: 391,\n",
              " 2100: 1645,\n",
              " 2101: 3340,\n",
              " 2102: 2088,\n",
              " 2103: 4169,\n",
              " 2104: 778,\n",
              " 2106: 517,\n",
              " 2108: 1024,\n",
              " 2110: 710,\n",
              " 2112: 1425,\n",
              " 2113: 906,\n",
              " 2114: 2621,\n",
              " 2115: 3195,\n",
              " 2116: 3884,\n",
              " 2117: 2139,\n",
              " 2118: 2119,\n",
              " 2120: 259,\n",
              " 2122: 4122,\n",
              " 2123: 97,\n",
              " 2125: 226,\n",
              " 2126: 3021,\n",
              " 2127: 74,\n",
              " 2129: 1335,\n",
              " 2130: 3467,\n",
              " 2134: 2613,\n",
              " 2136: 985,\n",
              " 2137: 1660,\n",
              " 2138: 76,\n",
              " 2139: 181,\n",
              " 2140: 7088,\n",
              " 2141: 4865,\n",
              " 2142: 867,\n",
              " 2144: 5805,\n",
              " 2147: 2060,\n",
              " 2148: 5099,\n",
              " 2151: 534,\n",
              " 2152: 2406,\n",
              " 2154: 8470,\n",
              " 2161: 340,\n",
              " 2162: 4214,\n",
              " 2163: 288,\n",
              " 2166: 945,\n",
              " 2167: 1413,\n",
              " 2170: 223,\n",
              " 2171: 960,\n",
              " 2174: 4693,\n",
              " 2175: 11703,\n",
              " 2176: 6127,\n",
              " 2178: 4182,\n",
              " 2179: 1097,\n",
              " 2180: 1850,\n",
              " 2185: 8035,\n",
              " 2186: 1088,\n",
              " 2187: 2638,\n",
              " 2192: 2535,\n",
              " 2193: 721,\n",
              " 2194: 5880,\n",
              " 2195: 2262,\n",
              " 2196: 2051,\n",
              " 2197: 2784,\n",
              " 2198: 492,\n",
              " 2201: 902,\n",
              " 2202: 1562,\n",
              " 2204: 3147,\n",
              " 2207: 1187,\n",
              " 2208: 2150,\n",
              " 2209: 57,\n",
              " 2210: 4125,\n",
              " 2215: 3547,\n",
              " 2216: 5491,\n",
              " 2217: 3663,\n",
              " 2218: 1739,\n",
              " 2219: 5328,\n",
              " 2221: 1873,\n",
              " 2222: 2566,\n",
              " 2224: 2900,\n",
              " 2226: 1429,\n",
              " 2230: 1471,\n",
              " 2233: 1336,\n",
              " 2234: 2082,\n",
              " 2235: 241,\n",
              " 2236: 2016,\n",
              " 2237: 1238,\n",
              " 2238: 864,\n",
              " 2241: 4293,\n",
              " 2244: 746,\n",
              " 2245: 748,\n",
              " 2246: 5118,\n",
              " 2250: 1454,\n",
              " 2251: 683,\n",
              " 2257: 5774,\n",
              " 2268: 984,\n",
              " 2273: 5761,\n",
              " 2274: 3026,\n",
              " 2275: 1833,\n",
              " 2279: 3020,\n",
              " 2282: 1197,\n",
              " 2284: 809,\n",
              " 2286: 2668,\n",
              " 2287: 1478,\n",
              " 2288: 944,\n",
              " 2289: 2753,\n",
              " 2296: 2463,\n",
              " 2299: 1219,\n",
              " 2303: 5783,\n",
              " 2304: 403,\n",
              " 2308: 6077,\n",
              " 2310: 3184,\n",
              " 2313: 612,\n",
              " 2314: 2039,\n",
              " 2315: 3375,\n",
              " 2316: 1247,\n",
              " 2319: 15,\n",
              " 2321: 4193,\n",
              " 2322: 556,\n",
              " 2323: 853,\n",
              " 2326: 2689,\n",
              " 2328: 2583,\n",
              " 2329: 127,\n",
              " 2330: 463,\n",
              " 2331: 118,\n",
              " 2332: 442,\n",
              " 2333: 851,\n",
              " 2335: 726,\n",
              " 2338: 2175,\n",
              " 2339: 1003,\n",
              " 2340: 316,\n",
              " 2341: 2354,\n",
              " 2343: 1109,\n",
              " 2345: 1616,\n",
              " 2346: 616,\n",
              " 2348: 2551,\n",
              " 2349: 2131,\n",
              " 2357: 5022,\n",
              " 2358: 4786,\n",
              " 2360: 357,\n",
              " 2362: 4348,\n",
              " 2363: 984,\n",
              " 2369: 4492,\n",
              " 2371: 1748,\n",
              " 2372: 247,\n",
              " 2376: 1700,\n",
              " 2377: 4462,\n",
              " 2380: 2865,\n",
              " 2381: 150,\n",
              " 2382: 6176,\n",
              " 2383: 783,\n",
              " 2384: 785,\n",
              " 2386: 3315,\n",
              " 2388: 4273,\n",
              " 2389: 328,\n",
              " 2391: 800,\n",
              " 2392: 1345,\n",
              " 2393: 4826,\n",
              " 2395: 2928,\n",
              " 2396: 2375,\n",
              " 2397: 3598,\n",
              " 2398: 851,\n",
              " 2400: 5258,\n",
              " 2402: 3297,\n",
              " 2403: 4106,\n",
              " 2405: 1329,\n",
              " 2406: 1485,\n",
              " 2408: 1799,\n",
              " 2411: 3243,\n",
              " 2414: 1574,\n",
              " 2416: 1756,\n",
              " 2417: 2127,\n",
              " 2418: 2892,\n",
              " 2421: 18,\n",
              " 2422: 2865,\n",
              " 2425: 5712,\n",
              " 2427: 794,\n",
              " 2428: 3481,\n",
              " 2429: 108,\n",
              " 2431: 1514,\n",
              " 2433: 1767,\n",
              " 2439: 2152,\n",
              " 2440: 1300,\n",
              " 2441: 402,\n",
              " 2443: 1039,\n",
              " 2444: 2325,\n",
              " 2447: 3113,\n",
              " 2448: 488,\n",
              " 2452: 184,\n",
              " 2457: 3872}"
            ]
          },
          "metadata": {},
          "execution_count": 36
        }
      ]
    },
    {
      "cell_type": "code",
      "source": [
        "import math\n",
        "def query_get_top_N_tfidf(inverted_index, query_to_search, N = 5):\n",
        "    \"\"\"\n",
        "\n",
        "    Args:\n",
        "        query_to_search:\n",
        "        index:\n",
        "\n",
        "    Returns:\n",
        "\n",
        "    \"\"\"\n",
        "    \n",
        "\n",
        "    # for embedding in query_to_search:\n",
        "    #   print(embedding)\n",
        "\n",
        "    result = {}  # result[doc_id] = score\n",
        "    epsilon = .0000001\n",
        "    counter = Counter(query_to_search)\n",
        "    DL_length = len(DL)\n",
        "    query_length = len(query_to_search)\n",
        "\n",
        "    for token in np.unique(query_to_search):\n",
        "        # print(token)\n",
        "        # print(inverted_index.df.keys())\n",
        "        if token in inverted_index.df.keys():  # avoid terms that do not appear in the index.\n",
        "            tf = counter[token] / query_length  #term frequency divded by the length of the query\n",
        "            df = inverted_index.df[token]\n",
        "            idf = math.log((DL_length) / (df + epsilon), 10)  #todo ass4 -> make save DL in memory We save a dictionary named DL, which fetches the document length of each document.\n",
        "            docs = posting_lists_reader(inverted_index,token) #will return the list of docs, from byte to  [(doc_id:int, tf:int), ...]\n",
        "            Q = tf*idf\n",
        "\n",
        "            # print()\n",
        "            for doc_id, doc_tf in docs:\n",
        "                D = (doc_tf / DL[doc_id]) * math.log(DL_length / inverted_index.df[token], 10)\n",
        "                tfidf = D*Q\n",
        "                result[doc_id] = result.get(doc_id, 0) + tfidf\n",
        "\n",
        "    return get_top_n(result.items(),N)"
      ],
      "metadata": {
        "id": "BUAFbcq0FnRt"
      },
      "execution_count": 37,
      "outputs": []
    },
    {
      "cell_type": "code",
      "source": [
        "#this is word embeding רשת נוירונים \n",
        "from gensim.models import Word2Vec\n",
        "word2vTraining = [['best','air','jordan','hello', 'marvel', 'movie', 'How', 'do', 'kids', 'come', 'to', 'world', 'Information', 'retrieval', 'LinkedIn', 'How', 'to', 'make', 'coffee', 'Ritalin', 'What', 'is', 'the', 'best', 'way', 'to', 'invest', 'money', 'How', 'to', 'lose', 'weight', 'fast', 'What', 'is', 'the', 'best', 'way', 'to', 'improve', 'my', 'memory', 'How', 'to', 'improve', 'my', 'mental', 'health', 'What', 'is', 'the', 'best', 'way', 'to', 'improve', 'my', 'relationships', 'How', 'to', 'improve', 'my', 'communication', 'skills']]\n",
        "# word2vTraining.append(\"air\")\n",
        "model = Word2Vec(word2vTraining, min_count=0, alpha=0.01)\n",
        "model.save(\"word2vec.bin\")\n",
        "model = Word2Vec.load(\"/content/word2vec.bin\")\n"
      ],
      "metadata": {
        "colab": {
          "base_uri": "https://localhost:8080/"
        },
        "id": "pD_ha4Sqs-iX",
        "outputId": "ef8418d2-b2f7-4233-b9a1-5d1c936c7726"
      },
      "execution_count": 38,
      "outputs": [
        {
          "output_type": "stream",
          "name": "stderr",
          "text": [
            "WARNING:gensim.models.base_any2vec:under 10 jobs per worker: consider setting a smaller `batch_words' for smoother alpha decay\n"
          ]
        }
      ]
    },
    {
      "cell_type": "code",
      "source": [
        "from threading import excepthook\n",
        "print(list(model.wv.vocab))\n",
        "\n",
        "def search(query):\n",
        "    ''' Returns up to a 100 of your best search results for the query. This is \n",
        "        the place to put forward your best search engine, and you are free to\n",
        "        implement the retrieval whoever you'd like within the bound of the \n",
        "        project requirements (efficiency, quality, etc.). That means it is up to\n",
        "        you to decide on whether to use stemming, remove stopwords, use \n",
        "        PageRank, query expansion, etc.\n",
        "\n",
        "        To issue a query navigate to a URL like:\n",
        "         http://YOUR_SERVER_DOMAIN/search?query=hello+world\n",
        "        where YOUR_SERVER_DOMAIN is something like XXXX-XX-XX-XX-XX.ngrok.io\n",
        "        if you're using ngrok on Colab or your external IP on GCP.\n",
        "    Returns:\n",
        "    --------\n",
        "        list of up to 100 search results, ordered from best to worst where each \n",
        "        element is a tuple (wiki_id, title).\n",
        "    '''\n",
        "    # res = []\n",
        "    # query = request.args.get('query', '')\n",
        "    # if len(query) == 0:\n",
        "    #   return jsonify(res)\n",
        "    # BEGIN SOLUTION\n",
        "\n",
        "    # print(model)\n",
        "\n",
        "    tokens = tokenize(query.lower())\n",
        "\n",
        "    # embeddings = []\n",
        "\n",
        "    # for w in tokens:\n",
        "    #   p = []\n",
        "    #   try:\n",
        "    #       p=list(model.most_similar(w)[:3])\n",
        "    #   except:\n",
        "    #     print()\n",
        "    #   # if len(p) == 0 :\n",
        "    #   p += [(w,0)]\n",
        "    #   embeddings += p\n",
        "\n",
        "    # embeddings = list(map(lambda x:x[0], embeddings))\n",
        "    # print(embeddings)\n",
        "    bestDocs = query_get_top_N_tfidf(inverted,tokens,20)\n",
        "    best = set(map(lambda x:x[0],bestDocs))\n",
        "\n",
        "    filtered_rdd = doc_title_pairs.filter(lambda x: x['id'] in best)\n",
        "\n",
        "    # Extract the titles from the filtered RDD\n",
        "    res = filtered_rdd.map(lambda x: (x['id'],x['title'])).collect()\n",
        "    # res = bestDocs\n",
        "    # print(res)\n",
        "    return res\n",
        "\n"
      ],
      "metadata": {
        "id": "gJFZyVX0FnX5",
        "colab": {
          "base_uri": "https://localhost:8080/"
        },
        "outputId": "71ee8c06-92ab-4f41-986b-2e897060fc66"
      },
      "execution_count": 115,
      "outputs": [
        {
          "output_type": "stream",
          "name": "stdout",
          "text": [
            "['best', 'air', 'jordan', 'hello', 'marvel', 'movie', 'How', 'do', 'kids', 'come', 'to', 'world', 'Information', 'retrieval', 'LinkedIn', 'make', 'coffee', 'Ritalin', 'What', 'is', 'the', 'way', 'invest', 'money', 'lose', 'weight', 'fast', 'improve', 'my', 'memory', 'mental', 'health', 'relationships', 'communication', 'skills']\n"
          ]
        }
      ]
    },
    {
      "cell_type": "code",
      "source": [
        "search(\"apple\")"
      ],
      "metadata": {
        "colab": {
          "base_uri": "https://localhost:8080/"
        },
        "id": "L_QLdl8CFnci",
        "outputId": "07c99ff4-8db0-4e99-8a09-3937981019b4"
      },
      "execution_count": 116,
      "outputs": [
        {
          "output_type": "execute_result",
          "data": {
            "text/plain": [
              "[(308, 'Aristotle'),\n",
              " (653, 'Assistive technology'),\n",
              " (785, 'Asteroids (video game)'),\n",
              " (856, 'Apple Inc.'),\n",
              " (887, 'MessagePad'),\n",
              " (1344, 'Apple I'),\n",
              " (1449, 'Alan Kay'),\n",
              " (1788, 'ABM'),\n",
              " (1955, 'Adobe Inc.'),\n",
              " (2100, 'Applesoft BASIC'),\n",
              " (2114, 'IBM AIX'),\n",
              " (2115, 'AppleTalk'),\n",
              " (2116, 'Apple II series'),\n",
              " (2117, 'Apple III'),\n",
              " (2137, 'Aster CT-80'),\n",
              " (2142, 'List of artificial intelligence projects'),\n",
              " (2245, 'Annapolis Valley'),\n",
              " (2251, 'Accusative case'),\n",
              " (2275, 'Apple II'),\n",
              " (2316, 'Audio file format')]"
            ]
          },
          "metadata": {},
          "execution_count": 116
        }
      ]
    },
    {
      "cell_type": "code",
      "source": [
        "from math import log\n",
        "\n",
        "length_docLengths = len(DL) #to run faster one time calculate\n",
        "dl_list =  list(DL.items())\n",
        "dl_list =list(map(lambda x: int(x[1]),dl_list))\n",
        "# print(dl_list)\n",
        "sum_dl = 0\n",
        "for n in dl_list:\n",
        "  sum_dl += n\n",
        "\n",
        "avg_dl = sum_dl / length_docLengths\n",
        "\n",
        "class BM25:\n",
        "    def __init__(self, inverted_index,k1,k3,b):\n",
        "        self.inverted_index = inverted_index\n",
        "        self.doc_lengths = DL\n",
        "        self.N = length_docLengths\n",
        "        self.avgdl = avg_dl\n",
        "        self.b = b\n",
        "        self.k1 = k1\n",
        "        self.k3 = k3\n",
        "\n",
        "    def get_scores(self, tokens):\n",
        "            query_Counter = Counter(tokens)\n",
        "            print(query_Counter)\n",
        "            scores = {}\n",
        "            for term in tokens:\n",
        "                if term not in self.inverted_index.df.keys():\n",
        "                    continue\n",
        "\n",
        "                idf = math.log10((self.N+1)/self.inverted_index.df[term])\n",
        "                posting = posting_lists_reader(self.inverted_index, term)\n",
        "\n",
        "                for doc_id, tf in posting:\n",
        "                  d = self.doc_lengths[doc_id]\n",
        "                  tf_ij = ((self.k1+1)*tf)/((1 - self.b + self.b * d / self.avgdl)*self.k1+tf)\n",
        "                  tf_iq = ((self.k3+1)*query_Counter[term])/(self.k3+query_Counter[term])\n",
        "                  score =  tf_ij* idf  * tf_iq\n",
        "                  if doc_id not in scores:\n",
        "                      scores[doc_id] = 0\n",
        "                  scores[doc_id] += score\n",
        "            return scores\n",
        "\n",
        "\n",
        "def bm25(inverted_index,tokens,k1,k3,b,N):\n",
        "  b = b \n",
        "  bm = BM25(inverted_index,k1,k3,b)\n",
        "  result = bm.get_scores(tokens)\n",
        "  return get_top_n(list(result.items()),N),\n",
        "\n",
        "  \n",
        "\n",
        "\n",
        "\n",
        "    \n"
      ],
      "metadata": {
        "id": "4mYkOtYxFnil"
      },
      "execution_count": 112,
      "outputs": []
    },
    {
      "cell_type": "code",
      "source": [
        "# bm25(\"house\")\n",
        "\n",
        "query = \"apple company\"\n",
        "tokens = tokenize(query)\n",
        "k1 = 0.5\n",
        "k2 = 0.5\n",
        "b = 0.5\n",
        "bestDocs = bm25(inverted,tokens,k1,k2,b,10)\n",
        "print(bestDocs)\n",
        "best = set(map(lambda x:x[0],bestDocs[0]))\n",
        "print(best)"
      ],
      "metadata": {
        "colab": {
          "base_uri": "https://localhost:8080/"
        },
        "id": "96gRcMrIjziu",
        "outputId": "d5723e23-47dd-4511-fc34-c1ff79482167"
      },
      "execution_count": 113,
      "outputs": [
        {
          "output_type": "stream",
          "name": "stdout",
          "text": [
            "Counter({'apple': 1, 'company': 1})\n",
            "([(856, 2.730262304515795), (2116, 2.6795735469221853), (1344, 2.675220626505635), (2117, 2.654053765509328), (2275, 2.6524619330469896), (1955, 2.601393256557506), (887, 2.5480722878793403), (1980, 2.488381813683913), (2100, 2.473726938748926), (2137, 2.46702713528526)],)\n",
            "{1344, 2275, 2116, 2117, 1955, 2100, 887, 856, 2137, 1980}\n"
          ]
        }
      ]
    },
    {
      "cell_type": "markdown",
      "metadata": {
        "id": "I2oCcQwP5zS_"
      },
      "source": [
        "## PageRank"
      ]
    },
    {
      "cell_type": "markdown",
      "metadata": {
        "id": "U9gMGQIohFOz"
      },
      "source": [
        "In this section, your task is to compute PageRank for wiki articles using the anchor text we extracted from the MediaWiki markdown. Let's select the 'id' and 'anchor_text' fields into a new RDD:"
      ]
    }
  ],
  "metadata": {
    "colab": {
      "provenance": []
    },
    "kernelspec": {
      "display_name": "Python 3",
      "language": "python",
      "name": "python3"
    },
    "language_info": {
      "codemirror_mode": {
        "name": "ipython",
        "version": 3
      },
      "file_extension": ".py",
      "mimetype": "text/x-python",
      "name": "python",
      "nbconvert_exporter": "python",
      "pygments_lexer": "ipython3",
      "version": "3.7.6"
    }
  },
  "nbformat": 4,
  "nbformat_minor": 0
}