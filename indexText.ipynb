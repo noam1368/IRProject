{
  "cells": [
    {
      "cell_type": "markdown",
      "metadata": {
        "id": "view-in-github",
        "colab_type": "text"
      },
      "source": [
        "<a href=\"https://colab.research.google.com/github/noam1368/IRProject/blob/main/indexText.ipynb\" target=\"_parent\"><img src=\"https://colab.research.google.com/assets/colab-badge.svg\" alt=\"Open In Colab\"/></a>"
      ]
    },
    {
      "cell_type": "markdown",
      "id": "4aace43e",
      "metadata": {
        "id": "4aace43e"
      },
      "source": [
        "<a href=\"https://colab.research.google.com/github/noam1368/IRProject/blob/main/indexText.ipynb\" target=\"_parent\"><img src=\"https://colab.research.google.com/assets/colab-badge.svg\" alt=\"Open In Colab\"/></a>"
      ]
    },
    {
      "cell_type": "markdown",
      "id": "3cb61452",
      "metadata": {
        "id": "3cb61452"
      },
      "source": [
        "<a href=\"https://colab.research.google.com/github/noam1368/IRProject/blob/main/indexTitle.ipynb\" target=\"_parent\"><img src=\"https://colab.research.google.com/assets/colab-badge.svg\" alt=\"Open In Colab\"/></a>"
      ]
    },
    {
      "cell_type": "markdown",
      "id": "a00e032c",
      "metadata": {
        "id": "a00e032c"
      },
      "source": [
        "***Important*** DO NOT CLEAR THE OUTPUT OF THIS NOTEBOOK AFTER EXECUTION!!!"
      ]
    },
    {
      "cell_type": "code",
      "execution_count": null,
      "id": "5ac36d3a",
      "metadata": {
        "colab": {
          "base_uri": "https://localhost:8080/"
        },
        "id": "5ac36d3a",
        "nbgrader": {
          "grade": false,
          "grade_id": "cell-Worker_Count",
          "locked": true,
          "schema_version": 3,
          "solution": false,
          "task": false
        },
        "outputId": "a0ca7a50-2b2f-46b1-98fe-2ebc40b38c5c"
      },
      "outputs": [
        {
          "name": "stdout",
          "output_type": "stream",
          "text": [
            "NAME          PLATFORM  WORKER_COUNT  PREEMPTIBLE_WORKER_COUNT  STATUS   ZONE           SCHEDULED_DELETE\r\n",
            "cluster-42f1  GCE       3                                       RUNNING  us-central1-c\r\n"
          ]
        }
      ],
      "source": [
        "# if the following command generates an error, you probably didn't enable \n",
        "# the cluster security option \"Allow API access to all Google Cloud services\"\n",
        "# under Manage Security → Project Access when setting up the cluster\n",
        "!gcloud dataproc clusters list --region us-central1"
      ]
    },
    {
      "cell_type": "markdown",
      "id": "51cf86c5",
      "metadata": {
        "id": "51cf86c5"
      },
      "source": [
        "# Imports & Setup"
      ]
    },
    {
      "cell_type": "code",
      "execution_count": null,
      "id": "bf199e6a",
      "metadata": {
        "id": "bf199e6a",
        "nbgrader": {
          "grade": false,
          "grade_id": "cell-Setup",
          "locked": true,
          "schema_version": 3,
          "solution": false,
          "task": false
        },
        "outputId": "381c187e-ffd3-4d8f-cda5-ed3bbb512472"
      },
      "outputs": [
        {
          "name": "stdout",
          "output_type": "stream",
          "text": [
            "\u001b[33mWARNING: Running pip as the 'root' user can result in broken permissions and conflicting behaviour with the system package manager. It is recommended to use a virtual environment instead: https://pip.pypa.io/warnings/venv\u001b[0m\u001b[33m\n",
            "\u001b[0m\u001b[33mWARNING: Running pip as the 'root' user can result in broken permissions and conflicting behaviour with the system package manager. It is recommended to use a virtual environment instead: https://pip.pypa.io/warnings/venv\u001b[0m\u001b[33m\n",
            "\u001b[0m"
          ]
        }
      ],
      "source": [
        "!pip install -q google-cloud-storage==1.43.0\n",
        "!pip install -q graphframes"
      ]
    },
    {
      "cell_type": "code",
      "execution_count": null,
      "id": "7f-q_ZXOPObJ",
      "metadata": {
        "id": "7f-q_ZXOPObJ",
        "outputId": "09a8a438-1037-47a9-d9a6-9a9015a1c4d5"
      },
      "outputs": [
        {
          "name": "stdout",
          "output_type": "stream",
          "text": [
            "Requirement already satisfied: nltk==3.7 in /opt/conda/miniconda3/lib/python3.8/site-packages (3.7)\n",
            "Requirement already satisfied: joblib in /opt/conda/miniconda3/lib/python3.8/site-packages (from nltk==3.7) (1.2.0)\n",
            "Requirement already satisfied: click in /opt/conda/miniconda3/lib/python3.8/site-packages (from nltk==3.7) (7.1.2)\n",
            "Requirement already satisfied: regex>=2021.8.3 in /opt/conda/miniconda3/lib/python3.8/site-packages (from nltk==3.7) (2022.10.31)\n",
            "Requirement already satisfied: tqdm in /opt/conda/miniconda3/lib/python3.8/site-packages (from nltk==3.7) (4.64.1)\n",
            "\u001b[33mWARNING: Running pip as the 'root' user can result in broken permissions and conflicting behaviour with the system package manager. It is recommended to use a virtual environment instead: https://pip.pypa.io/warnings/venv\u001b[0m\u001b[33m\n",
            "\u001b[0mNote: you may need to restart the kernel to use updated packages.\n"
          ]
        }
      ],
      "source": [
        "pip install nltk==3.7"
      ]
    },
    {
      "cell_type": "code",
      "execution_count": null,
      "id": "d8f56ecd",
      "metadata": {
        "id": "d8f56ecd",
        "nbgrader": {
          "grade": false,
          "grade_id": "cell-Imports",
          "locked": true,
          "schema_version": 3,
          "solution": false,
          "task": false
        },
        "outputId": "ef4f985e-7f1b-465c-ec53-ade8eb86eb71"
      },
      "outputs": [
        {
          "name": "stderr",
          "output_type": "stream",
          "text": [
            "[nltk_data] Downloading package stopwords to /root/nltk_data...\n",
            "[nltk_data]   Unzipping corpora/stopwords.zip.\n"
          ]
        },
        {
          "data": {
            "text/plain": [
              "True"
            ]
          },
          "execution_count": 4,
          "metadata": {},
          "output_type": "execute_result"
        }
      ],
      "source": [
        "#remove mark\n",
        "import pyspark\n",
        "import sys\n",
        "from collections import Counter, OrderedDict, defaultdict\n",
        "import itertools\n",
        "from itertools import islice, count, groupby\n",
        "import pandas as pd\n",
        "import os\n",
        "import re\n",
        "from operator import itemgetter\n",
        "import nltk\n",
        "from nltk.stem.porter import *\n",
        "from nltk.corpus import stopwords\n",
        "from time import time\n",
        "from pathlib import Path\n",
        "import pickle\n",
        "import pandas as pd\n",
        "from google.cloud import storage\n",
        "\n",
        "import hashlib\n",
        "def _hash(s):\n",
        "    return hashlib.blake2b(bytes(s, encoding='utf8'), digest_size=5).hexdigest()\n",
        "\n",
        "nltk.download('stopwords')"
      ]
    },
    {
      "cell_type": "code",
      "execution_count": null,
      "id": "38a897f2",
      "metadata": {
        "id": "38a897f2",
        "nbgrader": {
          "grade": false,
          "grade_id": "cell-jar",
          "locked": true,
          "schema_version": 3,
          "solution": false,
          "task": false
        },
        "outputId": "a385f065-bdc9-457b-dadb-4667a36a68d4"
      },
      "outputs": [
        {
          "name": "stdout",
          "output_type": "stream",
          "text": [
            "ls: cannot access '/usr/lib/spark/jars/graph*': No such file or directory\r\n"
          ]
        }
      ],
      "source": [
        "#remove mark\n",
        "\n",
        "# if nothing prints here you forgot to include the initialization script when starting the cluster\n",
        "!ls -l /usr/lib/spark/jars/graph*"
      ]
    },
    {
      "cell_type": "code",
      "execution_count": null,
      "id": "47900073",
      "metadata": {
        "id": "47900073",
        "nbgrader": {
          "grade": false,
          "grade_id": "cell-pyspark-import",
          "locked": true,
          "schema_version": 3,
          "solution": false,
          "task": false
        }
      },
      "outputs": [],
      "source": [
        "#remove mark\n",
        "\n",
        "from pyspark.sql import *\n",
        "from pyspark.sql.functions import *\n",
        "from pyspark import SparkContext, SparkConf, SparkFiles\n",
        "from pyspark.sql import SQLContext\n",
        "from graphframes import *"
      ]
    },
    {
      "cell_type": "code",
      "execution_count": null,
      "id": "72bed56b",
      "metadata": {
        "colab": {
          "base_uri": "https://localhost:8080/",
          "height": 222
        },
        "id": "72bed56b",
        "nbgrader": {
          "grade": false,
          "grade_id": "cell-spark-version",
          "locked": true,
          "schema_version": 3,
          "solution": false,
          "task": false
        },
        "outputId": "35e305e8-4eab-4fd2-9c7c-7a8c8d29ec22",
        "scrolled": true
      },
      "outputs": [
        {
          "data": {
            "text/html": [
              "\n",
              "            <div>\n",
              "                <p><b>SparkSession - hive</b></p>\n",
              "                \n",
              "        <div>\n",
              "            <p><b>SparkContext</b></p>\n",
              "\n",
              "            <p><a href=\"http://cluster-42f1-m.c.assignment-3-370813.internal:46101\">Spark UI</a></p>\n",
              "\n",
              "            <dl>\n",
              "              <dt>Version</dt>\n",
              "                <dd><code>v3.1.3</code></dd>\n",
              "              <dt>Master</dt>\n",
              "                <dd><code>yarn</code></dd>\n",
              "              <dt>AppName</dt>\n",
              "                <dd><code>PySparkShell</code></dd>\n",
              "            </dl>\n",
              "        </div>\n",
              "        \n",
              "            </div>\n",
              "        "
            ],
            "text/plain": [
              "<pyspark.sql.session.SparkSession at 0x7f2e68e91520>"
            ]
          },
          "execution_count": 8,
          "metadata": {},
          "output_type": "execute_result"
        }
      ],
      "source": [
        "spark"
      ]
    },
    {
      "cell_type": "code",
      "execution_count": null,
      "id": "980e62a5",
      "metadata": {
        "id": "980e62a5",
        "nbgrader": {
          "grade": false,
          "grade_id": "cell-bucket_name",
          "locked": false,
          "schema_version": 3,
          "solution": true,
          "task": false
        }
      },
      "outputs": [],
      "source": [
        "# Put your bucket name below and make sure you can access it without an error\n",
        "bucket_name = 'corpus-big' \n",
        "full_path = f\"gs://{bucket_name}/\"\n",
        "paths=[]\n",
        "\n",
        "client = storage.Client()\n",
        "blobs = client.list_blobs(bucket_name)\n",
        "for b in blobs:\n",
        "    if b.name != 'graphframes.sh': #todo change when we want to run on the original corpuse\n",
        "        paths.append(full_path+b.name)\n",
        "\n",
        "\n",
        "# #just for the training\n",
        "# bucket_name = 'training_little_corpus'   \n",
        "# full_path = f\"gs://{bucket_name}/\"\n",
        "\n",
        "# paths = []\n",
        "# client = storage.Client()\n",
        "# blobs = client.list_blobs(bucket_name)\n",
        "# for b in blobs:\n",
        "#     if b.name != '_SUCCESS' and b.name != 'indexTitle.parquet/': #todo change when we want to run on the original corpuse\n",
        "#         paths.append(full_path+b.name)\n",
        "\n",
        "\n",
        "\n",
        "# Just needed in case you'd like to append it to an array\n",
        "# paths = []\n",
        "\n",
        "# local_download_path = \"/content/new_training_bucket2.parquet\"\n",
        "# for filename in os.listdir(local_download_path):\n",
        "#   paths.append(filename)\n",
        "#   print(filename)"
      ]
    },
    {
      "cell_type": "markdown",
      "id": "cac891c2",
      "metadata": {
        "id": "cac891c2"
      },
      "source": [
        "***GCP setup is complete!*** If you got here without any errors you've earned 10 out of the 35 points of this part."
      ]
    },
    {
      "cell_type": "markdown",
      "id": "582c3f5e",
      "metadata": {
        "id": "582c3f5e"
      },
      "source": [
        "# Building an inverted index"
      ]
    },
    {
      "cell_type": "markdown",
      "id": "481f2044",
      "metadata": {
        "id": "481f2044"
      },
      "source": [
        "Here, we read the entire corpus to an rdd, directly from Google Storage Bucket and use your code from Colab to construct an inverted index."
      ]
    },
    {
      "cell_type": "code",
      "execution_count": null,
      "id": "e4c523e7",
      "metadata": {
        "id": "e4c523e7",
        "scrolled": false,
        "outputId": "256386e3-084b-44d3-c95a-6ccde0b85313"
      },
      "outputs": [
        {
          "name": "stderr",
          "output_type": "stream",
          "text": [
            "                                                                                \r"
          ]
        }
      ],
      "source": [
        "parquetFile = spark.read.parquet(*paths)\n",
        "doc_text_pairs = parquetFile.select(\"text\", \"id\").rdd #this is with text becuase we doint the inverted index for the title in this file "
      ]
    },
    {
      "cell_type": "markdown",
      "id": "0d7e2971",
      "metadata": {
        "id": "0d7e2971"
      },
      "source": [
        "We will count the number of pages to make sure we are looking at the entire corpus. The number of pages should be more than 6M"
      ]
    },
    {
      "cell_type": "code",
      "execution_count": null,
      "id": "82881fbf",
      "metadata": {
        "id": "82881fbf",
        "outputId": "754b3eb1-8844-4fe9-82ca-09b11dda10c0"
      },
      "outputs": [
        {
          "name": "stderr",
          "output_type": "stream",
          "text": [
            "                                                                                \r"
          ]
        },
        {
          "data": {
            "text/plain": [
              "6348910"
            ]
          },
          "execution_count": 11,
          "metadata": {},
          "output_type": "execute_result"
        }
      ],
      "source": [
        "# Count number of wiki pages\n",
        "parquetFile.count()"
      ]
    },
    {
      "cell_type": "markdown",
      "id": "701811af",
      "metadata": {
        "id": "701811af"
      },
      "source": [
        "Let's import the inverted index module. Note that you need to use the staff-provided version called `inverted_index_gcp.py`, which contains helper functions to writing and reading the posting files similar to the Colab version, but with writing done to a Google Cloud Storage bucket."
      ]
    },
    {
      "cell_type": "code",
      "execution_count": null,
      "id": "121fe102",
      "metadata": {
        "id": "121fe102",
        "outputId": "327fe81b-80f4-4b3a-8894-e74720d92e35"
      },
      "outputs": [
        {
          "name": "stdout",
          "output_type": "stream",
          "text": [
            "inverted_index_gcp.py\r\n"
          ]
        }
      ],
      "source": [
        "# if nothing prints here you forgot to upload the file inverted_index_gcp.py to the home dir\n",
        "%cd -q /home/dataproc\n",
        "!ls inverted_index_gcp.py"
      ]
    },
    {
      "cell_type": "code",
      "execution_count": null,
      "id": "57c101a8",
      "metadata": {
        "id": "57c101a8",
        "scrolled": true
      },
      "outputs": [],
      "source": [
        "# adding our python module to the cluster\n",
        "sc.addFile(\"/home/dataproc/inverted_index_gcp.py\")\n",
        "sys.path.insert(0,SparkFiles.getRootDirectory())"
      ]
    },
    {
      "cell_type": "code",
      "execution_count": null,
      "id": "c259c402",
      "metadata": {
        "id": "c259c402"
      },
      "outputs": [],
      "source": [
        "from inverted_index_gcp import InvertedIndex"
      ]
    },
    {
      "cell_type": "markdown",
      "id": "5540c727",
      "metadata": {
        "id": "5540c727"
      },
      "source": [
        "**YOUR TASK (10 POINTS)**: Use your implementation of `word_count`, `reduce_word_counts`, `calculate_df`, and `partition_postings_and_write` functions from Colab to build an inverted index for all of English Wikipedia in under 2 hours.\n",
        "\n",
        "A few notes: \n",
        "1. The number of corpus stopwords below is a bit bigger than the colab version since we are working on the whole corpus and not just on one file.\n",
        "2. You need to slightly modify your implementation of  `partition_postings_and_write` because the signature of `InvertedIndex.write_a_posting_list` has changed and now includes an additional argument called `bucket_name` for the target bucket. See the module for more details.\n",
        "3. You are not allowed to change any of the code not coming from Colab. "
      ]
    },
    {
      "cell_type": "code",
      "execution_count": null,
      "id": "f3ad8fea",
      "metadata": {
        "id": "f3ad8fea",
        "nbgrader": {
          "grade": false,
          "grade_id": "cell-token2bucket",
          "locked": false,
          "schema_version": 3,
          "solution": true,
          "task": false
        }
      },
      "outputs": [],
      "source": [
        "english_stopwords = frozenset(stopwords.words('english'))\n",
        "corpus_stopwords = [\"category\", \"references\", \"also\", \"external\", \"links\", \n",
        "                    \"may\", \"first\", \"see\", \"history\", \"people\", \"one\", \"two\", \n",
        "                    \"part\", \"thumb\", \"including\", \"second\", \"following\", \n",
        "                    \"many\", \"however\", \"would\", \"became\"]\n",
        "\n",
        "all_stopwords = english_stopwords.union(corpus_stopwords) #to remark\n",
        "\n",
        "################################################################################################################ we change it becuase nltk lib didn't work so we won't relate on it for now\n",
        "# all_stopwords = corpus_stopwords \n",
        "################################################################################################################\n",
        "RE_WORD = re.compile(r\"\"\"[\\#\\@\\w](['\\-]?\\w){2,24}\"\"\", re.UNICODE)\n",
        "\n",
        "NUM_BUCKETS = 124\n",
        "def token2bucket_id(token):\n",
        "  return int(_hash(token),16) % NUM_BUCKETS\n",
        "\n",
        "# PLACE YOUR CODE HERE\n",
        "def word_count(text, id):\n",
        "  ''' Count the frequency of each word in `text` (tf) that is not included in \n",
        "  `all_stopwords` and return entries that will go into our posting lists. \n",
        "  Parameters:\n",
        "  -----------\n",
        "    text: str\n",
        "      Text of one document\n",
        "    id: int\n",
        "      Document id\n",
        "  Returns:\n",
        "  --------\n",
        "    List of tuples\n",
        "      A list of (token, (doc_id, tf)) pairs \n",
        "      for example: [(\"Anarchism\", (12, 5)), ...]\n",
        "  '''\n",
        "  tokens = [token.group() for token in RE_WORD.finditer(text.lower())]\n",
        "  # YOUR CODE HERE\n",
        "  hash={}\n",
        "\n",
        "\n",
        "  for word in tokens:\n",
        "    if word in all_stopwords:\n",
        "      continue\n",
        "    if word in hash:\n",
        "      hash[word] = (id, hash[word][1]+1)\n",
        "    else:\n",
        "      hash[word] = (id,1)\n",
        "\n",
        "\n",
        "  return list(hash.items())\n",
        "\n",
        "\n",
        "def reduce_word_counts(unsorted_pl):\n",
        "  ''' Returns a sorted posting list by wiki_id.\n",
        "  Parameters:\n",
        "  -----------\n",
        "    unsorted_pl: list of tuples\n",
        "      A list of (wiki_id, tf) tuples \n",
        "  Returns:\n",
        "  --------\n",
        "    list of tuples\n",
        "      A sorted posting list.\n",
        "  '''\n",
        "  # YOUR CODE HERE\n",
        "  return sorted(unsorted_pl, key = lambda x:x[0])\n",
        "\n",
        "\n",
        "def calculate_df(postings):\n",
        "  ''' Takes a posting list RDD and calculate the df for each token.\n",
        "  Parameters:\n",
        "  -----------\n",
        "    postings: RDD\n",
        "      An RDD where each element is a (token, posting_list) pair.\n",
        "  Returns:\n",
        "  --------\n",
        "    RDD\n",
        "      An RDD where each element is a (token, df) pair.\n",
        "  '''\n",
        "  # YOUR CODE HERE\n",
        "\n",
        "  return postings.map( lambda x: (x[0], len(x[1])) )\n",
        "\n",
        "\n",
        "\n",
        "def partition_postings_and_write(postings):\n",
        "  ''' A function that partitions the posting lists into buckets, writes out \n",
        "  all posting lists in a bucket to disk, and returns the posting locations for \n",
        "  each bucket. Partitioning should be done through the use of `token2bucket` \n",
        "  above. Writing to disk should use the function  `write_a_posting_list`, a \n",
        "  static method implemented in inverted_index_colab.py under the InvertedIndex \n",
        "  class. \n",
        "  Parameters:\n",
        "  -----------\n",
        "    postings: RDD\n",
        "      An RDD where each item is a (w, posting_list) pair.\n",
        "  Returns:\n",
        "  --------\n",
        "    RDD\n",
        "      An RDD where each item is a posting locations dictionary for a bucket. The\n",
        "      posting locations maintain a list for each word of file locations and \n",
        "      offsets its posting list was written to. See `write_a_posting_list` for \n",
        "      more details.\n",
        "  '''\n",
        "  # YOUR CODE HERE\n",
        "  result = postings.map(lambda x: (token2bucket_id(x[0]),x)).groupByKey().map(lambda item: InvertedIndex.write_a_posting_list(item,bucket_name))  \n",
        "  return result\n"
      ]
    },
    {
      "cell_type": "code",
      "execution_count": null,
      "id": "55c8764e",
      "metadata": {
        "id": "55c8764e",
        "nbgrader": {
          "grade": false,
          "grade_id": "cell-index_construction",
          "locked": false,
          "schema_version": 3,
          "solution": true,
          "task": false
        },
        "outputId": "df23f808-cf79-4e3b-e0de-0cdc8ebbf2c1"
      },
      "outputs": [
        {
          "name": "stderr",
          "output_type": "stream",
          "text": [
            "[Stage 5:===>                                                    (8 + 12) / 124]\r"
          ]
        }
      ],
      "source": [
        "# time the index creation time\n",
        "t_start = time()\n",
        "# word counts map\n",
        "word_counts = doc_text_pairs.flatMap(lambda x: word_count(x[0], x[1]))\n",
        "postings = word_counts.groupByKey().mapValues(reduce_word_counts)\n",
        "# filtering postings and calculate df\n",
        "postings_filtered = postings.filter(lambda x: len(x[1])>50)\n",
        "w2df = calculate_df(postings_filtered)\n",
        "w2df_dict = w2df.collectAsMap()\n",
        "# partition posting lists and write out\n",
        "_ = partition_postings_and_write(postings_filtered).collect()\n",
        "index_const_time = time() - t_start"
      ]
    },
    {
      "cell_type": "code",
      "execution_count": null,
      "id": "3dbc0e14",
      "metadata": {
        "id": "3dbc0e14",
        "nbgrader": {
          "grade": true,
          "grade_id": "cell-index_const_time",
          "locked": true,
          "points": 10,
          "schema_version": 3,
          "solution": false,
          "task": false
        }
      },
      "outputs": [],
      "source": [
        "# test index construction time\n",
        "assert index_const_time < 60*120"
      ]
    },
    {
      "cell_type": "code",
      "execution_count": null,
      "id": "ab3296f4",
      "metadata": {
        "id": "ab3296f4",
        "nbgrader": {
          "grade": true,
          "grade_id": "collect-posting",
          "locked": true,
          "points": 0,
          "schema_version": 3,
          "solution": false,
          "task": false
        }
      },
      "outputs": [],
      "source": [
        "# collect all posting lists locations into one super-set\n",
        "super_posting_locs = defaultdict(list)\n",
        "for blob in client.list_blobs(bucket_name, prefix='indexTitle'):\n",
        "  if not blob.name.endswith(\"pickle\"):\n",
        "    continue\n",
        "  with blob.open(\"rb\") as f:\n",
        "    posting_locs = pickle.load(f)\n",
        "    for k, v in posting_locs.items():\n",
        "      super_posting_locs[k].extend(v)"
      ]
    },
    {
      "cell_type": "markdown",
      "id": "f6f66e3a",
      "metadata": {
        "id": "f6f66e3a"
      },
      "source": [
        "Putting it all together"
      ]
    },
    {
      "cell_type": "code",
      "execution_count": null,
      "id": "a5d2cfb6",
      "metadata": {
        "id": "a5d2cfb6",
        "outputId": "8013c008-1260-4cca-ba4f-0d80c8a1be92"
      },
      "outputs": [
        {
          "name": "stdout",
          "output_type": "stream",
          "text": [
            "CommandException: No URLs matched: indexTitle.pkl\r\n"
          ]
        }
      ],
      "source": [
        "#check why not working and remark\n",
        "\n",
        "\n",
        "# Create inverted index instance\n",
        "inverted = InvertedIndex()\n",
        "# Adding the posting locations dictionary to the inverted index\n",
        "inverted.posting_locs = super_posting_locs\n",
        "# Add the token - df dictionary to the inverted index\n",
        "inverted.df = w2df_dict\n",
        "# write the global stats out\n",
        "inverted.write_index('.', 'indexTitle')\n",
        "# upload to gs\n",
        "index_src = \"indexTitles.pkl\"\n",
        "index_dst = f'gs://\"indexes-my-proj\"/{index_src}'\n",
        "!gsutil cp $index_src $index_dst"
      ]
    },
    {
      "cell_type": "code",
      "execution_count": null,
      "id": "8d377f65",
      "metadata": {
        "id": "8d377f65",
        "outputId": "cd838a55-8339-4230-f663-7a3775f535e1"
      },
      "outputs": [
        {
          "name": "stderr",
          "output_type": "stream",
          "text": [
            "                                                                                \r"
          ]
        }
      ],
      "source": [
        "# index_src = \"indexText.parquet\" #this is writing the new corpus to a bucket in gcp\n",
        "# index_dst = f'gs://{bucket_name}/{index_src}'\n",
        "# parquetFile.write.parquet(index_dst)"
      ]
    },
    {
      "cell_type": "code",
      "execution_count": null,
      "id": "8f880d59",
      "metadata": {
        "id": "8f880d59",
        "nbgrader": {
          "grade": false,
          "grade_id": "cell-index_dst_size",
          "locked": true,
          "schema_version": 3,
          "solution": false,
          "task": false
        },
        "outputId": "16393771-3ebc-4dcb-dc07-64faebfe6d11"
      },
      "outputs": [
        {
          "name": "stdout",
          "output_type": "stream",
          "text": [
            " 18.45 MiB  2022-12-08T06:53:07Z  gs://209206846/postings_gcp/index.pkl\r\n",
            "TOTAL: 1 objects, 19342106 bytes (18.45 MiB)\r\n"
          ]
        }
      ],
      "source": [
        "# !gsutil ls -lh $index_dst"
      ]
    },
    {
      "cell_type": "code",
      "execution_count": null,
      "id": "e8f682c1",
      "metadata": {
        "id": "e8f682c1",
        "outputId": "371c4855-5bea-45ef-a52c-db23416a8468"
      },
      "outputs": [
        {
          "name": "stdout",
          "output_type": "stream",
          "text": [
            "+--------------------+--------+\n",
            "|                text|      id|\n",
            "+--------------------+--------+\n",
            "|'''Irvine''' () i...| 5201333|\n",
            "|'''Lenore Skenazy...| 6236554|\n",
            "|\"'''Vitamin R (Le...| 6281833|\n",
            "|'''More''' is an ...| 5892113|\n",
            "|thumb|German coff...| 6332026|\n",
            "|thumb| 200px |An ...|   21652|\n",
            "|The '''Apple III'...|    2117|\n",
            "| \n",
            "\n",
            "'''Luanda''' (...|   18402|\n",
            "| \n",
            "\n",
            "'''Frankfurt''...|   10992|\n",
            "|thumb|upright=1.3...|   30861|\n",
            "|thumb|Overview of...|   16389|\n",
            "|'''432 Park Avenu...|34374079|\n",
            "|'''Cold brew''' g...|49099835|\n",
            "|The '''Saturn Awa...|48530084|\n",
            "|+ List of awards ...|49016960|\n",
            "|thumb|Avocado toa...|53350936|\n",
            "|thumb|Professor R...|52342272|\n",
            "|'''Richard''' \"''...|51759111|\n",
            "|thumbtime=30|thum...|51430647|\n",
            "|'''Novartis Inter...|  159284|\n",
            "+--------------------+--------+\n",
            "only showing top 20 rows\n",
            "\n"
          ]
        }
      ],
      "source": [
        "doc_text_pairs.toDF().show()"
      ]
    },
    {
      "cell_type": "code",
      "execution_count": null,
      "id": "c9ecbed6",
      "metadata": {
        "id": "c9ecbed6"
      },
      "outputs": [],
      "source": []
    }
  ],
  "metadata": {
    "celltoolbar": "Create Assignment",
    "colab": {
      "provenance": [],
      "include_colab_link": true
    },
    "kernelspec": {
      "display_name": "PySpark",
      "language": "python",
      "name": "pyspark"
    },
    "language_info": {
      "codemirror_mode": {
        "name": "ipython",
        "version": 3
      },
      "file_extension": ".py",
      "mimetype": "text/x-python",
      "name": "python",
      "nbconvert_exporter": "python",
      "pygments_lexer": "ipython3",
      "version": "3.8.15"
    }
  },
  "nbformat": 4,
  "nbformat_minor": 5
}